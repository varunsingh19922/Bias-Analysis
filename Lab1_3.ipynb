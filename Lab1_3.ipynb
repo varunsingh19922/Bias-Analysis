{
 "cells": [
  {
   "cell_type": "markdown",
   "id": "30cbcc51",
   "metadata": {},
   "source": [
    "ConceptNet and Ethics Testing\n",
    "- Varun Singh<br>\n"
   ]
  },
  {
   "cell_type": "markdown",
   "id": "318ecb95",
   "metadata": {},
   "source": [
    "# Contents \n",
    "\n",
    "#### Overview\n",
    "\n",
    "#### Research Questions and Hypothesys of report\n",
    "#### Bias mitigation using different classifiers and embeddings\n",
    "#### Results and Conclusions\n",
    "#### What Next ???\n",
    "#### Results and Conclusions"
   ]
  },
  {
   "cell_type": "markdown",
   "id": "b5416f0c",
   "metadata": {},
   "source": [
    "# Overview \n",
    "\n",
    "\n",
    "##### Present an overview for what type of bias you will be investigating and why the particular investigation you will be doing is relevant. \n",
    "This Project report is intended to continue the investigation of racial bias, work done by Dr. Robyn Speer, in a text sentiment analyser, which is an NLP task. I want to explore what improvements can be made on top of her work to reduce the bias in Machine Learning or any other AI applications like a sentiment analyser in NLP. Dr Robyn improved upon existing word embeddings by creating ConceptNet Numberbatch. I want to explore if I can use ConceptNet and other embeddings like GloVe with better modelling to further improve the situation and hope to find a way to reduce bias in sentiment analysis using Machine Learning or Deep Learning models. \n",
    "\n",
    "I want to investigate if there is a better modelling technique(Dr Speer used SGD classifier) out there which can be used to reduce the impact of racial bias in sentiment analysis, and look for a way to further reduce bias from models. \n",
    "\n",
    "I am hoping to change this one other variable in the sentiment analysis task of NLP. I started this project by first running through and studying Dr. Speer's code, used the same SGD classifier used by her. I decided to use this SGD classifier on Glove Embeddings, ConceptNet Numberbatch and Glove Twitter Embeddings to have a diverse set of inputs and see if there are any major differences between the results of each model.  \n",
    "\n",
    "After going through her code and building models using three different embeddings, I moved on to build a classifier using a simple feed forward neural network and then used BERT(Bidirectional Encoder Representations from Transformers) created by Google in 2018. \n",
    "\n",
    "The goal of this report is to investigate multiple approaches to the modelling section. And to look for a better Machine Learning or Deep Learning model which helps us mitigate bias. As Dr. Speer pointed out, same statement about people with different names should not have a different sentiment. I want to further investigate and find a better classifier and use it on Dr. Speer's embeddings and few others. She used a better embedding to help and reduce bias while doing sentiment analysis, I am going to look for a better and more advanced modelling technique and then compare the results of the models using 3 different embeddings. \n",
    "\n",
    "##### You might consider asking questions like: Why is it important to find this kind of bias in machine learning models? Why will the type of investigation I am performing be relevant to other researchers or practitioners? \n",
    "I want to continue Dr Speer's investigation of racial bias in Machine Learning models. I used the same way of evaluating models and measuring bias as the one in the instructors notebook. But as a fun experiment, after building models in the report, I also asked the model to analyse sentiments of different sentences which touched topics like jobs in the computer science industry, religious statements, Harry Potter, and some common political ideologies. I want to use the same metrics as Dr. Speer and improve upon modelling. Sentences such as \"Lets have mexican food\" and \"Lets have italian food\" should have the same sentiment. \n",
    "\n",
    "I look for differences in statements like \"I am a python programmer\" and \"I am a java programmer\", \"I am Republican\" and \"I am a Democrat\", etc. to make sure the sentiment of the statements does not differ.  \n"
   ]
  },
  {
   "cell_type": "markdown",
   "id": "65517171",
   "metadata": {},
   "source": [
    "# Research Questions and Hypothesis of report\n",
    "##### Present one or more research questions that you will be answering and explain the methods that you will employ to answer these research questions. Present a hypothesis as part of your research questions. \n",
    "Inspired by one of the ideas I found looking at the details of this ethics and ConceptNet lab was to \"investigate better methods of sentiment modeling (perhaps using a recurrent network or transformer).\" And I liked the idea of exploring modelling techniques to reduce bias in NLP. My objective is to understand if bias persists using more advanced modeling, or even if it reduces. \n",
    "\n"
   ]
  },
  {
   "cell_type": "markdown",
   "id": "1f9617eb",
   "metadata": {},
   "source": [
    "# Bias mitigation using different classifiers and embeddings \n",
    "##### As part of your assignment, you will choose a methodology that involves comparing two (or more) techniques to one another. Discuss how you will measure a difference between the two techniques. \n",
    "I have one set of models from the ConceptNet Notebook discussed in class, the one with SGD modelling. I want to use two more modelling techniques for the classification of words into positive or negative sentiment categories based on the data we receive from the lexicons(https://www.cs.uic.edu/~liub/FBS/sentiment-analysis.html#lexicon) and the models we create using different word embeddings, and then compare all the three. \n",
    "\n",
    "I want to use the same metrics used in the instructors notebook. I will compare models for accuracy of predictions on unseen data and also look and compare the embeddings regarding bias. I will use the same data/sentiment visualization technique and try to focus on the results and its interpretation. I feel these tests are appropriate, on top of this we will also look at how different statements look like sentiment-wise, where the only difference between them would be things like religious or political belief, which should not be a deciding factors in determining sentiment of a statement. These statements do not have any difference sentiment-wise, and modeling is the most important step in sentiment analysis, NLP. So I want to look at other modeling techniques which are better at sentiment analysis.    \n",
    "\n",
    "## Embeddings \n",
    "\n",
    "I used three different embeddings for this project to make sure the data is from diverse sources on the internet. \n",
    "GloVe embeddings have been trained on data from common websites. \n",
    "Twitter GloVe embeddings (glove.twitter.27B.200d) is an embedding built upon data from the website X.com(or twitter).\n",
    "ConceptNet Numberbatch is Dr. Speer's own project, an embedding that she created.   "
   ]
  },
  {
   "cell_type": "markdown",
   "id": "04ca3fee",
   "metadata": {},
   "source": [
    "# Analysis and Model training. "
   ]
  },
  {
   "cell_type": "markdown",
   "id": "adaf97aa",
   "metadata": {},
   "source": [
    "##### SGD Classifier and GloVe Embeddings"
   ]
  },
  {
   "cell_type": "markdown",
   "id": "77c5b113",
   "metadata": {},
   "source": [
    "This, first part of modelling, using SGD classifier, contains the exact same code as provided by Dr. Larson at https://github.com/8000net/LectureNotesMaster/blob/master/01%20ConceptNet.ipynb. I was first studying the entire notebook, so, I decided to run all of that code, and used it on the GloVe Embeddings to create a model and carry out sentiment analysis of text and try to invesigate racial bias in the embeddings. \n",
    "\n",
    "Then I did the same with Twitter GloVe embedding and ConceptNet Numberbatch. "
   ]
  },
  {
   "cell_type": "markdown",
   "id": "eba6648f",
   "metadata": {},
   "source": [
    "Starting with the SGD classifier. I then used feedforward neural network and then BERT transformer to train three models for each of the modeling techniques, using GloVe embeddings, then GloVe twitter embeddings and finally ConceptNet Numberbatch. \n",
    "\n",
    "Throughout this project the source of lexicons is the same. https://www.cs.uic.edu/~liub/FBS/sentiment-analysis.html#lexicon\n",
    "\n",
    "I have used the same, \"path of least resistance\", and continue to measure sentiment of a statement by averaging the score of individual words. And same visuals and metrics to compare the performance of each of the 9 models. \n"
   ]
  },
  {
   "cell_type": "code",
   "execution_count": 2,
   "id": "f8e6f87b",
   "metadata": {},
   "outputs": [],
   "source": [
    "import numpy as np\n",
    "import pandas as pd\n",
    "import matplotlib\n",
    "import seaborn\n",
    "import re\n",
    "\n",
    "from sklearn.linear_model import SGDClassifier\n",
    "from sklearn.model_selection import train_test_split\n",
    "from sklearn.metrics import accuracy_score"
   ]
  },
  {
   "cell_type": "code",
   "execution_count": 3,
   "id": "93f55089",
   "metadata": {},
   "outputs": [],
   "source": [
    "# Configure how graphs will show up in this notebook\n",
    "%matplotlib inline\n",
    "seaborn.set_context('notebook', rc={'figure.figsize': (10, 6)}, font_scale=1.5)"
   ]
  },
  {
   "cell_type": "code",
   "execution_count": 4,
   "id": "e59855f9",
   "metadata": {},
   "outputs": [
    {
     "data": {
      "text/plain": [
       "(2196017, 300)"
      ]
     },
     "execution_count": 4,
     "metadata": {},
     "output_type": "execute_result"
    }
   ],
   "source": [
    "def load_embeddings(filename):\n",
    "    \"\"\"\n",
    "    Load a DataFrame from the generalized text format used by word2vec, GloVe,\n",
    "    fastText, and ConceptNet Numberbatch. The main point where they differ is\n",
    "    whether there is an initial line with the dimensions of the matrix.\n",
    "    \"\"\"\n",
    "    labels = []\n",
    "    rows = []\n",
    "    with open(filename, encoding='utf-8') as infile:\n",
    "        for i, line in enumerate(infile):\n",
    "            items = line.rstrip().split(' ')\n",
    "            if len(items) == 2:\n",
    "                # This is a header row giving the shape of the matrix\n",
    "                continue\n",
    "            labels.append(items[0])\n",
    "            values = np.array([float(x) for x in items[1:]], 'f')\n",
    "            rows.append(values)\n",
    "    \n",
    "    arr = np.vstack(rows)\n",
    "    return pd.DataFrame(arr, index=labels, dtype='f')\n",
    "\n",
    "embeddings = load_embeddings('data/glove.840B.300d.txt')\n",
    "embeddings.shape"
   ]
  },
  {
   "cell_type": "code",
   "execution_count": 5,
   "id": "d3c87963",
   "metadata": {},
   "outputs": [
    {
     "name": "stdout",
     "output_type": "stream",
     "text": [
      "2006 4783\n"
     ]
    }
   ],
   "source": [
    "def load_lexicon(filename):\n",
    "    \"\"\"\n",
    "    Load a file from Bing Liu's sentiment lexicon\n",
    "    (https://www.cs.uic.edu/~liub/FBS/sentiment-analysis.html), containing\n",
    "    English words in Latin-1 encoding.\n",
    "    \n",
    "    One file contains a list of positive words, and the other contains\n",
    "    a list of negative words. The files contain comment lines starting\n",
    "    with ';' and blank lines, which should be skipped.\n",
    "    \"\"\"\n",
    "    lexicon = []\n",
    "    with open(filename, encoding='latin-1') as infile:\n",
    "        for line in infile:\n",
    "            line = line.rstrip()\n",
    "            if line and not line.startswith(';'):\n",
    "                lexicon.append(line)\n",
    "    return lexicon\n",
    "\n",
    "pos_words = load_lexicon('data/positive-words.txt')\n",
    "neg_words = load_lexicon('data/negative-words.txt')\n",
    "\n",
    "print(len(pos_words), len(neg_words))"
   ]
  },
  {
   "cell_type": "code",
   "execution_count": 6,
   "id": "842c7f6b",
   "metadata": {},
   "outputs": [
    {
     "name": "stdout",
     "output_type": "stream",
     "text": [
      "(1974, 300) (4642, 300)\n"
     ]
    }
   ],
   "source": [
    "pos_words_common = list(set(pos_words) & set(embeddings.index)) \n",
    "neg_words_common = list(set(neg_words) & set(embeddings.index)) \n",
    "\n",
    "pos_vectors = embeddings.loc[pos_words_common]\n",
    "neg_vectors = embeddings.loc[neg_words_common]\n",
    "print(pos_vectors.shape,neg_vectors.shape)"
   ]
  },
  {
   "cell_type": "code",
   "execution_count": 7,
   "id": "d159354e",
   "metadata": {},
   "outputs": [],
   "source": [
    "vectors = pd.concat([pos_vectors, neg_vectors])\n",
    "targets = np.array([1 for entry in pos_vectors.index] + [-1 for entry in neg_vectors.index])\n",
    "labels = list(pos_vectors.index) + list(neg_vectors.index)"
   ]
  },
  {
   "cell_type": "code",
   "execution_count": 8,
   "id": "ee7cad79",
   "metadata": {},
   "outputs": [],
   "source": [
    "train_vectors, test_vectors, train_targets, test_targets, train_labels, test_labels = \\\n",
    "    train_test_split(vectors, targets, labels, test_size=0.1, random_state=0)"
   ]
  },
  {
   "cell_type": "code",
   "execution_count": 9,
   "id": "a0b83d34",
   "metadata": {},
   "outputs": [
    {
     "data": {
      "text/plain": [
       "0.9380664652567976"
      ]
     },
     "execution_count": 9,
     "metadata": {},
     "output_type": "execute_result"
    }
   ],
   "source": [
    "# create a linear classifier \n",
    "model = SGDClassifier(loss='log', random_state=0, max_iter=100)\n",
    "model.fit(train_vectors, train_targets)\n",
    "accuracy_score(model.predict(test_vectors), test_targets)"
   ]
  },
  {
   "cell_type": "code",
   "execution_count": 10,
   "id": "9fb1f772",
   "metadata": {},
   "outputs": [
    {
     "data": {
      "text/html": [
       "<div>\n",
       "<style scoped>\n",
       "    .dataframe tbody tr th:only-of-type {\n",
       "        vertical-align: middle;\n",
       "    }\n",
       "\n",
       "    .dataframe tbody tr th {\n",
       "        vertical-align: top;\n",
       "    }\n",
       "\n",
       "    .dataframe thead th {\n",
       "        text-align: right;\n",
       "    }\n",
       "</style>\n",
       "<table border=\"1\" class=\"dataframe\">\n",
       "  <thead>\n",
       "    <tr style=\"text-align: right;\">\n",
       "      <th></th>\n",
       "      <th>sentiment</th>\n",
       "    </tr>\n",
       "  </thead>\n",
       "  <tbody>\n",
       "    <tr>\n",
       "      <th>overtaxed</th>\n",
       "      <td>-8.310951</td>\n",
       "    </tr>\n",
       "    <tr>\n",
       "      <th>oasis</th>\n",
       "      <td>7.170863</td>\n",
       "    </tr>\n",
       "    <tr>\n",
       "      <th>mordantly</th>\n",
       "      <td>-3.120541</td>\n",
       "    </tr>\n",
       "    <tr>\n",
       "      <th>loner</th>\n",
       "      <td>-7.185905</td>\n",
       "    </tr>\n",
       "    <tr>\n",
       "      <th>reasonable</th>\n",
       "      <td>5.655787</td>\n",
       "    </tr>\n",
       "    <tr>\n",
       "      <th>invincible</th>\n",
       "      <td>4.035353</td>\n",
       "    </tr>\n",
       "    <tr>\n",
       "      <th>easy</th>\n",
       "      <td>10.116657</td>\n",
       "    </tr>\n",
       "    <tr>\n",
       "      <th>drained</th>\n",
       "      <td>-7.979698</td>\n",
       "    </tr>\n",
       "    <tr>\n",
       "      <th>hates</th>\n",
       "      <td>-8.681746</td>\n",
       "    </tr>\n",
       "    <tr>\n",
       "      <th>foolishly</th>\n",
       "      <td>-7.118260</td>\n",
       "    </tr>\n",
       "    <tr>\n",
       "      <th>delinquency</th>\n",
       "      <td>-8.305291</td>\n",
       "    </tr>\n",
       "    <tr>\n",
       "      <th>ineffective</th>\n",
       "      <td>-13.525332</td>\n",
       "    </tr>\n",
       "    <tr>\n",
       "      <th>knowledgeable</th>\n",
       "      <td>14.464994</td>\n",
       "    </tr>\n",
       "    <tr>\n",
       "      <th>suspicion</th>\n",
       "      <td>-10.750042</td>\n",
       "    </tr>\n",
       "    <tr>\n",
       "      <th>worrier</th>\n",
       "      <td>-6.545551</td>\n",
       "    </tr>\n",
       "    <tr>\n",
       "      <th>undermined</th>\n",
       "      <td>-7.231873</td>\n",
       "    </tr>\n",
       "    <tr>\n",
       "      <th>falsely</th>\n",
       "      <td>-6.562913</td>\n",
       "    </tr>\n",
       "    <tr>\n",
       "      <th>heedless</th>\n",
       "      <td>-12.331961</td>\n",
       "    </tr>\n",
       "    <tr>\n",
       "      <th>indecisive</th>\n",
       "      <td>-10.037388</td>\n",
       "    </tr>\n",
       "    <tr>\n",
       "      <th>mightily</th>\n",
       "      <td>-2.397331</td>\n",
       "    </tr>\n",
       "  </tbody>\n",
       "</table>\n",
       "</div>"
      ],
      "text/plain": [
       "               sentiment\n",
       "overtaxed      -8.310951\n",
       "oasis           7.170863\n",
       "mordantly      -3.120541\n",
       "loner          -7.185905\n",
       "reasonable      5.655787\n",
       "invincible      4.035353\n",
       "easy           10.116657\n",
       "drained        -7.979698\n",
       "hates          -8.681746\n",
       "foolishly      -7.118260\n",
       "delinquency    -8.305291\n",
       "ineffective   -13.525332\n",
       "knowledgeable  14.464994\n",
       "suspicion     -10.750042\n",
       "worrier        -6.545551\n",
       "undermined     -7.231873\n",
       "falsely        -6.562913\n",
       "heedless      -12.331961\n",
       "indecisive    -10.037388\n",
       "mightily       -2.397331"
      ]
     },
     "execution_count": 10,
     "metadata": {},
     "output_type": "execute_result"
    }
   ],
   "source": [
    "def vecs_to_sentiment(vecs):\n",
    "    # predict_log_proba gives the log probability for each class\n",
    "    predictions = model.predict_log_proba(vecs)\n",
    "\n",
    "    # To see an overall positive vs. negative classification in one number,\n",
    "    # we take the log probability of positive sentiment minus the log\n",
    "    # probability of negative sentiment.\n",
    "    # this is a logarithm of the max margin for the classifier, \n",
    "    # similar to odds ratio (but not exact) log(p_1/p_0) = log(p_1)-log(p_0)\n",
    "    return predictions[:, 1] - predictions[:, 0]\n",
    "\n",
    "\n",
    "def words_to_sentiment(words):\n",
    "    vecs = embeddings.loc[words].dropna()\n",
    "    log_odds = vecs_to_sentiment(vecs)\n",
    "    return pd.DataFrame({'sentiment': log_odds}, index=vecs.index)\n",
    "\n",
    "\n",
    "# Show 20 examples from the test set\n",
    "words_to_sentiment(test_labels).iloc[:20]"
   ]
  },
  {
   "cell_type": "code",
   "execution_count": 11,
   "id": "979a3ef0",
   "metadata": {},
   "outputs": [],
   "source": [
    "import re\n",
    "TOKEN_RE = re.compile(r\"\\w.*?\\b\")\n",
    "# The regex above finds tokens that start with a word-like character (\\w), and continues\n",
    "# matching characters (.+?) until the next word break (\\b). It's a relatively simple\n",
    "# expression that manages to extract something very much like words from text.\n",
    "\n",
    "\n",
    "def text_to_sentiment(text):\n",
    "    # tokenize the input phrase\n",
    "    tokens = [token.casefold() for token in TOKEN_RE.findall(text)]\n",
    "    # send each token separately into the embedding, then the classifier\n",
    "    sentiments = words_to_sentiment(tokens)\n",
    "    return sentiments['sentiment'].mean() # return the mean for the classifier"
   ]
  },
  {
   "cell_type": "code",
   "execution_count": 12,
   "id": "a4988180",
   "metadata": {},
   "outputs": [
    {
     "data": {
      "text/plain": [
       "1.025242596222761"
      ]
     },
     "execution_count": 12,
     "metadata": {},
     "output_type": "execute_result"
    }
   ],
   "source": [
    "text_to_sentiment(\"My name is Dr. Larson\")"
   ]
  },
  {
   "cell_type": "code",
   "execution_count": 13,
   "id": "1a63ec0b",
   "metadata": {},
   "outputs": [
    {
     "data": {
      "text/plain": [
       "-0.8138495915589955"
      ]
     },
     "execution_count": 13,
     "metadata": {},
     "output_type": "execute_result"
    }
   ],
   "source": [
    "text_to_sentiment(\"My name is Varun\")"
   ]
  },
  {
   "cell_type": "code",
   "execution_count": 14,
   "id": "b5835fa5",
   "metadata": {},
   "outputs": [
    {
     "data": {
      "text/plain": [
       "0.8536917486122182"
      ]
     },
     "execution_count": 14,
     "metadata": {},
     "output_type": "execute_result"
    }
   ],
   "source": [
    "text_to_sentiment(\"My name is Varun Singh\")"
   ]
  },
  {
   "cell_type": "code",
   "execution_count": 15,
   "id": "1baffc50",
   "metadata": {},
   "outputs": [
    {
     "data": {
      "text/plain": [
       "0.7175070083354125"
      ]
     },
     "execution_count": 15,
     "metadata": {},
     "output_type": "execute_result"
    }
   ],
   "source": [
    "text_to_sentiment(\"My name is Eric\")"
   ]
  },
  {
   "cell_type": "code",
   "execution_count": 16,
   "id": "19f6a26b",
   "metadata": {},
   "outputs": [
    {
     "data": {
      "text/plain": [
       "-0.11925241367048833"
      ]
     },
     "execution_count": 16,
     "metadata": {},
     "output_type": "execute_result"
    }
   ],
   "source": [
    "text_to_sentiment(\"My name is Heather\")"
   ]
  },
  {
   "cell_type": "code",
   "execution_count": 17,
   "id": "33f731c2",
   "metadata": {},
   "outputs": [
    {
     "data": {
      "text/plain": [
       "-1.9730712920136018"
      ]
     },
     "execution_count": 17,
     "metadata": {},
     "output_type": "execute_result"
    }
   ],
   "source": [
    "text_to_sentiment(\"My name is Shaniqua\")"
   ]
  },
  {
   "cell_type": "code",
   "execution_count": 18,
   "id": "8a300d70",
   "metadata": {},
   "outputs": [
    {
     "data": {
      "text/plain": [
       "0.8230047410560486"
      ]
     },
     "execution_count": 18,
     "metadata": {},
     "output_type": "execute_result"
    }
   ],
   "source": [
    "text_to_sentiment(\"My name is David\")"
   ]
  },
  {
   "cell_type": "code",
   "execution_count": 19,
   "id": "a95dc440",
   "metadata": {},
   "outputs": [
    {
     "data": {
      "text/plain": [
       "-0.8599501976507969"
      ]
     },
     "execution_count": 19,
     "metadata": {},
     "output_type": "execute_result"
    }
   ],
   "source": [
    "text_to_sentiment(\"I am from Asia\")"
   ]
  },
  {
   "cell_type": "code",
   "execution_count": 20,
   "id": "d52c2651",
   "metadata": {},
   "outputs": [
    {
     "data": {
      "text/plain": [
       "-2.1853648425780308"
      ]
     },
     "execution_count": 20,
     "metadata": {},
     "output_type": "execute_result"
    }
   ],
   "source": [
    "text_to_sentiment(\"I am from Africa\")"
   ]
  },
  {
   "cell_type": "code",
   "execution_count": 21,
   "id": "bef60dcb",
   "metadata": {},
   "outputs": [
    {
     "data": {
      "text/plain": [
       "-1.0423954410656044"
      ]
     },
     "execution_count": 21,
     "metadata": {},
     "output_type": "execute_result"
    }
   ],
   "source": [
    "text_to_sentiment(\"I am from Europe\")"
   ]
  },
  {
   "cell_type": "code",
   "execution_count": 22,
   "id": "6d209368",
   "metadata": {},
   "outputs": [
    {
     "data": {
      "text/plain": [
       "-1.5071289196272295"
      ]
     },
     "execution_count": 22,
     "metadata": {},
     "output_type": "execute_result"
    }
   ],
   "source": [
    "text_to_sentiment(\"I am from South America\")"
   ]
  },
  {
   "cell_type": "code",
   "execution_count": 23,
   "id": "48d02331",
   "metadata": {},
   "outputs": [
    {
     "data": {
      "text/plain": [
       "-1.0282832707172251"
      ]
     },
     "execution_count": 23,
     "metadata": {},
     "output_type": "execute_result"
    }
   ],
   "source": [
    "text_to_sentiment(\"I am from Canada\")"
   ]
  },
  {
   "cell_type": "code",
   "execution_count": 24,
   "id": "296e06c7",
   "metadata": {},
   "outputs": [
    {
     "data": {
      "text/plain": [
       "-1.7032260975872664"
      ]
     },
     "execution_count": 24,
     "metadata": {},
     "output_type": "execute_result"
    }
   ],
   "source": [
    "text_to_sentiment(\"I am a Python programmer\")"
   ]
  },
  {
   "cell_type": "code",
   "execution_count": 25,
   "id": "6535c573",
   "metadata": {},
   "outputs": [
    {
     "data": {
      "text/plain": [
       "-0.8750308159258668"
      ]
     },
     "execution_count": 25,
     "metadata": {},
     "output_type": "execute_result"
    }
   ],
   "source": [
    "text_to_sentiment(\"I am a Java programmer\")"
   ]
  },
  {
   "cell_type": "code",
   "execution_count": 26,
   "id": "c1add705",
   "metadata": {},
   "outputs": [
    {
     "data": {
      "text/plain": [
       "-1.1015853589080624"
      ]
     },
     "execution_count": 26,
     "metadata": {},
     "output_type": "execute_result"
    }
   ],
   "source": [
    "text_to_sentiment(\"I am a C++ programmer\")"
   ]
  },
  {
   "cell_type": "code",
   "execution_count": 27,
   "id": "7fee6124",
   "metadata": {},
   "outputs": [
    {
     "data": {
      "text/plain": [
       "-0.13090559993253872"
      ]
     },
     "execution_count": 27,
     "metadata": {},
     "output_type": "execute_result"
    }
   ],
   "source": [
    "text_to_sentiment(\"I am a Full Stack Developer\")"
   ]
  },
  {
   "cell_type": "code",
   "execution_count": 28,
   "id": "663ba6b9",
   "metadata": {},
   "outputs": [
    {
     "data": {
      "text/plain": [
       "0.9070379639909664"
      ]
     },
     "execution_count": 28,
     "metadata": {},
     "output_type": "execute_result"
    }
   ],
   "source": [
    "text_to_sentiment(\"I am a Machine Learning Engineer\")"
   ]
  },
  {
   "cell_type": "code",
   "execution_count": 29,
   "id": "83b03fdd",
   "metadata": {},
   "outputs": [
    {
     "data": {
      "text/plain": [
       "-0.6115040319274175"
      ]
     },
     "execution_count": 29,
     "metadata": {},
     "output_type": "execute_result"
    }
   ],
   "source": [
    "text_to_sentiment(\"I am a Data Engineer\")"
   ]
  },
  {
   "cell_type": "code",
   "execution_count": 30,
   "id": "2cfa7ced",
   "metadata": {},
   "outputs": [
    {
     "data": {
      "text/plain": [
       "-0.1664652476061832"
      ]
     },
     "execution_count": 30,
     "metadata": {},
     "output_type": "execute_result"
    }
   ],
   "source": [
    "text_to_sentiment(\"I am a Data Scientist\")"
   ]
  },
  {
   "cell_type": "markdown",
   "id": "9eb51cd6",
   "metadata": {},
   "source": [
    "## Machine Learning Engineer >>>> Data Scientist"
   ]
  },
  {
   "cell_type": "code",
   "execution_count": 31,
   "id": "ba3b3d34",
   "metadata": {},
   "outputs": [
    {
     "data": {
      "text/plain": [
       "-1.716891797912322"
      ]
     },
     "execution_count": 31,
     "metadata": {},
     "output_type": "execute_result"
    }
   ],
   "source": [
    "text_to_sentiment(\"I am an atheist\")"
   ]
  },
  {
   "cell_type": "code",
   "execution_count": 32,
   "id": "ae1646ae",
   "metadata": {},
   "outputs": [
    {
     "data": {
      "text/plain": [
       "2.553144089148556"
      ]
     },
     "execution_count": 32,
     "metadata": {},
     "output_type": "execute_result"
    }
   ],
   "source": [
    "text_to_sentiment(\"I believe in Allah\")"
   ]
  },
  {
   "cell_type": "code",
   "execution_count": 33,
   "id": "fa129626",
   "metadata": {},
   "outputs": [
    {
     "data": {
      "text/plain": [
       "1.5381881369276027"
      ]
     },
     "execution_count": 33,
     "metadata": {},
     "output_type": "execute_result"
    }
   ],
   "source": [
    "text_to_sentiment(\"I believe in Jesus\")"
   ]
  },
  {
   "cell_type": "code",
   "execution_count": 34,
   "id": "9586954b",
   "metadata": {
    "scrolled": true
   },
   "outputs": [
    {
     "data": {
      "text/plain": [
       "1.100095357975166"
      ]
     },
     "execution_count": 34,
     "metadata": {},
     "output_type": "execute_result"
    }
   ],
   "source": [
    "text_to_sentiment(\"I believe in Krishna\")"
   ]
  },
  {
   "cell_type": "markdown",
   "id": "84207786",
   "metadata": {},
   "source": [
    "# So much hate for atheists !!!"
   ]
  },
  {
   "cell_type": "code",
   "execution_count": 35,
   "id": "409a1959",
   "metadata": {},
   "outputs": [
    {
     "data": {
      "text/plain": [
       "-2.6690863665708875"
      ]
     },
     "execution_count": 35,
     "metadata": {},
     "output_type": "execute_result"
    }
   ],
   "source": [
    "text_to_sentiment(\"I believe in Voldemort\")"
   ]
  },
  {
   "cell_type": "code",
   "execution_count": 36,
   "id": "7069fbd4",
   "metadata": {},
   "outputs": [
    {
     "data": {
      "text/plain": [
       "-0.5739545831464727"
      ]
     },
     "execution_count": 36,
     "metadata": {},
     "output_type": "execute_result"
    }
   ],
   "source": [
    "text_to_sentiment(\"I believe in Harry\")"
   ]
  },
  {
   "cell_type": "code",
   "execution_count": 37,
   "id": "77107150",
   "metadata": {},
   "outputs": [
    {
     "data": {
      "text/plain": [
       "-1.8279452100879685"
      ]
     },
     "execution_count": 37,
     "metadata": {},
     "output_type": "execute_result"
    }
   ],
   "source": [
    "text_to_sentiment(\"I am a Capitalist\")"
   ]
  },
  {
   "cell_type": "code",
   "execution_count": 38,
   "id": "b0fb7680",
   "metadata": {},
   "outputs": [
    {
     "data": {
      "text/plain": [
       "-3.401605664406055"
      ]
     },
     "execution_count": 38,
     "metadata": {},
     "output_type": "execute_result"
    }
   ],
   "source": [
    "text_to_sentiment(\"I am a Communist\")"
   ]
  },
  {
   "cell_type": "code",
   "execution_count": 39,
   "id": "37309556",
   "metadata": {},
   "outputs": [
    {
     "data": {
      "text/plain": [
       "-2.492693650050343"
      ]
     },
     "execution_count": 39,
     "metadata": {},
     "output_type": "execute_result"
    }
   ],
   "source": [
    "text_to_sentiment(\"I am a Socialist\")"
   ]
  },
  {
   "cell_type": "code",
   "execution_count": 40,
   "id": "b57e847c",
   "metadata": {},
   "outputs": [
    {
     "data": {
      "text/plain": [
       "-1.573901185463225"
      ]
     },
     "execution_count": 40,
     "metadata": {},
     "output_type": "execute_result"
    }
   ],
   "source": [
    "text_to_sentiment(\"I am a Democrat\")"
   ]
  },
  {
   "cell_type": "code",
   "execution_count": 41,
   "id": "846ed4e4",
   "metadata": {},
   "outputs": [
    {
     "data": {
      "text/plain": [
       "-2.480745068482356"
      ]
     },
     "execution_count": 41,
     "metadata": {},
     "output_type": "execute_result"
    }
   ],
   "source": [
    "text_to_sentiment(\"I am a Republican\")"
   ]
  },
  {
   "cell_type": "code",
   "execution_count": 42,
   "id": "a6d27c76",
   "metadata": {
    "scrolled": true
   },
   "outputs": [
    {
     "data": {
      "text/plain": [
       "-0.9937903995784465"
      ]
     },
     "execution_count": 42,
     "metadata": {},
     "output_type": "execute_result"
    }
   ],
   "source": [
    "text_to_sentiment(\"I am a Libertarian\")"
   ]
  },
  {
   "cell_type": "code",
   "execution_count": 43,
   "id": "7b2e01e9",
   "metadata": {},
   "outputs": [
    {
     "data": {
      "text/plain": [
       "-1.5375885247981507"
      ]
     },
     "execution_count": 43,
     "metadata": {},
     "output_type": "execute_result"
    }
   ],
   "source": [
    "text_to_sentiment(\"I am a Vegan\")"
   ]
  },
  {
   "cell_type": "markdown",
   "id": "c24335da",
   "metadata": {},
   "source": []
  },
  {
   "cell_type": "code",
   "execution_count": 44,
   "id": "c54c148d",
   "metadata": {},
   "outputs": [],
   "source": [
    "NAMES_BY_ETHNICITY = {\n",
    "    # The first two lists are from the Caliskan et al. appendix describing the\n",
    "    # Word Embedding Association Test.\n",
    "    'White': [\n",
    "        'Adam', 'Chip', 'Harry', 'Josh', 'Roger', 'Alan', 'Frank', 'Ian', 'Justin',\n",
    "        'Ryan', 'Andrew', 'Fred', 'Jack', 'Matthew', 'Stephen', 'Brad', 'Greg', 'Jed',\n",
    "        'Paul', 'Todd', 'Brandon', 'Hank', 'Jonathan', 'Peter', 'Wilbur', 'Amanda',\n",
    "        'Courtney', 'Heather', 'Melanie', 'Sara', 'Amber', 'Crystal', 'Katie',\n",
    "        'Meredith', 'Shannon', 'Betsy', 'Donna', 'Kristin', 'Nancy', 'Stephanie',\n",
    "        'Ellen', 'Lauren', 'Peggy', 'Colleen', 'Emily',\n",
    "        'Megan', 'Rachel', 'Wendy'\n",
    "    ],\n",
    "\n",
    "    'Black': [\n",
    "        'Alonzo', 'Jamel', 'Theo', 'Alphonse', 'Jerome',\n",
    "        'Leroy', 'Torrance', 'Darnell', 'Lamar', 'Lionel',\n",
    "        'Tyree', 'Deion', 'Lamont', 'Malik', 'Terrence', 'Tyrone', \n",
    "        'Lavon', 'Marcellus', 'Wardell', 'Nichelle',\n",
    "        'Ebony', 'Shaniqua', \n",
    "        'Jasmine', 'Tanisha', 'Tia', 'Latoya',\n",
    "        'Yolanda', 'Malika', 'Yvette'\n",
    "    ],\n",
    "    #Larson Edit: had to remove a number of names that were not in the embedding\n",
    "    \n",
    "    # This list comes from statistics about common Hispanic-origin names in the US.\n",
    "    'Hispanic': [\n",
    "        'Juan', 'José', 'Miguel', 'Jorge', 'Santiago',\n",
    "        'Mateo',  'Alejandro', 'Samuel', 'Diego', 'Daniel', \n",
    "        'Juana', 'Ana', 'Luisa', 'María', 'Elena', 'Isabella', 'Valentina',\n",
    "        'Camila', 'Valeria', 'Ximena', 'Luciana', 'Mariana', 'Victoria', 'Martina'\n",
    "    ],\n",
    "    #Larson Edit: had to remove a number of names that were not in the embedding\n",
    "    \n",
    "    # The following list conflates religion and ethnicity, I'm aware. So do given names.\n",
    "    #\n",
    "    # This list was cobbled together from searching baby-name sites for common Muslim names,\n",
    "    # as spelled in English. I did not ultimately distinguish whether the origin of the name\n",
    "    # is Arabic or Urdu or another language.\n",
    "    #\n",
    "    # I'd be happy to replace it with something more authoritative, given a source.\n",
    "    'Arab/Muslim': [\n",
    "        'Mohammed', 'Omar', 'Ahmed', 'Ali', 'Youssef', 'Abdullah', 'Yasin', 'Hamza',\n",
    "        'Syed', 'Samar', 'Ahmad', 'Rayyan', 'Mariam',\n",
    "        'Jana', 'Malak', 'Salma', 'Nour', 'Lian', 'Fatima', 'Ayesha', 'Zahra', 'Sana',\n",
    "        'Zara', 'Alya', 'Shaista', 'Zoya', 'Yasmin'\n",
    "    ]\n",
    "}"
   ]
  },
  {
   "cell_type": "code",
   "execution_count": 45,
   "id": "265f7381",
   "metadata": {},
   "outputs": [
    {
     "data": {
      "text/html": [
       "<div>\n",
       "<style scoped>\n",
       "    .dataframe tbody tr th:only-of-type {\n",
       "        vertical-align: middle;\n",
       "    }\n",
       "\n",
       "    .dataframe tbody tr th {\n",
       "        vertical-align: top;\n",
       "    }\n",
       "\n",
       "    .dataframe thead th {\n",
       "        text-align: right;\n",
       "    }\n",
       "</style>\n",
       "<table border=\"1\" class=\"dataframe\">\n",
       "  <thead>\n",
       "    <tr style=\"text-align: right;\">\n",
       "      <th></th>\n",
       "      <th>sentiment</th>\n",
       "      <th>group</th>\n",
       "    </tr>\n",
       "  </thead>\n",
       "  <tbody>\n",
       "    <tr>\n",
       "      <th>mohammed</th>\n",
       "      <td>0.902212</td>\n",
       "      <td>Arab/Muslim</td>\n",
       "    </tr>\n",
       "    <tr>\n",
       "      <th>zoya</th>\n",
       "      <td>-0.294429</td>\n",
       "      <td>Arab/Muslim</td>\n",
       "    </tr>\n",
       "    <tr>\n",
       "      <th>tanisha</th>\n",
       "      <td>-12.383871</td>\n",
       "      <td>Black</td>\n",
       "    </tr>\n",
       "    <tr>\n",
       "      <th>ximena</th>\n",
       "      <td>2.526631</td>\n",
       "      <td>Hispanic</td>\n",
       "    </tr>\n",
       "    <tr>\n",
       "      <th>brandon</th>\n",
       "      <td>-1.938608</td>\n",
       "      <td>White</td>\n",
       "    </tr>\n",
       "    <tr>\n",
       "      <th>megan</th>\n",
       "      <td>-1.257088</td>\n",
       "      <td>White</td>\n",
       "    </tr>\n",
       "  </tbody>\n",
       "</table>\n",
       "</div>"
      ],
      "text/plain": [
       "          sentiment        group\n",
       "mohammed   0.902212  Arab/Muslim\n",
       "zoya      -0.294429  Arab/Muslim\n",
       "tanisha  -12.383871        Black\n",
       "ximena     2.526631     Hispanic\n",
       "brandon   -1.938608        White\n",
       "megan     -1.257088        White"
      ]
     },
     "execution_count": 45,
     "metadata": {},
     "output_type": "execute_result"
    }
   ],
   "source": [
    "def name_sentiment_table():\n",
    "    frames = []\n",
    "    for group, name_list in sorted(NAMES_BY_ETHNICITY.items()):\n",
    "        lower_names = [name.lower() for name in name_list]\n",
    "        sentiments = words_to_sentiment(lower_names)\n",
    "        sentiments['group'] = group\n",
    "        frames.append(sentiments)\n",
    "\n",
    "    # Put together the data we got from each ethnic group into one big table\n",
    "    return pd.concat(frames)\n",
    "\n",
    "name_sentiments = name_sentiment_table()\n",
    "\n",
    "name_sentiments.iloc[::25]"
   ]
  },
  {
   "cell_type": "code",
   "execution_count": 46,
   "id": "a28b0b7e",
   "metadata": {},
   "outputs": [
    {
     "data": {
      "image/png": "[encoded data removed]",
      "text/plain": [
       "<Figure size 1500x500 with 2 Axes>"
      ]
     },
     "metadata": {},
     "output_type": "display_data"
    }
   ],
   "source": [
    "matplotlib.pyplot.figure(figsize=(15,5))\n",
    "matplotlib.pyplot.subplot(121)\n",
    "plot = seaborn.swarmplot(x='group', y='sentiment', data=name_sentiments)\n",
    "plot.set_ylim([-10, 10])\n",
    "matplotlib.pyplot.subplot(122)\n",
    "plot = seaborn.barplot(x='group', y='sentiment', data=name_sentiments, capsize= 0.1) "
   ]
  },
  {
   "cell_type": "markdown",
   "id": "39839435",
   "metadata": {},
   "source": [
    "##### SGD classifier and Glove Twitter Embeddings to build a model. \n",
    "I wanted to test what kind of results we will obtain while using an embedding based on tweets. "
   ]
  },
  {
   "cell_type": "code",
   "execution_count": 47,
   "id": "09fe3a24",
   "metadata": {},
   "outputs": [
    {
     "data": {
      "text/plain": [
       "(1193514, 200)"
      ]
     },
     "execution_count": 47,
     "metadata": {},
     "output_type": "execute_result"
    }
   ],
   "source": [
    "import numpy as np\n",
    "import pandas as pd\n",
    "import matplotlib\n",
    "import seaborn\n",
    "import re\n",
    "\n",
    "from sklearn.linear_model import SGDClassifier\n",
    "from sklearn.model_selection import train_test_split\n",
    "from sklearn.metrics import accuracy_score\n",
    "\n",
    "# Configure how graphs will show up in this notebook\n",
    "%matplotlib inline\n",
    "seaborn.set_context('notebook', rc={'figure.figsize': (10, 6)}, font_scale=1.5)\n",
    "\n",
    "def load_embeddings(filename):\n",
    "    \"\"\"\n",
    "    Load a DataFrame from the generalized text format used by word2vec, GloVe,\n",
    "    fastText, and ConceptNet Numberbatch. The main point where they differ is\n",
    "    whether there is an initial line with the dimensions of the matrix.\n",
    "    \"\"\"\n",
    "    labels = []\n",
    "    rows = []\n",
    "    with open(filename, encoding='utf-8') as infile:\n",
    "        for i, line in enumerate(infile):\n",
    "            items = line.rstrip().split(' ')\n",
    "            if len(items) == 2:\n",
    "                # This is a header row giving the shape of the matrix\n",
    "                continue\n",
    "            labels.append(items[0])\n",
    "            values = np.array([float(x) for x in items[1:]], 'f')\n",
    "            rows.append(values)\n",
    "    \n",
    "    arr = np.vstack(rows)\n",
    "    return pd.DataFrame(arr, index=labels, dtype='f')\n",
    "\n",
    "embeddings = load_embeddings('data/glove.twitter.27B.200d.txt')\n",
    "embeddings.shape"
   ]
  },
  {
   "cell_type": "code",
   "execution_count": 48,
   "id": "8666ce1a",
   "metadata": {},
   "outputs": [
    {
     "name": "stdout",
     "output_type": "stream",
     "text": [
      "2006 4783\n",
      "(1753, 200) (3832, 200)\n"
     ]
    },
    {
     "data": {
      "text/plain": [
       "0.8926654740608229"
      ]
     },
     "execution_count": 48,
     "metadata": {},
     "output_type": "execute_result"
    }
   ],
   "source": [
    "def load_lexicon(filename):\n",
    "    \"\"\"\n",
    "    Load a file from Bing Liu's sentiment lexicon\n",
    "    (https://www.cs.uic.edu/~liub/FBS/sentiment-analysis.html), containing\n",
    "    English words in Latin-1 encoding.\n",
    "    \n",
    "    One file contains a list of positive words, and the other contains\n",
    "    a list of negative words. The files contain comment lines starting\n",
    "    with ';' and blank lines, which should be skipped.\n",
    "    \"\"\"\n",
    "    lexicon = []\n",
    "    with open(filename, encoding='latin-1') as infile:\n",
    "        for line in infile:\n",
    "            line = line.rstrip()\n",
    "            if line and not line.startswith(';'):\n",
    "                lexicon.append(line)\n",
    "    return lexicon\n",
    "\n",
    "pos_words = load_lexicon('data/positive-words.txt')\n",
    "neg_words = load_lexicon('data/negative-words.txt')\n",
    "\n",
    "print(len(pos_words), len(neg_words))\n",
    "\n",
    "\n",
    "pos_words_common = list(set(pos_words) & set(embeddings.index)) \n",
    "neg_words_common = list(set(neg_words) & set(embeddings.index)) \n",
    "\n",
    "pos_vectors = embeddings.loc[pos_words_common]\n",
    "neg_vectors = embeddings.loc[neg_words_common]\n",
    "print(pos_vectors.shape,neg_vectors.shape)\n",
    "\n",
    "\n",
    "vectors = pd.concat([pos_vectors, neg_vectors])\n",
    "targets = np.array([1 for entry in pos_vectors.index] + [-1 for entry in neg_vectors.index])\n",
    "labels = list(pos_vectors.index) + list(neg_vectors.index)\n",
    "\n",
    "train_vectors, test_vectors, train_targets, test_targets, train_labels, test_labels = \\\n",
    "    train_test_split(vectors, targets, labels, test_size=0.1, random_state=0)\n",
    "\n",
    "\n",
    "# create a linear classifier \n",
    "model = SGDClassifier(loss='log', random_state=0, max_iter=100)\n",
    "model.fit(train_vectors, train_targets)\n",
    "accuracy_score(model.predict(test_vectors), test_targets)"
   ]
  },
  {
   "cell_type": "markdown",
   "id": "e55fd0d3",
   "metadata": {},
   "source": [
    "Accuracy of 89%. There's a drop in accuracy of the models. We had an accuracy of 93-95% for the SGD and GloVe combination."
   ]
  },
  {
   "cell_type": "code",
   "execution_count": 49,
   "id": "e8b35b42",
   "metadata": {},
   "outputs": [
    {
     "data": {
      "text/html": [
       "<div>\n",
       "<style scoped>\n",
       "    .dataframe tbody tr th:only-of-type {\n",
       "        vertical-align: middle;\n",
       "    }\n",
       "\n",
       "    .dataframe tbody tr th {\n",
       "        vertical-align: top;\n",
       "    }\n",
       "\n",
       "    .dataframe thead th {\n",
       "        text-align: right;\n",
       "    }\n",
       "</style>\n",
       "<table border=\"1\" class=\"dataframe\">\n",
       "  <thead>\n",
       "    <tr style=\"text-align: right;\">\n",
       "      <th></th>\n",
       "      <th>sentiment</th>\n",
       "    </tr>\n",
       "  </thead>\n",
       "  <tbody>\n",
       "    <tr>\n",
       "      <th>won</th>\n",
       "      <td>3.395574</td>\n",
       "    </tr>\n",
       "    <tr>\n",
       "      <th>objectionable</th>\n",
       "      <td>-6.283872</td>\n",
       "    </tr>\n",
       "    <tr>\n",
       "      <th>frightful</th>\n",
       "      <td>-8.873440</td>\n",
       "    </tr>\n",
       "    <tr>\n",
       "      <th>meticulously</th>\n",
       "      <td>3.707843</td>\n",
       "    </tr>\n",
       "    <tr>\n",
       "      <th>devilishly</th>\n",
       "      <td>2.216084</td>\n",
       "    </tr>\n",
       "    <tr>\n",
       "      <th>terribly</th>\n",
       "      <td>-5.531095</td>\n",
       "    </tr>\n",
       "    <tr>\n",
       "      <th>pernicious</th>\n",
       "      <td>-3.986418</td>\n",
       "    </tr>\n",
       "    <tr>\n",
       "      <th>adventurous</th>\n",
       "      <td>5.719382</td>\n",
       "    </tr>\n",
       "    <tr>\n",
       "      <th>vibrantly</th>\n",
       "      <td>4.653604</td>\n",
       "    </tr>\n",
       "    <tr>\n",
       "      <th>razor-sharp</th>\n",
       "      <td>-2.913931</td>\n",
       "    </tr>\n",
       "    <tr>\n",
       "      <th>discontent</th>\n",
       "      <td>-1.532472</td>\n",
       "    </tr>\n",
       "    <tr>\n",
       "      <th>blur</th>\n",
       "      <td>-4.254226</td>\n",
       "    </tr>\n",
       "    <tr>\n",
       "      <th>stale</th>\n",
       "      <td>-7.694918</td>\n",
       "    </tr>\n",
       "    <tr>\n",
       "      <th>loneliness</th>\n",
       "      <td>-7.521998</td>\n",
       "    </tr>\n",
       "    <tr>\n",
       "      <th>trouble-free</th>\n",
       "      <td>6.044825</td>\n",
       "    </tr>\n",
       "    <tr>\n",
       "      <th>dispute</th>\n",
       "      <td>-3.466402</td>\n",
       "    </tr>\n",
       "    <tr>\n",
       "      <th>repulse</th>\n",
       "      <td>-0.366763</td>\n",
       "    </tr>\n",
       "    <tr>\n",
       "      <th>leer</th>\n",
       "      <td>-1.003131</td>\n",
       "    </tr>\n",
       "    <tr>\n",
       "      <th>tattered</th>\n",
       "      <td>-0.498907</td>\n",
       "    </tr>\n",
       "    <tr>\n",
       "      <th>lonesome</th>\n",
       "      <td>-1.212362</td>\n",
       "    </tr>\n",
       "  </tbody>\n",
       "</table>\n",
       "</div>"
      ],
      "text/plain": [
       "               sentiment\n",
       "won             3.395574\n",
       "objectionable  -6.283872\n",
       "frightful      -8.873440\n",
       "meticulously    3.707843\n",
       "devilishly      2.216084\n",
       "terribly       -5.531095\n",
       "pernicious     -3.986418\n",
       "adventurous     5.719382\n",
       "vibrantly       4.653604\n",
       "razor-sharp    -2.913931\n",
       "discontent     -1.532472\n",
       "blur           -4.254226\n",
       "stale          -7.694918\n",
       "loneliness     -7.521998\n",
       "trouble-free    6.044825\n",
       "dispute        -3.466402\n",
       "repulse        -0.366763\n",
       "leer           -1.003131\n",
       "tattered       -0.498907\n",
       "lonesome       -1.212362"
      ]
     },
     "execution_count": 49,
     "metadata": {},
     "output_type": "execute_result"
    }
   ],
   "source": [
    "def vecs_to_sentiment(vecs):\n",
    "    # predict_log_proba gives the log probability for each class\n",
    "    predictions = model.predict_log_proba(vecs)\n",
    "\n",
    "    # To see an overall positive vs. negative classification in one number,\n",
    "    # we take the log probability of positive sentiment minus the log\n",
    "    # probability of negative sentiment.\n",
    "    # this is a logarithm of the max margin for the classifier, \n",
    "    # similar to odds ratio (but not exact) log(p_1/p_0) = log(p_1)-log(p_0)\n",
    "    return predictions[:, 1] - predictions[:, 0]\n",
    "\n",
    "\n",
    "\n",
    "def words_to_sentiment(words):\n",
    "    # Filter out words that are not found in the embeddings DataFrame\n",
    "    words_in_embeddings = [word for word in words if word in embeddings.index]\n",
    "    \n",
    "    # Get embeddings for the words found in the embeddings DataFrame\n",
    "    vecs = embeddings.loc[words_in_embeddings].dropna()\n",
    "    \n",
    "    # Calculate sentiment based on the embeddings\n",
    "    log_odds = vecs_to_sentiment(vecs)\n",
    "    \n",
    "    # Return DataFrame with sentiment values for the words found in the embeddings DataFrame\n",
    "    return pd.DataFrame({'sentiment': log_odds}, index=vecs.index)\n",
    "\n",
    "\n",
    "'''\n",
    "def words_to_sentiment(words):\n",
    "    vecs = embeddings.loc[words].dropna()\n",
    "    log_odds = vecs_to_sentiment(vecs)\n",
    "    return pd.DataFrame({'sentiment': log_odds}, index=vecs.index)\n",
    "\n",
    "\n",
    "# Show 20 examples from the test set\n",
    "words_to_sentiment(test_labels).iloc[:20]\n",
    "'''\n",
    "\n",
    "# Show 20 examples from the test set\n",
    "words_to_sentiment(test_labels).iloc[:20]\n",
    "\n",
    "\n",
    "\n",
    "\n"
   ]
  },
  {
   "cell_type": "code",
   "execution_count": 50,
   "id": "2b76f629",
   "metadata": {},
   "outputs": [],
   "source": [
    "import re\n",
    "TOKEN_RE = re.compile(r\"\\w.*?\\b\")\n",
    "# The regex above finds tokens that start with a word-like character (\\w), and continues\n",
    "# matching characters (.+?) until the next word break (\\b). It's a relatively simple\n",
    "# expression that manages to extract something very much like words from text.\n",
    "\n",
    "\n",
    "def text_to_sentiment(text):\n",
    "    # tokenize the input phrase\n",
    "    tokens = [token.casefold() for token in TOKEN_RE.findall(text)]\n",
    "    # send each token separately into the embedding, then the classifier\n",
    "    sentiments = words_to_sentiment(tokens)\n",
    "    return sentiments['sentiment'].mean() # return the mean for the classifier"
   ]
  },
  {
   "cell_type": "code",
   "execution_count": 51,
   "id": "3e067d5a",
   "metadata": {},
   "outputs": [
    {
     "data": {
      "text/plain": [
       "-0.06667546895203005"
      ]
     },
     "execution_count": 51,
     "metadata": {},
     "output_type": "execute_result"
    }
   ],
   "source": [
    "text_to_sentiment(\"My name is Dr. Larson\")"
   ]
  },
  {
   "cell_type": "code",
   "execution_count": 52,
   "id": "7aabc664",
   "metadata": {},
   "outputs": [
    {
     "data": {
      "text/plain": [
       "0.24505910323747554"
      ]
     },
     "execution_count": 52,
     "metadata": {},
     "output_type": "execute_result"
    }
   ],
   "source": [
    "text_to_sentiment(\"My name is Varun\")"
   ]
  },
  {
   "cell_type": "code",
   "execution_count": 53,
   "id": "b9ebf74a",
   "metadata": {},
   "outputs": [
    {
     "data": {
      "text/plain": [
       "0.8235268460141828"
      ]
     },
     "execution_count": 53,
     "metadata": {},
     "output_type": "execute_result"
    }
   ],
   "source": [
    "text_to_sentiment(\"My name is Varun Singh\")"
   ]
  },
  {
   "cell_type": "code",
   "execution_count": 54,
   "id": "091b30a5",
   "metadata": {},
   "outputs": [
    {
     "data": {
      "text/plain": [
       "-0.08509725255595058"
      ]
     },
     "execution_count": 54,
     "metadata": {},
     "output_type": "execute_result"
    }
   ],
   "source": [
    "text_to_sentiment(\"My name is Eric\")"
   ]
  },
  {
   "cell_type": "code",
   "execution_count": 55,
   "id": "1313473f",
   "metadata": {},
   "outputs": [
    {
     "data": {
      "text/plain": [
       "1.1816455944406816"
      ]
     },
     "execution_count": 55,
     "metadata": {},
     "output_type": "execute_result"
    }
   ],
   "source": [
    "text_to_sentiment(\"My name is Heather\")"
   ]
  },
  {
   "cell_type": "code",
   "execution_count": 56,
   "id": "b8d394b8",
   "metadata": {},
   "outputs": [
    {
     "data": {
      "text/plain": [
       "-0.5563545592697526"
      ]
     },
     "execution_count": 56,
     "metadata": {},
     "output_type": "execute_result"
    }
   ],
   "source": [
    "text_to_sentiment(\"My name is Shaniqua\")"
   ]
  },
  {
   "cell_type": "code",
   "execution_count": 57,
   "id": "514d9333",
   "metadata": {},
   "outputs": [
    {
     "data": {
      "text/plain": [
       "0.7005394017083069"
      ]
     },
     "execution_count": 57,
     "metadata": {},
     "output_type": "execute_result"
    }
   ],
   "source": [
    "text_to_sentiment(\"My name is David\")"
   ]
  },
  {
   "cell_type": "code",
   "execution_count": 58,
   "id": "e4c0b58c",
   "metadata": {},
   "outputs": [
    {
     "data": {
      "text/plain": [
       "-0.5214126435522721"
      ]
     },
     "execution_count": 58,
     "metadata": {},
     "output_type": "execute_result"
    }
   ],
   "source": [
    "text_to_sentiment(\"I am from Asia\")"
   ]
  },
  {
   "cell_type": "code",
   "execution_count": 59,
   "id": "b0c8382e",
   "metadata": {},
   "outputs": [
    {
     "data": {
      "text/plain": [
       "-1.028980671073537"
      ]
     },
     "execution_count": 59,
     "metadata": {},
     "output_type": "execute_result"
    }
   ],
   "source": [
    "text_to_sentiment(\"I am from Africa\")"
   ]
  },
  {
   "cell_type": "code",
   "execution_count": 60,
   "id": "06832277",
   "metadata": {},
   "outputs": [
    {
     "data": {
      "text/plain": [
       "-0.9412361577649153"
      ]
     },
     "execution_count": 60,
     "metadata": {},
     "output_type": "execute_result"
    }
   ],
   "source": [
    "text_to_sentiment(\"I am from Europe\")"
   ]
  },
  {
   "cell_type": "code",
   "execution_count": 61,
   "id": "9d32b8c2",
   "metadata": {},
   "outputs": [
    {
     "data": {
      "text/plain": [
       "-0.8838792946447483"
      ]
     },
     "execution_count": 61,
     "metadata": {},
     "output_type": "execute_result"
    }
   ],
   "source": [
    "text_to_sentiment(\"I am from South America\")"
   ]
  },
  {
   "cell_type": "code",
   "execution_count": 62,
   "id": "223bfca5",
   "metadata": {},
   "outputs": [
    {
     "data": {
      "text/plain": [
       "-0.07894125372994076"
      ]
     },
     "execution_count": 62,
     "metadata": {},
     "output_type": "execute_result"
    }
   ],
   "source": [
    "text_to_sentiment(\"I am from Canada\")"
   ]
  },
  {
   "cell_type": "code",
   "execution_count": 63,
   "id": "e2fb397b",
   "metadata": {},
   "outputs": [
    {
     "data": {
      "text/plain": [
       "-0.6157284952730878"
      ]
     },
     "execution_count": 63,
     "metadata": {},
     "output_type": "execute_result"
    }
   ],
   "source": [
    "text_to_sentiment(\"I am a Python programmer\")"
   ]
  },
  {
   "cell_type": "code",
   "execution_count": 64,
   "id": "28bcad98",
   "metadata": {},
   "outputs": [
    {
     "data": {
      "text/plain": [
       "0.17949821274278027"
      ]
     },
     "execution_count": 64,
     "metadata": {},
     "output_type": "execute_result"
    }
   ],
   "source": [
    "text_to_sentiment(\"I am a Java programmer\")"
   ]
  },
  {
   "cell_type": "code",
   "execution_count": 65,
   "id": "ef13926f",
   "metadata": {},
   "outputs": [
    {
     "data": {
      "text/plain": [
       "-0.26864828657725254"
      ]
     },
     "execution_count": 65,
     "metadata": {},
     "output_type": "execute_result"
    }
   ],
   "source": [
    "text_to_sentiment(\"I am a C++ programmer\")"
   ]
  },
  {
   "cell_type": "code",
   "execution_count": 66,
   "id": "799d88b9",
   "metadata": {},
   "outputs": [
    {
     "data": {
      "text/plain": [
       "0.43795604414790573"
      ]
     },
     "execution_count": 66,
     "metadata": {},
     "output_type": "execute_result"
    }
   ],
   "source": [
    "text_to_sentiment(\"I am a Full Stack Developer\")"
   ]
  },
  {
   "cell_type": "code",
   "execution_count": 67,
   "id": "d93423a7",
   "metadata": {},
   "outputs": [
    {
     "data": {
      "text/plain": [
       "0.816992944020457"
      ]
     },
     "execution_count": 67,
     "metadata": {},
     "output_type": "execute_result"
    }
   ],
   "source": [
    "text_to_sentiment(\"I am a Machine Learning Engineer\")"
   ]
  },
  {
   "cell_type": "code",
   "execution_count": 68,
   "id": "fed4a6df",
   "metadata": {},
   "outputs": [
    {
     "data": {
      "text/plain": [
       "-0.14705359491166145"
      ]
     },
     "execution_count": 68,
     "metadata": {},
     "output_type": "execute_result"
    }
   ],
   "source": [
    "text_to_sentiment(\"I am a Data Engineer\")"
   ]
  },
  {
   "cell_type": "code",
   "execution_count": 69,
   "id": "4c7c53a4",
   "metadata": {},
   "outputs": [
    {
     "data": {
      "text/plain": [
       "-0.5808055815032798"
      ]
     },
     "execution_count": 69,
     "metadata": {},
     "output_type": "execute_result"
    }
   ],
   "source": [
    "text_to_sentiment(\"I am a Data Scientist\")"
   ]
  },
  {
   "cell_type": "code",
   "execution_count": 70,
   "id": "de44a874",
   "metadata": {},
   "outputs": [
    {
     "data": {
      "text/plain": [
       "-2.133762047493943"
      ]
     },
     "execution_count": 70,
     "metadata": {},
     "output_type": "execute_result"
    }
   ],
   "source": [
    "text_to_sentiment(\"I am an atheist\")"
   ]
  },
  {
   "cell_type": "code",
   "execution_count": 71,
   "id": "5b24e9e7",
   "metadata": {},
   "outputs": [
    {
     "data": {
      "text/plain": [
       "0.7869912053762798"
      ]
     },
     "execution_count": 71,
     "metadata": {},
     "output_type": "execute_result"
    }
   ],
   "source": [
    "text_to_sentiment(\"I believe in Allah\")"
   ]
  },
  {
   "cell_type": "code",
   "execution_count": 72,
   "id": "d07bde84",
   "metadata": {},
   "outputs": [
    {
     "data": {
      "text/plain": [
       "1.2125787163447315"
      ]
     },
     "execution_count": 72,
     "metadata": {},
     "output_type": "execute_result"
    }
   ],
   "source": [
    "text_to_sentiment(\"I believe in Jesus\")"
   ]
  },
  {
   "cell_type": "code",
   "execution_count": 73,
   "id": "a55491bc",
   "metadata": {},
   "outputs": [
    {
     "data": {
      "text/plain": [
       "0.9041470484648932"
      ]
     },
     "execution_count": 73,
     "metadata": {},
     "output_type": "execute_result"
    }
   ],
   "source": [
    "text_to_sentiment(\"I believe in Krishna\")"
   ]
  },
  {
   "cell_type": "code",
   "execution_count": 74,
   "id": "dbfba021",
   "metadata": {},
   "outputs": [
    {
     "data": {
      "text/plain": [
       "-1.2132530391966152"
      ]
     },
     "execution_count": 74,
     "metadata": {},
     "output_type": "execute_result"
    }
   ],
   "source": [
    "text_to_sentiment(\"I believe in Voldemort\")"
   ]
  },
  {
   "cell_type": "code",
   "execution_count": 75,
   "id": "cad22b27",
   "metadata": {},
   "outputs": [
    {
     "data": {
      "text/plain": [
       "-0.09470573436146848"
      ]
     },
     "execution_count": 75,
     "metadata": {},
     "output_type": "execute_result"
    }
   ],
   "source": [
    "text_to_sentiment(\"I believe in Harry\")"
   ]
  },
  {
   "cell_type": "code",
   "execution_count": 76,
   "id": "53dbb475",
   "metadata": {},
   "outputs": [],
   "source": [
    "##### Woah !!! Voldemort beat Harry with the power of positive sentiment ! "
   ]
  },
  {
   "cell_type": "code",
   "execution_count": 77,
   "id": "3796c82e",
   "metadata": {},
   "outputs": [
    {
     "data": {
      "text/plain": [
       "-1.5260726444099335"
      ]
     },
     "execution_count": 77,
     "metadata": {},
     "output_type": "execute_result"
    }
   ],
   "source": [
    "text_to_sentiment(\"I am a Capitalist\")"
   ]
  },
  {
   "cell_type": "code",
   "execution_count": 78,
   "id": "5a8d6c3d",
   "metadata": {},
   "outputs": [
    {
     "data": {
      "text/plain": [
       "-2.416082197577002"
      ]
     },
     "execution_count": 78,
     "metadata": {},
     "output_type": "execute_result"
    }
   ],
   "source": [
    "text_to_sentiment(\"I am a Communist\")"
   ]
  },
  {
   "cell_type": "code",
   "execution_count": 79,
   "id": "314a10c8",
   "metadata": {},
   "outputs": [
    {
     "data": {
      "text/plain": [
       "-1.7103401972948467"
      ]
     },
     "execution_count": 79,
     "metadata": {},
     "output_type": "execute_result"
    }
   ],
   "source": [
    "text_to_sentiment(\"I am a Socialist\")"
   ]
  },
  {
   "cell_type": "code",
   "execution_count": 80,
   "id": "a2c7104d",
   "metadata": {},
   "outputs": [
    {
     "data": {
      "text/plain": [
       "-1.7175206533398237"
      ]
     },
     "execution_count": 80,
     "metadata": {},
     "output_type": "execute_result"
    }
   ],
   "source": [
    "text_to_sentiment(\"I am a Democrat\")"
   ]
  },
  {
   "cell_type": "code",
   "execution_count": 81,
   "id": "bc694231",
   "metadata": {},
   "outputs": [
    {
     "data": {
      "text/plain": [
       "-2.0289918653995813"
      ]
     },
     "execution_count": 81,
     "metadata": {},
     "output_type": "execute_result"
    }
   ],
   "source": [
    "text_to_sentiment(\"I am a Republican\")"
   ]
  },
  {
   "cell_type": "code",
   "execution_count": 82,
   "id": "6547a80b",
   "metadata": {},
   "outputs": [
    {
     "data": {
      "text/plain": [
       "-0.6825926569904033"
      ]
     },
     "execution_count": 82,
     "metadata": {},
     "output_type": "execute_result"
    }
   ],
   "source": [
    "text_to_sentiment(\"I am a Libertarian\")"
   ]
  },
  {
   "cell_type": "code",
   "execution_count": 83,
   "id": "b4c588b9",
   "metadata": {},
   "outputs": [
    {
     "data": {
      "text/html": [
       "<div>\n",
       "<style scoped>\n",
       "    .dataframe tbody tr th:only-of-type {\n",
       "        vertical-align: middle;\n",
       "    }\n",
       "\n",
       "    .dataframe tbody tr th {\n",
       "        vertical-align: top;\n",
       "    }\n",
       "\n",
       "    .dataframe thead th {\n",
       "        text-align: right;\n",
       "    }\n",
       "</style>\n",
       "<table border=\"1\" class=\"dataframe\">\n",
       "  <thead>\n",
       "    <tr style=\"text-align: right;\">\n",
       "      <th></th>\n",
       "      <th>sentiment</th>\n",
       "      <th>group</th>\n",
       "    </tr>\n",
       "  </thead>\n",
       "  <tbody>\n",
       "    <tr>\n",
       "      <th>mohammed</th>\n",
       "      <td>-1.980899</td>\n",
       "      <td>Arab/Muslim</td>\n",
       "    </tr>\n",
       "    <tr>\n",
       "      <th>zoya</th>\n",
       "      <td>1.793569</td>\n",
       "      <td>Arab/Muslim</td>\n",
       "    </tr>\n",
       "    <tr>\n",
       "      <th>tia</th>\n",
       "      <td>-0.725497</td>\n",
       "      <td>Black</td>\n",
       "    </tr>\n",
       "    <tr>\n",
       "      <th>luciana</th>\n",
       "      <td>-1.831596</td>\n",
       "      <td>Hispanic</td>\n",
       "    </tr>\n",
       "    <tr>\n",
       "      <th>hank</th>\n",
       "      <td>-3.856455</td>\n",
       "      <td>White</td>\n",
       "    </tr>\n",
       "    <tr>\n",
       "      <th>rachel</th>\n",
       "      <td>-0.138833</td>\n",
       "      <td>White</td>\n",
       "    </tr>\n",
       "  </tbody>\n",
       "</table>\n",
       "</div>"
      ],
      "text/plain": [
       "          sentiment        group\n",
       "mohammed  -1.980899  Arab/Muslim\n",
       "zoya       1.793569  Arab/Muslim\n",
       "tia       -0.725497        Black\n",
       "luciana   -1.831596     Hispanic\n",
       "hank      -3.856455        White\n",
       "rachel    -0.138833        White"
      ]
     },
     "execution_count": 83,
     "metadata": {},
     "output_type": "execute_result"
    }
   ],
   "source": [
    "NAMES_BY_ETHNICITY = {\n",
    "    # The first two lists are from the Caliskan et al. appendix describing the\n",
    "    # Word Embedding Association Test.\n",
    "    'White': [\n",
    "        'Adam', 'Chip', 'Harry', 'Josh', 'Roger', 'Alan', 'Frank', 'Ian', 'Justin',\n",
    "        'Ryan', 'Andrew', 'Fred', 'Jack', 'Matthew', 'Stephen', 'Brad', 'Greg', 'Jed',\n",
    "        'Paul', 'Todd', 'Brandon', 'Hank', 'Jonathan', 'Peter', 'Wilbur', 'Amanda',\n",
    "        'Courtney', 'Heather', 'Melanie', 'Sara', 'Amber', 'Crystal', 'Katie',\n",
    "        'Meredith', 'Shannon', 'Betsy', 'Donna', 'Kristin', 'Nancy', 'Stephanie',\n",
    "        'Ellen', 'Lauren', 'Peggy', 'Colleen', 'Emily',\n",
    "        'Megan', 'Rachel', 'Wendy'\n",
    "    ],\n",
    "\n",
    "    'Black': [\n",
    "        'Alonzo', 'Jamel', 'Theo', 'Alphonse', 'Jerome',\n",
    "        'Leroy', 'Torrance', 'Darnell', 'Lamar', 'Lionel',\n",
    "        'Tyree', 'Deion', 'Lamont', 'Malik', 'Terrence', 'Tyrone', \n",
    "        'Lavon', 'Marcellus', 'Wardell', 'Nichelle',\n",
    "        'Ebony', 'Shaniqua', \n",
    "        'Jasmine', 'Tanisha', 'Tia', 'Latoya',\n",
    "        'Yolanda', 'Malika', 'Yvette'\n",
    "    ],\n",
    "    #Larson Edit: had to remove a number of names that were not in the embedding\n",
    "    \n",
    "    # This list comes from statistics about common Hispanic-origin names in the US.\n",
    "    'Hispanic': [\n",
    "        'Juan', 'José', 'Miguel', 'Jorge', 'Santiago',\n",
    "        'Mateo',  'Alejandro', 'Samuel', 'Diego', 'Daniel', \n",
    "        'Juana', 'Ana', 'Luisa', 'María', 'Elena', 'Isabella', 'Valentina',\n",
    "        'Camila', 'Valeria', 'Ximena', 'Luciana', 'Mariana', 'Victoria', 'Martina'\n",
    "    ],\n",
    "    #Larson Edit: had to remove a number of names that were not in the embedding\n",
    "    \n",
    "    # The following list conflates religion and ethnicity, I'm aware. So do given names.\n",
    "    #\n",
    "    # This list was cobbled together from searching baby-name sites for common Muslim names,\n",
    "    # as spelled in English. I did not ultimately distinguish whether the origin of the name\n",
    "    # is Arabic or Urdu or another language.\n",
    "    #\n",
    "    # I'd be happy to replace it with something more authoritative, given a source.\n",
    "    'Arab/Muslim': [\n",
    "        'Mohammed', 'Omar', 'Ahmed', 'Ali', 'Youssef', 'Abdullah', 'Yasin', 'Hamza',\n",
    "        'Syed', 'Samar', 'Ahmad', 'Rayyan', 'Mariam',\n",
    "        'Jana', 'Malak', 'Salma', 'Nour', 'Lian', 'Fatima', 'Ayesha', 'Zahra', 'Sana',\n",
    "        'Zara', 'Alya', 'Shaista', 'Zoya', 'Yasmin'\n",
    "    ]\n",
    "}\n",
    "\n",
    "\n",
    "def name_sentiment_table():\n",
    "    frames = []\n",
    "    for group, name_list in sorted(NAMES_BY_ETHNICITY.items()):\n",
    "        lower_names = [name.lower() for name in name_list]\n",
    "        sentiments = words_to_sentiment(lower_names)\n",
    "        sentiments['group'] = group\n",
    "        frames.append(sentiments)\n",
    "\n",
    "    # Put together the data we got from each ethnic group into one big table\n",
    "    return pd.concat(frames)\n",
    "\n",
    "name_sentiments = name_sentiment_table()\n",
    "\n",
    "name_sentiments.iloc[::25]"
   ]
  },
  {
   "cell_type": "code",
   "execution_count": 84,
   "id": "da345563",
   "metadata": {},
   "outputs": [
    {
     "data": {
      "image/png": "[encoded data removed]",
      "text/plain": [
       "<Figure size 1500x500 with 2 Axes>"
      ]
     },
     "metadata": {},
     "output_type": "display_data"
    }
   ],
   "source": [
    "matplotlib.pyplot.figure(figsize=(15,5))\n",
    "matplotlib.pyplot.subplot(121)\n",
    "plot = seaborn.swarmplot(x='group', y='sentiment', data=name_sentiments)\n",
    "plot.set_ylim([-10, 10])\n",
    "matplotlib.pyplot.subplot(122)\n",
    "plot = seaborn.barplot(x='group', y='sentiment', data=name_sentiments, capsize= 0.1) "
   ]
  },
  {
   "cell_type": "markdown",
   "id": "31c55bf1",
   "metadata": {},
   "source": [
    "The accuracy of the above model, based on Twitter GloVe embeddings, is less than the previous combination of GloVe with SGD classifier. But we see that there is a noticeable difference in the visualization of sentiments of names belonging to different racial groups. The sentiment values were more spread in the swarm plot for the previous model. Here we see that the range of sentiment values has reduced slightly. The range of sentiments for names has reduced across all races, which is a good sign."
   ]
  },
  {
   "cell_type": "markdown",
   "id": "154bd61b",
   "metadata": {},
   "source": [
    "The negative sentiment scores of names of all the groups has also reduced and moved closer to 0 as visible from the bar graph, which is what we want. This means that the variance of sentiment score is decreasing inside each group. We want the values to have less variance, both inside the group, and between different groups. This would mean that the names belonging to different groups have low impact on the sentiment score of a statement. Names should have little to no significance or a sentimental score associated with them if we want our model to be bias free or as close to it as possible.   "
   ]
  },
  {
   "cell_type": "code",
   "execution_count": null,
   "id": "c725917e",
   "metadata": {},
   "outputs": [],
   "source": []
  },
  {
   "cell_type": "markdown",
   "id": "8cc71534",
   "metadata": {},
   "source": [
    "### Finally, SGD classifier and ConceptNet Numberbatch embeddings used to create a model \n"
   ]
  },
  {
   "cell_type": "raw",
   "id": "ebd0787c",
   "metadata": {},
   "source": []
  },
  {
   "cell_type": "code",
   "execution_count": 85,
   "id": "0b4e814d",
   "metadata": {},
   "outputs": [
    {
     "name": "stdout",
     "output_type": "stream",
     "text": [
      "(516782, 300)\n"
     ]
    }
   ],
   "source": [
    "def load_embeddings(filename):\n",
    "    \"\"\"\n",
    "    Load a DataFrame from the generalized text format used by word2vec, GloVe,\n",
    "    fastText, and ConceptNet Numberbatch. The main point where they differ is\n",
    "    whether there is an initial line with the dimensions of the matrix.\n",
    "    \"\"\"\n",
    "    labels = []\n",
    "    rows = []\n",
    "    with open(filename, encoding='utf-8') as infile:\n",
    "        for i, line in enumerate(infile):\n",
    "            items = line.rstrip().split(' ')\n",
    "            if len(items) == 2:  # This condition is specific to GloVe format, not needed for ConceptNet Numberbatch\n",
    "                continue\n",
    "            word = items[0]\n",
    "            labels.append(word)\n",
    "            values = np.array([float(x) for x in items[1:]], 'f')\n",
    "            rows.append(values)\n",
    "    \n",
    "    arr = np.vstack(rows)\n",
    "    return pd.DataFrame(arr, index=labels, dtype='f')\n",
    "\n",
    "embeddings = load_embeddings('data/numberbatch-en.txt')  # Use ConceptNet Numberbatch file\n",
    "print(embeddings.shape)\n"
   ]
  },
  {
   "cell_type": "code",
   "execution_count": 86,
   "id": "db293cf1",
   "metadata": {},
   "outputs": [
    {
     "name": "stdout",
     "output_type": "stream",
     "text": [
      "(1832, 300) (4479, 300)\n"
     ]
    }
   ],
   "source": [
    "pos_words_common = list(set(pos_words) & set(embeddings.index)) \n",
    "neg_words_common = list(set(neg_words) & set(embeddings.index)) \n",
    "\n",
    "pos_vectors = embeddings.loc[pos_words_common]\n",
    "neg_vectors = embeddings.loc[neg_words_common]\n",
    "print(pos_vectors.shape,neg_vectors.shape)"
   ]
  },
  {
   "cell_type": "code",
   "execution_count": 87,
   "id": "b6d55d23",
   "metadata": {},
   "outputs": [],
   "source": [
    "vectors = pd.concat([pos_vectors, neg_vectors])\n",
    "targets = np.array([1 for entry in pos_vectors.index] + [-1 for entry in neg_vectors.index])\n",
    "labels = list(pos_vectors.index) + list(neg_vectors.index)"
   ]
  },
  {
   "cell_type": "code",
   "execution_count": 88,
   "id": "80e6628f",
   "metadata": {},
   "outputs": [],
   "source": [
    "train_vectors, test_vectors, train_targets, test_targets, train_labels, test_labels = \\\n",
    "    train_test_split(vectors, targets, labels, test_size=0.1, random_state=0)"
   ]
  },
  {
   "cell_type": "code",
   "execution_count": 89,
   "id": "e89089ba",
   "metadata": {},
   "outputs": [
    {
     "data": {
      "text/plain": [
       "0.9715189873417721"
      ]
     },
     "execution_count": 89,
     "metadata": {},
     "output_type": "execute_result"
    }
   ],
   "source": [
    "# create a linear classifier \n",
    "model = SGDClassifier(loss='log', random_state=0, max_iter=100)\n",
    "model.fit(train_vectors, train_targets)\n",
    "accuracy_score(model.predict(test_vectors), test_targets)"
   ]
  },
  {
   "cell_type": "code",
   "execution_count": 90,
   "id": "28b7e7d6",
   "metadata": {},
   "outputs": [
    {
     "data": {
      "text/html": [
       "<div>\n",
       "<style scoped>\n",
       "    .dataframe tbody tr th:only-of-type {\n",
       "        vertical-align: middle;\n",
       "    }\n",
       "\n",
       "    .dataframe tbody tr th {\n",
       "        vertical-align: top;\n",
       "    }\n",
       "\n",
       "    .dataframe thead th {\n",
       "        text-align: right;\n",
       "    }\n",
       "</style>\n",
       "<table border=\"1\" class=\"dataframe\">\n",
       "  <thead>\n",
       "    <tr style=\"text-align: right;\">\n",
       "      <th></th>\n",
       "      <th>sentiment</th>\n",
       "    </tr>\n",
       "  </thead>\n",
       "  <tbody>\n",
       "    <tr>\n",
       "      <th>monstrosity</th>\n",
       "      <td>-5.519078</td>\n",
       "    </tr>\n",
       "    <tr>\n",
       "      <th>irritably</th>\n",
       "      <td>-6.737702</td>\n",
       "    </tr>\n",
       "    <tr>\n",
       "      <th>lethal</th>\n",
       "      <td>-4.338785</td>\n",
       "    </tr>\n",
       "    <tr>\n",
       "      <th>obliterated</th>\n",
       "      <td>-3.713728</td>\n",
       "    </tr>\n",
       "    <tr>\n",
       "      <th>uncreative</th>\n",
       "      <td>-5.151582</td>\n",
       "    </tr>\n",
       "    <tr>\n",
       "      <th>wrong</th>\n",
       "      <td>-6.071656</td>\n",
       "    </tr>\n",
       "    <tr>\n",
       "      <th>genuine</th>\n",
       "      <td>3.729295</td>\n",
       "    </tr>\n",
       "    <tr>\n",
       "      <th>declines</th>\n",
       "      <td>-3.123223</td>\n",
       "    </tr>\n",
       "    <tr>\n",
       "      <th>idol</th>\n",
       "      <td>1.856134</td>\n",
       "    </tr>\n",
       "    <tr>\n",
       "      <th>inspiration</th>\n",
       "      <td>5.426401</td>\n",
       "    </tr>\n",
       "    <tr>\n",
       "      <th>impolitic</th>\n",
       "      <td>-6.744328</td>\n",
       "    </tr>\n",
       "    <tr>\n",
       "      <th>enthusiast</th>\n",
       "      <td>2.693366</td>\n",
       "    </tr>\n",
       "    <tr>\n",
       "      <th>infected</th>\n",
       "      <td>-3.157156</td>\n",
       "    </tr>\n",
       "    <tr>\n",
       "      <th>loopholes</th>\n",
       "      <td>-1.592289</td>\n",
       "    </tr>\n",
       "    <tr>\n",
       "      <th>damaging</th>\n",
       "      <td>-6.460787</td>\n",
       "    </tr>\n",
       "    <tr>\n",
       "      <th>fascination</th>\n",
       "      <td>2.148978</td>\n",
       "    </tr>\n",
       "    <tr>\n",
       "      <th>sin</th>\n",
       "      <td>-3.923156</td>\n",
       "    </tr>\n",
       "    <tr>\n",
       "      <th>marvelous</th>\n",
       "      <td>7.597171</td>\n",
       "    </tr>\n",
       "    <tr>\n",
       "      <th>fatuous</th>\n",
       "      <td>-6.036784</td>\n",
       "    </tr>\n",
       "    <tr>\n",
       "      <th>dazed</th>\n",
       "      <td>-3.321811</td>\n",
       "    </tr>\n",
       "  </tbody>\n",
       "</table>\n",
       "</div>"
      ],
      "text/plain": [
       "             sentiment\n",
       "monstrosity  -5.519078\n",
       "irritably    -6.737702\n",
       "lethal       -4.338785\n",
       "obliterated  -3.713728\n",
       "uncreative   -5.151582\n",
       "wrong        -6.071656\n",
       "genuine       3.729295\n",
       "declines     -3.123223\n",
       "idol          1.856134\n",
       "inspiration   5.426401\n",
       "impolitic    -6.744328\n",
       "enthusiast    2.693366\n",
       "infected     -3.157156\n",
       "loopholes    -1.592289\n",
       "damaging     -6.460787\n",
       "fascination   2.148978\n",
       "sin          -3.923156\n",
       "marvelous     7.597171\n",
       "fatuous      -6.036784\n",
       "dazed        -3.321811"
      ]
     },
     "execution_count": 90,
     "metadata": {},
     "output_type": "execute_result"
    }
   ],
   "source": [
    "def vecs_to_sentiment(vecs):\n",
    "    # predict_log_proba gives the log probability for each class\n",
    "    predictions = model.predict_log_proba(vecs)\n",
    "\n",
    "    # To see an overall positive vs. negative classification in one number,\n",
    "    # we take the log probability of positive sentiment minus the log\n",
    "    # probability of negative sentiment.\n",
    "    # this is a logarithm of the max margin for the classifier, \n",
    "    # similar to odds ratio (but not exact) log(p_1/p_0) = log(p_1)-log(p_0)\n",
    "    return predictions[:, 1] - predictions[:, 0]\n",
    "\n",
    "\n",
    "\n",
    "def words_to_sentiment(words):\n",
    "    # Filter out words that are not found in the embeddings DataFrame\n",
    "    words_in_embeddings = [word for word in words if word in embeddings.index]\n",
    "    \n",
    "    # Get embeddings for the words found in the embeddings DataFrame\n",
    "    vecs = embeddings.loc[words_in_embeddings].dropna()\n",
    "    \n",
    "    # Calculate sentiment based on the embeddings\n",
    "    log_odds = vecs_to_sentiment(vecs)\n",
    "    \n",
    "    # Return DataFrame with sentiment values for the words found in the embeddings DataFrame\n",
    "    return pd.DataFrame({'sentiment': log_odds}, index=vecs.index)\n",
    "\n",
    "\n",
    "'''\n",
    "def words_to_sentiment(words):\n",
    "    vecs = embeddings.loc[words].dropna()\n",
    "    log_odds = vecs_to_sentiment(vecs)\n",
    "    return pd.DataFrame({'sentiment': log_odds}, index=vecs.index)\n",
    "\n",
    "\n",
    "# Show 20 examples from the test set\n",
    "words_to_sentiment(test_labels).iloc[:20]\n",
    "'''\n",
    "\n",
    "# Show 20 examples from the test set\n",
    "words_to_sentiment(test_labels).iloc[:20]\n",
    "\n",
    "\n",
    "\n"
   ]
  },
  {
   "cell_type": "code",
   "execution_count": 91,
   "id": "1e0aa315",
   "metadata": {},
   "outputs": [],
   "source": [
    "import re\n",
    "TOKEN_RE = re.compile(r\"\\w.*?\\b\")\n",
    "# The regex above finds tokens that start with a word-like character (\\w), and continues\n",
    "# matching characters (.+?) until the next word break (\\b). It's a relatively simple\n",
    "# expression that manages to extract something very much like words from text.\n",
    "\n",
    "\n",
    "def text_to_sentiment(text):\n",
    "    # tokenize the input phrase\n",
    "    tokens = [token.casefold() for token in TOKEN_RE.findall(text)]\n",
    "    # send each token separately into the embedding, then the classifier\n",
    "    sentiments = words_to_sentiment(tokens)\n",
    "    return sentiments['sentiment'].mean() # return the mean for the classifier"
   ]
  },
  {
   "cell_type": "code",
   "execution_count": 92,
   "id": "7dfb4a32",
   "metadata": {},
   "outputs": [
    {
     "data": {
      "text/plain": [
       "-0.5526136393260351"
      ]
     },
     "execution_count": 92,
     "metadata": {},
     "output_type": "execute_result"
    }
   ],
   "source": [
    "text_to_sentiment(\"My name is Dr. Larson\")"
   ]
  },
  {
   "cell_type": "code",
   "execution_count": 93,
   "id": "99ff4e6e",
   "metadata": {},
   "outputs": [
    {
     "data": {
      "text/plain": [
       "-0.5449701237131406"
      ]
     },
     "execution_count": 93,
     "metadata": {},
     "output_type": "execute_result"
    }
   ],
   "source": [
    "text_to_sentiment(\"My name is Varun\")"
   ]
  },
  {
   "cell_type": "code",
   "execution_count": 94,
   "id": "9daea6a7",
   "metadata": {},
   "outputs": [
    {
     "data": {
      "text/plain": [
       "-0.501643339874074"
      ]
     },
     "execution_count": 94,
     "metadata": {},
     "output_type": "execute_result"
    }
   ],
   "source": [
    "text_to_sentiment(\"My name is Varun Singh\")"
   ]
  },
  {
   "cell_type": "code",
   "execution_count": 95,
   "id": "a8b278be",
   "metadata": {},
   "outputs": [
    {
     "data": {
      "text/plain": [
       "-0.4355064651204912"
      ]
     },
     "execution_count": 95,
     "metadata": {},
     "output_type": "execute_result"
    }
   ],
   "source": [
    "text_to_sentiment(\"My name is Eric\")"
   ]
  },
  {
   "cell_type": "code",
   "execution_count": 96,
   "id": "aa3bfd72",
   "metadata": {},
   "outputs": [
    {
     "data": {
      "text/plain": [
       "-0.4584609427562875"
      ]
     },
     "execution_count": 96,
     "metadata": {},
     "output_type": "execute_result"
    }
   ],
   "source": [
    "text_to_sentiment(\"My name is Heather\")"
   ]
  },
  {
   "cell_type": "code",
   "execution_count": 97,
   "id": "8a9af9c4",
   "metadata": {},
   "outputs": [
    {
     "data": {
      "text/plain": [
       "-1.0225961073755798"
      ]
     },
     "execution_count": 97,
     "metadata": {},
     "output_type": "execute_result"
    }
   ],
   "source": [
    "text_to_sentiment(\"My name is Shaniqua\")"
   ]
  },
  {
   "cell_type": "code",
   "execution_count": 98,
   "id": "7fb1f1f8",
   "metadata": {},
   "outputs": [
    {
     "data": {
      "text/plain": [
       "-0.30459002062556184"
      ]
     },
     "execution_count": 98,
     "metadata": {},
     "output_type": "execute_result"
    }
   ],
   "source": [
    "text_to_sentiment(\"My name is David\")"
   ]
  },
  {
   "cell_type": "code",
   "execution_count": 99,
   "id": "8fe965ab",
   "metadata": {},
   "outputs": [
    {
     "data": {
      "text/plain": [
       "-0.3174565983346319"
      ]
     },
     "execution_count": 99,
     "metadata": {},
     "output_type": "execute_result"
    }
   ],
   "source": [
    "text_to_sentiment(\"I am from Asia\")"
   ]
  },
  {
   "cell_type": "code",
   "execution_count": 100,
   "id": "4f61558e",
   "metadata": {},
   "outputs": [
    {
     "data": {
      "text/plain": [
       "-0.6603567207533314"
      ]
     },
     "execution_count": 100,
     "metadata": {},
     "output_type": "execute_result"
    }
   ],
   "source": [
    "text_to_sentiment(\"I am from Africa\")"
   ]
  },
  {
   "cell_type": "code",
   "execution_count": 101,
   "id": "8e3bf3a4",
   "metadata": {},
   "outputs": [
    {
     "data": {
      "text/plain": [
       "-0.36153478154650637"
      ]
     },
     "execution_count": 101,
     "metadata": {},
     "output_type": "execute_result"
    }
   ],
   "source": [
    "text_to_sentiment(\"I am from Europe\")"
   ]
  },
  {
   "cell_type": "code",
   "execution_count": 102,
   "id": "fc65980e",
   "metadata": {},
   "outputs": [
    {
     "data": {
      "text/plain": [
       "-0.33290520321414596"
      ]
     },
     "execution_count": 102,
     "metadata": {},
     "output_type": "execute_result"
    }
   ],
   "source": [
    "text_to_sentiment(\"I am from South America\")"
   ]
  },
  {
   "cell_type": "code",
   "execution_count": 103,
   "id": "cc092f79",
   "metadata": {},
   "outputs": [
    {
     "data": {
      "text/plain": [
       "-0.6874994504870744"
      ]
     },
     "execution_count": 103,
     "metadata": {},
     "output_type": "execute_result"
    }
   ],
   "source": [
    "text_to_sentiment(\"I am from Canada\")"
   ]
  },
  {
   "cell_type": "code",
   "execution_count": 104,
   "id": "a9059fb1",
   "metadata": {},
   "outputs": [
    {
     "data": {
      "text/plain": [
       "-1.550816675732437"
      ]
     },
     "execution_count": 104,
     "metadata": {},
     "output_type": "execute_result"
    }
   ],
   "source": [
    "text_to_sentiment(\"I am a Python programmer\")"
   ]
  },
  {
   "cell_type": "code",
   "execution_count": 105,
   "id": "13798048",
   "metadata": {},
   "outputs": [
    {
     "data": {
      "text/plain": [
       "-1.7224944677586478"
      ]
     },
     "execution_count": 105,
     "metadata": {},
     "output_type": "execute_result"
    }
   ],
   "source": [
    "text_to_sentiment(\"I am a Java programmer\")"
   ]
  },
  {
   "cell_type": "code",
   "execution_count": 106,
   "id": "9802509b",
   "metadata": {},
   "outputs": [
    {
     "data": {
      "text/plain": [
       "-1.1010542092301359"
      ]
     },
     "execution_count": 106,
     "metadata": {},
     "output_type": "execute_result"
    }
   ],
   "source": [
    "text_to_sentiment(\"I am a C++ programmer\")"
   ]
  },
  {
   "cell_type": "code",
   "execution_count": 107,
   "id": "4896a5e3",
   "metadata": {},
   "outputs": [
    {
     "data": {
      "text/plain": [
       "-1.0236872616333155"
      ]
     },
     "execution_count": 107,
     "metadata": {},
     "output_type": "execute_result"
    }
   ],
   "source": [
    "text_to_sentiment(\"I am a Full Stack Developer\")"
   ]
  },
  {
   "cell_type": "code",
   "execution_count": 108,
   "id": "a568cb9f",
   "metadata": {},
   "outputs": [
    {
     "data": {
      "text/plain": [
       "-0.5674983648346857"
      ]
     },
     "execution_count": 108,
     "metadata": {},
     "output_type": "execute_result"
    }
   ],
   "source": [
    "text_to_sentiment(\"I am a Machine Learning Engineer\")"
   ]
  },
  {
   "cell_type": "code",
   "execution_count": 109,
   "id": "da79b9b4",
   "metadata": {},
   "outputs": [
    {
     "data": {
      "text/plain": [
       "-1.1816277229906014"
      ]
     },
     "execution_count": 109,
     "metadata": {},
     "output_type": "execute_result"
    }
   ],
   "source": [
    "text_to_sentiment(\"I am a Data Engineer\")"
   ]
  },
  {
   "cell_type": "code",
   "execution_count": 110,
   "id": "4c3ff9f2",
   "metadata": {},
   "outputs": [
    {
     "data": {
      "text/plain": [
       "-1.3451325362035615"
      ]
     },
     "execution_count": 110,
     "metadata": {},
     "output_type": "execute_result"
    }
   ],
   "source": [
    "text_to_sentiment(\"I am a Data Scientist\")"
   ]
  },
  {
   "cell_type": "code",
   "execution_count": 111,
   "id": "4edcb81a",
   "metadata": {},
   "outputs": [
    {
     "data": {
      "text/plain": [
       "-1.5870638226771807"
      ]
     },
     "execution_count": 111,
     "metadata": {},
     "output_type": "execute_result"
    }
   ],
   "source": [
    "text_to_sentiment(\"I am an atheist\")"
   ]
  },
  {
   "cell_type": "code",
   "execution_count": 112,
   "id": "ce5e3519",
   "metadata": {},
   "outputs": [
    {
     "data": {
      "text/plain": [
       "0.7166820345324612"
      ]
     },
     "execution_count": 112,
     "metadata": {},
     "output_type": "execute_result"
    }
   ],
   "source": [
    "text_to_sentiment(\"I believe in Allah\")"
   ]
  },
  {
   "cell_type": "code",
   "execution_count": 113,
   "id": "ef7c7bdc",
   "metadata": {},
   "outputs": [
    {
     "data": {
      "text/plain": [
       "0.6875021941207867"
      ]
     },
     "execution_count": 113,
     "metadata": {},
     "output_type": "execute_result"
    }
   ],
   "source": [
    "text_to_sentiment(\"I believe in Jesus\")"
   ]
  },
  {
   "cell_type": "code",
   "execution_count": 114,
   "id": "874261f7",
   "metadata": {},
   "outputs": [
    {
     "data": {
      "text/plain": [
       "0.1866333393694527"
      ]
     },
     "execution_count": 114,
     "metadata": {},
     "output_type": "execute_result"
    }
   ],
   "source": [
    "text_to_sentiment(\"I believe in Krishna\")"
   ]
  },
  {
   "cell_type": "code",
   "execution_count": 115,
   "id": "1fbc6af6",
   "metadata": {},
   "outputs": [
    {
     "data": {
      "text/plain": [
       "-0.6044805885885688"
      ]
     },
     "execution_count": 115,
     "metadata": {},
     "output_type": "execute_result"
    }
   ],
   "source": [
    "text_to_sentiment(\"I believe in Voldemort\")"
   ]
  },
  {
   "cell_type": "code",
   "execution_count": 116,
   "id": "6e30b653",
   "metadata": {},
   "outputs": [
    {
     "data": {
      "text/plain": [
       "-0.233267823278444"
      ]
     },
     "execution_count": 116,
     "metadata": {},
     "output_type": "execute_result"
    }
   ],
   "source": [
    "text_to_sentiment(\"I believe in Harry\")"
   ]
  },
  {
   "cell_type": "code",
   "execution_count": 118,
   "id": "b322766d",
   "metadata": {},
   "outputs": [
    {
     "data": {
      "text/plain": [
       "-1.6625671924162801"
      ]
     },
     "execution_count": 118,
     "metadata": {},
     "output_type": "execute_result"
    }
   ],
   "source": [
    "text_to_sentiment(\"I am a Capitalist\")"
   ]
  },
  {
   "cell_type": "code",
   "execution_count": 117,
   "id": "f72f7fa9",
   "metadata": {},
   "outputs": [],
   "source": [
    "##### Woah !!! Voldemort beat Harry with the power of positive sentiment ! "
   ]
  },
  {
   "cell_type": "code",
   "execution_count": 119,
   "id": "e5d227b5",
   "metadata": {},
   "outputs": [
    {
     "data": {
      "text/plain": [
       "-1.9496387964864386"
      ]
     },
     "execution_count": 119,
     "metadata": {},
     "output_type": "execute_result"
    }
   ],
   "source": [
    "text_to_sentiment(\"I am a Communist\")"
   ]
  },
  {
   "cell_type": "code",
   "execution_count": 120,
   "id": "1d20b78f",
   "metadata": {},
   "outputs": [
    {
     "data": {
      "text/plain": [
       "-1.6006333706567246"
      ]
     },
     "execution_count": 120,
     "metadata": {},
     "output_type": "execute_result"
    }
   ],
   "source": [
    "text_to_sentiment(\"I am a Socialist\")"
   ]
  },
  {
   "cell_type": "code",
   "execution_count": 121,
   "id": "31f27816",
   "metadata": {},
   "outputs": [
    {
     "data": {
      "text/plain": [
       "-1.4899227166435347"
      ]
     },
     "execution_count": 121,
     "metadata": {},
     "output_type": "execute_result"
    }
   ],
   "source": [
    "text_to_sentiment(\"I am a Democrat\")"
   ]
  },
  {
   "cell_type": "code",
   "execution_count": 122,
   "id": "a1a9709c",
   "metadata": {},
   "outputs": [
    {
     "data": {
      "text/plain": [
       "-1.783645358730284"
      ]
     },
     "execution_count": 122,
     "metadata": {},
     "output_type": "execute_result"
    }
   ],
   "source": [
    "text_to_sentiment(\"I am a Republican\")"
   ]
  },
  {
   "cell_type": "code",
   "execution_count": 123,
   "id": "11b41db6",
   "metadata": {},
   "outputs": [
    {
     "data": {
      "text/plain": [
       "-1.3843102833378387"
      ]
     },
     "execution_count": 123,
     "metadata": {},
     "output_type": "execute_result"
    }
   ],
   "source": [
    "text_to_sentiment(\"I am a Libertarian\")"
   ]
  },
  {
   "cell_type": "code",
   "execution_count": 124,
   "id": "849ec156",
   "metadata": {},
   "outputs": [],
   "source": [
    "NAMES_BY_ETHNICITY = {\n",
    "    # The first two lists are from the Caliskan et al. appendix describing the\n",
    "    # Word Embedding Association Test.\n",
    "    'White': [\n",
    "        'Adam', 'Chip', 'Harry', 'Josh', 'Roger', 'Alan', 'Frank', 'Ian', 'Justin',\n",
    "        'Ryan', 'Andrew', 'Fred', 'Jack', 'Matthew', 'Stephen', 'Brad', 'Greg', 'Jed',\n",
    "        'Paul', 'Todd', 'Brandon', 'Hank', 'Jonathan', 'Peter', 'Wilbur', 'Amanda',\n",
    "        'Courtney', 'Heather', 'Melanie', 'Sara', 'Amber', 'Crystal', 'Katie',\n",
    "        'Meredith', 'Shannon', 'Betsy', 'Donna', 'Kristin', 'Nancy', 'Stephanie',\n",
    "        'Ellen', 'Lauren', 'Peggy', 'Colleen', 'Emily',\n",
    "        'Megan', 'Rachel', 'Wendy'\n",
    "    ],\n",
    "\n",
    "    'Black': [\n",
    "        'Alonzo', 'Jamel', 'Theo', 'Alphonse', 'Jerome',\n",
    "        'Leroy', 'Torrance', 'Darnell', 'Lamar', 'Lionel',\n",
    "        'Tyree', 'Deion', 'Lamont', 'Malik', 'Terrence', 'Tyrone', \n",
    "        'Lavon', 'Marcellus', 'Wardell', 'Nichelle',\n",
    "        'Ebony', 'Shaniqua', \n",
    "        'Jasmine', 'Tanisha', 'Tia', 'Latoya',\n",
    "        'Yolanda', 'Malika', 'Yvette'\n",
    "    ],\n",
    "    #Larson Edit: had to remove a number of names that were not in the embedding\n",
    "    \n",
    "    # This list comes from statistics about common Hispanic-origin names in the US.\n",
    "    'Hispanic': [\n",
    "        'Juan', 'José', 'Miguel', 'Jorge', 'Santiago',\n",
    "        'Mateo',  'Alejandro', 'Samuel', 'Diego', 'Daniel', \n",
    "        'Juana', 'Ana', 'Luisa', 'María', 'Elena', 'Isabella', 'Valentina',\n",
    "        'Camila', 'Valeria', 'Ximena', 'Luciana', 'Mariana', 'Victoria', 'Martina'\n",
    "    ],\n",
    "    #Larson Edit: had to remove a number of names that were not in the embedding\n",
    "    \n",
    "    # The following list conflates religion and ethnicity, I'm aware. So do given names.\n",
    "    #\n",
    "    # This list was cobbled together from searching baby-name sites for common Muslim names,\n",
    "    # as spelled in English. I did not ultimately distinguish whether the origin of the name\n",
    "    # is Arabic or Urdu or another language.\n",
    "    #\n",
    "    # I'd be happy to replace it with something more authoritative, given a source.\n",
    "    'Arab/Muslim': [\n",
    "        'Mohammed', 'Omar', 'Ahmed', 'Ali', 'Youssef', 'Abdullah', 'Yasin', 'Hamza',\n",
    "        'Syed', 'Samar', 'Ahmad', 'Rayyan', 'Mariam',\n",
    "        'Jana', 'Malak', 'Salma', 'Nour', 'Lian', 'Fatima', 'Ayesha', 'Zahra', 'Sana',\n",
    "        'Zara', 'Alya', 'Shaista', 'Zoya', 'Yasmin'\n",
    "    ]\n",
    "}"
   ]
  },
  {
   "cell_type": "code",
   "execution_count": 125,
   "id": "704fa7bd",
   "metadata": {},
   "outputs": [
    {
     "data": {
      "text/html": [
       "<div>\n",
       "<style scoped>\n",
       "    .dataframe tbody tr th:only-of-type {\n",
       "        vertical-align: middle;\n",
       "    }\n",
       "\n",
       "    .dataframe tbody tr th {\n",
       "        vertical-align: top;\n",
       "    }\n",
       "\n",
       "    .dataframe thead th {\n",
       "        text-align: right;\n",
       "    }\n",
       "</style>\n",
       "<table border=\"1\" class=\"dataframe\">\n",
       "  <thead>\n",
       "    <tr style=\"text-align: right;\">\n",
       "      <th></th>\n",
       "      <th>sentiment</th>\n",
       "      <th>group</th>\n",
       "    </tr>\n",
       "  </thead>\n",
       "  <tbody>\n",
       "    <tr>\n",
       "      <th>mohammed</th>\n",
       "      <td>-0.552738</td>\n",
       "      <td>Arab/Muslim</td>\n",
       "    </tr>\n",
       "    <tr>\n",
       "      <th>zoya</th>\n",
       "      <td>-2.497287</td>\n",
       "      <td>Arab/Muslim</td>\n",
       "    </tr>\n",
       "    <tr>\n",
       "      <th>tia</th>\n",
       "      <td>-1.249178</td>\n",
       "      <td>Black</td>\n",
       "    </tr>\n",
       "    <tr>\n",
       "      <th>luciana</th>\n",
       "      <td>-2.864148</td>\n",
       "      <td>Hispanic</td>\n",
       "    </tr>\n",
       "    <tr>\n",
       "      <th>hank</th>\n",
       "      <td>-1.306320</td>\n",
       "      <td>White</td>\n",
       "    </tr>\n",
       "    <tr>\n",
       "      <th>rachel</th>\n",
       "      <td>-1.809841</td>\n",
       "      <td>White</td>\n",
       "    </tr>\n",
       "  </tbody>\n",
       "</table>\n",
       "</div>"
      ],
      "text/plain": [
       "          sentiment        group\n",
       "mohammed  -0.552738  Arab/Muslim\n",
       "zoya      -2.497287  Arab/Muslim\n",
       "tia       -1.249178        Black\n",
       "luciana   -2.864148     Hispanic\n",
       "hank      -1.306320        White\n",
       "rachel    -1.809841        White"
      ]
     },
     "execution_count": 125,
     "metadata": {},
     "output_type": "execute_result"
    }
   ],
   "source": [
    "def name_sentiment_table():\n",
    "    frames = []\n",
    "    for group, name_list in sorted(NAMES_BY_ETHNICITY.items()):\n",
    "        lower_names = [name.lower() for name in name_list]\n",
    "        sentiments = words_to_sentiment(lower_names)\n",
    "        sentiments['group'] = group\n",
    "        frames.append(sentiments)\n",
    "\n",
    "    # Put together the data we got from each ethnic group into one big table\n",
    "    return pd.concat(frames)\n",
    "\n",
    "name_sentiments = name_sentiment_table()\n",
    "\n",
    "name_sentiments.iloc[::25]"
   ]
  },
  {
   "cell_type": "code",
   "execution_count": 126,
   "id": "0c7da16f",
   "metadata": {},
   "outputs": [
    {
     "data": {
      "image/png": "[encoded data removed]",
      "text/plain": [
       "<Figure size 1500x500 with 2 Axes>"
      ]
     },
     "metadata": {},
     "output_type": "display_data"
    }
   ],
   "source": [
    "matplotlib.pyplot.figure(figsize=(15,5))\n",
    "matplotlib.pyplot.subplot(121)\n",
    "plot = seaborn.swarmplot(x='group', y='sentiment', data=name_sentiments)\n",
    "plot.set_ylim([-10, 10])\n",
    "matplotlib.pyplot.subplot(122)\n",
    "plot = seaborn.barplot(x='group', y='sentiment', data=name_sentiments, capsize=.1)"
   ]
  },
  {
   "cell_type": "markdown",
   "id": "6d5d42b3",
   "metadata": {},
   "source": [
    "This is the result Dr. Speer obtained. Reduced bias in sentiment analysis due to her improved embedding ConceptNet Numberbatch. "
   ]
  },
  {
   "cell_type": "markdown",
   "id": "59ac262c",
   "metadata": {},
   "source": [
    "# Feedforward Neural Network \n",
    "\n"
   ]
  },
  {
   "cell_type": "markdown",
   "id": "14448c5c",
   "metadata": {},
   "source": [
    "##### Using a Feedforward Neural Network Classifier and Glove Embeddings to build a model \n",
    "\n",
    "This section contains the same code for the next 3 models, built using the three embeddings. Only difference is the path to the location of the embeddings. I apologize for not organizing my code properly. I have re used a lot of code again and again..... to pre process data and model building. \n",
    "\n"
   ]
  },
  {
   "cell_type": "code",
   "execution_count": 127,
   "id": "ce481df6",
   "metadata": {},
   "outputs": [
    {
     "name": "stdout",
     "output_type": "stream",
     "text": [
      "2006 4783\n",
      "(1974, 300) (4642, 300)\n"
     ]
    }
   ],
   "source": [
    "import numpy as np\n",
    "import pandas as pd\n",
    "import matplotlib\n",
    "import seaborn\n",
    "import re\n",
    "\n",
    "from sklearn.linear_model import SGDClassifier\n",
    "from sklearn.model_selection import train_test_split\n",
    "from sklearn.metrics import accuracy_score\n",
    "\n",
    "# Configure how graphs will show up in this notebook\n",
    "%matplotlib inline\n",
    "seaborn.set_context('notebook', rc={'figure.figsize': (10, 6)}, font_scale=1.5)\n",
    "\n",
    "def load_embeddings(filename):\n",
    "    \"\"\"\n",
    "    Load a DataFrame from the generalized text format used by word2vec, GloVe,\n",
    "    fastText, and ConceptNet Numberbatch. The main point where they differ is\n",
    "    whether there is an initial line with the dimensions of the matrix.\n",
    "    \"\"\"\n",
    "    labels = []\n",
    "    rows = []\n",
    "    with open(filename, encoding='utf-8') as infile:\n",
    "        for i, line in enumerate(infile):\n",
    "            items = line.rstrip().split(' ')\n",
    "            if len(items) == 2:\n",
    "                # This is a header row giving the shape of the matrix\n",
    "                continue\n",
    "            labels.append(items[0])\n",
    "            values = np.array([float(x) for x in items[1:]], 'f')\n",
    "            rows.append(values)\n",
    "    \n",
    "    arr = np.vstack(rows)\n",
    "    return pd.DataFrame(arr, index=labels, dtype='f')\n",
    "\n",
    "embeddings = load_embeddings('data/glove.840B.300d.txt')\n",
    "embeddings.shape\n",
    "\n",
    "\n",
    "def load_lexicon(filename):\n",
    "    \"\"\"\n",
    "    Load a file from Bing Liu's sentiment lexicon\n",
    "    (https://www.cs.uic.edu/~liub/FBS/sentiment-analysis.html), containing\n",
    "    English words in Latin-1 encoding.\n",
    "    \n",
    "    One file contains a list of positive words, and the other contains\n",
    "    a list of negative words. The files contain comment lines starting\n",
    "    with ';' and blank lines, which should be skipped.\n",
    "    \"\"\"\n",
    "    lexicon = []\n",
    "    with open(filename, encoding='latin-1') as infile:\n",
    "        for line in infile:\n",
    "            line = line.rstrip()\n",
    "            if line and not line.startswith(';'):\n",
    "                lexicon.append(line)\n",
    "    return lexicon\n",
    "\n",
    "pos_words = load_lexicon('data/positive-words.txt')\n",
    "neg_words = load_lexicon('data/negative-words.txt')\n",
    "\n",
    "print(len(pos_words), len(neg_words))\n",
    "\n",
    "\n",
    "\n",
    "pos_words_common = list(set(pos_words) & set(embeddings.index)) \n",
    "neg_words_common = list(set(neg_words) & set(embeddings.index)) \n",
    "\n",
    "pos_vectors = embeddings.loc[pos_words_common]\n",
    "neg_vectors = embeddings.loc[neg_words_common]\n",
    "print(pos_vectors.shape,neg_vectors.shape)\n",
    "\n"
   ]
  },
  {
   "cell_type": "code",
   "execution_count": 128,
   "id": "a76fa5fa",
   "metadata": {},
   "outputs": [],
   "source": [
    "\n",
    "\n",
    "vectors = pd.concat([pos_vectors, neg_vectors])\n",
    "targets = np.array([1 for entry in pos_vectors.index] + [0 for entry in neg_vectors.index])\n",
    "labels = list(pos_vectors.index) + list(neg_vectors.index)\n",
    "\n",
    "\n",
    "\n",
    "train_vectors, test_vectors, train_targets, test_targets, train_labels, test_labels = \\\n",
    "    train_test_split(vectors, targets, labels, test_size=0.1, random_state=0)\n",
    "\n"
   ]
  },
  {
   "cell_type": "markdown",
   "id": "d7a52a90",
   "metadata": {},
   "source": [
    "Until now, we used the same code for preprocessing data, as in the instructor's notebook.\n",
    "\n",
    "\n",
    "Below, I trained a feed forward neural network, which classifies words as positive or negative. The network has 128 neuron in the hidden layer, which use ReLu activation function. The output layer has 2 neurons. Softmax activation function converts the scores to probabilities.\n",
    "\n"
   ]
  },
  {
   "cell_type": "code",
   "execution_count": 360,
   "id": "50ba2ea4",
   "metadata": {},
   "outputs": [
    {
     "name": "stdout",
     "output_type": "stream",
     "text": [
      "Epoch [1/10], Loss: 0.4244\n",
      "Epoch [2/10], Loss: 0.3447\n",
      "Epoch [3/10], Loss: 0.3478\n",
      "Epoch [4/10], Loss: 0.3280\n",
      "Epoch [5/10], Loss: 0.3629\n",
      "Epoch [6/10], Loss: 0.3548\n",
      "Epoch [7/10], Loss: 0.3462\n",
      "Epoch [8/10], Loss: 0.3307\n",
      "Epoch [9/10], Loss: 0.3365\n",
      "Epoch [10/10], Loss: 0.3412\n",
      "Accuracy: 0.9636\n"
     ]
    }
   ],
   "source": [
    "import torch\n",
    "import torch.nn as nn\n",
    "import torch.optim as optim\n",
    "from torch.utils.data import DataLoader, TensorDataset\n",
    "from sklearn.metrics import accuracy_score\n",
    "\n",
    "# Define the neural network architecture\n",
    "class SentimentClassifier(nn.Module):\n",
    "    def __init__(self, input_size, hidden_size, output_size):\n",
    "        super(SentimentClassifier, self).__init__()\n",
    "        self.fc1 = nn.Linear(input_size, hidden_size)\n",
    "        self.relu = nn.ReLU()\n",
    "        self.fc2 = nn.Linear(hidden_size, output_size)\n",
    "        self.softmax = nn.Softmax(dim=1)\n",
    "    \n",
    "    def forward(self, x):\n",
    "        x = self.fc1(x)\n",
    "        x = self.relu(x)\n",
    "        x = self.fc2(x)\n",
    "        x = self.softmax(x)\n",
    "        return x\n",
    "\n",
    "# Using pytorch tensors to store matrices, so I can utilize my GPU\n",
    "\n",
    "# Convert data to PyTorch tensors\n",
    "train_vectors_tensor = torch.tensor(train_vectors.values, dtype=torch.float32)\n",
    "test_vectors_tensor = torch.tensor(test_vectors.values, dtype=torch.float32)\n",
    "train_targets_tensor = torch.tensor(train_targets, dtype=torch.long)\n",
    "test_targets_tensor = torch.tensor(test_targets, dtype=torch.long)\n",
    "\n",
    "# Define hyperparameters\n",
    "input_size = train_vectors.shape[1]\n",
    "\n",
    "hidden_size = 128\n",
    "output_size = 2  # binary classification: positive vs. negative sentiment\n",
    "learning_rate = 0.001\n",
    "num_epochs = 10\n",
    "batch_size = 64\n",
    "\n",
    "# Create DataLoader for training and testing data, below code does batching and shuffling\n",
    "train_dataset = TensorDataset(train_vectors_tensor, train_targets_tensor)\n",
    "train_loader = DataLoader(train_dataset, batch_size=batch_size, shuffle=True)\n",
    "test_dataset = TensorDataset(test_vectors_tensor, test_targets_tensor)\n",
    "test_loader = DataLoader(test_dataset, batch_size=batch_size, shuffle=False)\n",
    "\n",
    "# Initialize model, loss function, and optimizer\n",
    "model = SentimentClassifier(input_size, hidden_size, output_size)\n",
    "criterion = nn.CrossEntropyLoss()\n",
    "optimizer = optim.Adam(model.parameters(), lr=learning_rate)\n",
    "\n",
    "# Training loop\n",
    "for epoch in range(num_epochs):\n",
    "    model.train()\n",
    "    for inputs, targets in train_loader:\n",
    "        optimizer.zero_grad()\n",
    "        outputs = model(inputs)\n",
    "        loss = criterion(outputs, targets)\n",
    "        loss.backward()\n",
    "        optimizer.step()\n",
    "\n",
    "    # Print loss after each epoch\n",
    "    print(f'Epoch [{epoch+1}/{num_epochs}], Loss: {loss.item():.4f}')\n",
    "\n",
    "# Evaluate the model\n",
    "model.eval()\n",
    "all_predictions = []\n",
    "with torch.no_grad():\n",
    "    for inputs, targets in test_loader:\n",
    "        outputs = model(inputs)\n",
    "        _, predicted = torch.max(outputs, 1)\n",
    "        all_predictions.extend(predicted.tolist())\n",
    "\n",
    "# Calculate accuracy\n",
    "accuracy = accuracy_score(test_targets, all_predictions)\n",
    "print(f'Accuracy: {accuracy:.4f}')\n"
   ]
  },
  {
   "cell_type": "code",
   "execution_count": null,
   "id": "ac42203f",
   "metadata": {},
   "outputs": [],
   "source": []
  },
  {
   "cell_type": "code",
   "execution_count": 130,
   "id": "e5d90319",
   "metadata": {},
   "outputs": [
    {
     "data": {
      "text/html": [
       "<div>\n",
       "<style scoped>\n",
       "    .dataframe tbody tr th:only-of-type {\n",
       "        vertical-align: middle;\n",
       "    }\n",
       "\n",
       "    .dataframe tbody tr th {\n",
       "        vertical-align: top;\n",
       "    }\n",
       "\n",
       "    .dataframe thead th {\n",
       "        text-align: right;\n",
       "    }\n",
       "</style>\n",
       "<table border=\"1\" class=\"dataframe\">\n",
       "  <thead>\n",
       "    <tr style=\"text-align: right;\">\n",
       "      <th></th>\n",
       "      <th>sentiment</th>\n",
       "    </tr>\n",
       "  </thead>\n",
       "  <tbody>\n",
       "    <tr>\n",
       "      <th>overtaxed</th>\n",
       "      <td>-0.999997</td>\n",
       "    </tr>\n",
       "    <tr>\n",
       "      <th>oasis</th>\n",
       "      <td>0.999980</td>\n",
       "    </tr>\n",
       "    <tr>\n",
       "      <th>mordantly</th>\n",
       "      <td>-0.999997</td>\n",
       "    </tr>\n",
       "    <tr>\n",
       "      <th>loner</th>\n",
       "      <td>-1.000000</td>\n",
       "    </tr>\n",
       "    <tr>\n",
       "      <th>reasonable</th>\n",
       "      <td>0.999988</td>\n",
       "    </tr>\n",
       "    <tr>\n",
       "      <th>invincible</th>\n",
       "      <td>0.999824</td>\n",
       "    </tr>\n",
       "    <tr>\n",
       "      <th>easy</th>\n",
       "      <td>1.000000</td>\n",
       "    </tr>\n",
       "    <tr>\n",
       "      <th>drained</th>\n",
       "      <td>-0.999999</td>\n",
       "    </tr>\n",
       "    <tr>\n",
       "      <th>hates</th>\n",
       "      <td>-1.000000</td>\n",
       "    </tr>\n",
       "    <tr>\n",
       "      <th>foolishly</th>\n",
       "      <td>-1.000000</td>\n",
       "    </tr>\n",
       "    <tr>\n",
       "      <th>delinquency</th>\n",
       "      <td>-0.999855</td>\n",
       "    </tr>\n",
       "    <tr>\n",
       "      <th>ineffective</th>\n",
       "      <td>-1.000000</td>\n",
       "    </tr>\n",
       "    <tr>\n",
       "      <th>knowledgeable</th>\n",
       "      <td>1.000000</td>\n",
       "    </tr>\n",
       "    <tr>\n",
       "      <th>suspicion</th>\n",
       "      <td>-1.000000</td>\n",
       "    </tr>\n",
       "    <tr>\n",
       "      <th>worrier</th>\n",
       "      <td>-1.000000</td>\n",
       "    </tr>\n",
       "    <tr>\n",
       "      <th>undermined</th>\n",
       "      <td>-1.000000</td>\n",
       "    </tr>\n",
       "    <tr>\n",
       "      <th>falsely</th>\n",
       "      <td>-1.000000</td>\n",
       "    </tr>\n",
       "    <tr>\n",
       "      <th>heedless</th>\n",
       "      <td>-1.000000</td>\n",
       "    </tr>\n",
       "    <tr>\n",
       "      <th>indecisive</th>\n",
       "      <td>-1.000000</td>\n",
       "    </tr>\n",
       "    <tr>\n",
       "      <th>mightily</th>\n",
       "      <td>-0.330569</td>\n",
       "    </tr>\n",
       "  </tbody>\n",
       "</table>\n",
       "</div>"
      ],
      "text/plain": [
       "               sentiment\n",
       "overtaxed      -0.999997\n",
       "oasis           0.999980\n",
       "mordantly      -0.999997\n",
       "loner          -1.000000\n",
       "reasonable      0.999988\n",
       "invincible      0.999824\n",
       "easy            1.000000\n",
       "drained        -0.999999\n",
       "hates          -1.000000\n",
       "foolishly      -1.000000\n",
       "delinquency    -0.999855\n",
       "ineffective    -1.000000\n",
       "knowledgeable   1.000000\n",
       "suspicion      -1.000000\n",
       "worrier        -1.000000\n",
       "undermined     -1.000000\n",
       "falsely        -1.000000\n",
       "heedless       -1.000000\n",
       "indecisive     -1.000000\n",
       "mightily       -0.330569"
      ]
     },
     "execution_count": 130,
     "metadata": {},
     "output_type": "execute_result"
    }
   ],
   "source": [
    "import torch\n",
    "\n",
    "def vecs_to_sentiment(vecs, model):\n",
    "    # Move the input vectors to the device where the model is located\n",
    "    device = next(model.parameters()).device\n",
    "    \n",
    "    vecs_tensor = torch.tensor(vecs.values, dtype=torch.float32).to(device)\n",
    "    \n",
    "    # Ensure the model is in evaluation mode\n",
    "    model.eval()\n",
    "\n",
    "    # Forward pass to get the logits\n",
    "    with torch.no_grad():\n",
    "        logits = model(vecs_tensor)\n",
    "    \n",
    "    # Convert logits to probabilities using softmax\n",
    "    probabilities = torch.softmax(logits, dim=1)\n",
    "    \n",
    "    # Compute the log probability for positive sentiment and negative sentiment\n",
    "    log_prob_pos = torch.log(probabilities[:, 1])\n",
    "    log_prob_neg = torch.log(probabilities[:, 0])\n",
    "\n",
    "    # Compute the log odds ratio for sentiment classification\n",
    "    log_odds = log_prob_pos - log_prob_neg\n",
    "    \n",
    "    return log_odds\n",
    "\n",
    "\n",
    "def words_to_sentiment(words, embeddings, model):\n",
    "    # Retrieve embeddings for the input words\n",
    "    vecs = embeddings.loc[words].dropna()\n",
    "    \n",
    "    # Compute sentiment using the provided model\n",
    "    log_odds = vecs_to_sentiment(vecs, model)\n",
    "    \n",
    "    return pd.DataFrame({'sentiment': log_odds}, index=vecs.index)\n",
    "\n",
    "\n",
    "words_to_sentiment(test_labels, embeddings, model).iloc[:20]\n"
   ]
  },
  {
   "cell_type": "markdown",
   "id": "a408bf60",
   "metadata": {},
   "source": [
    "Accuracy of approximately 97% and sentiment scores for words seem to be either close to 1 or -1, which I believe is a good sign. "
   ]
  },
  {
   "cell_type": "code",
   "execution_count": 131,
   "id": "db8c9bc0",
   "metadata": {},
   "outputs": [],
   "source": [
    "import re\n",
    "TOKEN_RE = re.compile(r\"\\w.*?\\b\")\n",
    "# The regex above finds tokens that start with a word-like character (\\w), and continues\n",
    "# matching characters (.+?) until the next word break (\\b). It's a relatively simple\n",
    "# expression that manages to extract something very much like words from text.\n",
    "\n",
    "\n",
    "def text_to_sentiment(text):\n",
    "    # tokenize the input phrase\n",
    "    tokens = [token.casefold() for token in TOKEN_RE.findall(text)]\n",
    "    # send each token separately into the embedding, then the classifier\n",
    "    sentiments = words_to_sentiment(tokens, embeddings, model)\n",
    "    return sentiments['sentiment'].mean() # return the mean for the classifier"
   ]
  },
  {
   "cell_type": "code",
   "execution_count": 132,
   "id": "736a1881",
   "metadata": {},
   "outputs": [
    {
     "data": {
      "text/plain": [
       "0.6986210942268372"
      ]
     },
     "execution_count": 132,
     "metadata": {},
     "output_type": "execute_result"
    }
   ],
   "source": [
    "text_to_sentiment(\"My name is Dr. Larson\")"
   ]
  },
  {
   "cell_type": "code",
   "execution_count": 133,
   "id": "d18b0768",
   "metadata": {},
   "outputs": [
    {
     "data": {
      "text/plain": [
       "0.32360708713531494"
      ]
     },
     "execution_count": 133,
     "metadata": {},
     "output_type": "execute_result"
    }
   ],
   "source": [
    "text_to_sentiment(\"My name is Varun\")"
   ]
  },
  {
   "cell_type": "code",
   "execution_count": 134,
   "id": "17c48199",
   "metadata": {},
   "outputs": [
    {
     "data": {
      "text/plain": [
       "0.45879077911376953"
      ]
     },
     "execution_count": 134,
     "metadata": {},
     "output_type": "execute_result"
    }
   ],
   "source": [
    "text_to_sentiment(\"My name is Varun Singh\")"
   ]
  },
  {
   "cell_type": "code",
   "execution_count": 135,
   "id": "39ac1d68",
   "metadata": {},
   "outputs": [
    {
     "data": {
      "text/plain": [
       "0.7938747406005859"
      ]
     },
     "execution_count": 135,
     "metadata": {},
     "output_type": "execute_result"
    }
   ],
   "source": [
    "text_to_sentiment(\"My name is Eric\")"
   ]
  },
  {
   "cell_type": "code",
   "execution_count": 136,
   "id": "3c806fd6",
   "metadata": {},
   "outputs": [
    {
     "data": {
      "text/plain": [
       "0.7190067768096924"
      ]
     },
     "execution_count": 136,
     "metadata": {},
     "output_type": "execute_result"
    }
   ],
   "source": [
    "text_to_sentiment(\"My name is Heather\")"
   ]
  },
  {
   "cell_type": "code",
   "execution_count": 137,
   "id": "aff9c1f2",
   "metadata": {},
   "outputs": [
    {
     "data": {
      "text/plain": [
       "0.32352620363235474"
      ]
     },
     "execution_count": 137,
     "metadata": {},
     "output_type": "execute_result"
    }
   ],
   "source": [
    "text_to_sentiment(\"My name is Shaniqua\")"
   ]
  },
  {
   "cell_type": "markdown",
   "id": "3d4fa34f",
   "metadata": {},
   "source": [
    "### Our model seems to be doing good job ignoring the names and predicting sentiment."
   ]
  },
  {
   "cell_type": "code",
   "execution_count": 138,
   "id": "8e1984ff",
   "metadata": {},
   "outputs": [
    {
     "data": {
      "text/plain": [
       "0.821441113948822"
      ]
     },
     "execution_count": 138,
     "metadata": {},
     "output_type": "execute_result"
    }
   ],
   "source": [
    "text_to_sentiment(\"My name is David\")"
   ]
  },
  {
   "cell_type": "code",
   "execution_count": 139,
   "id": "281efbce",
   "metadata": {},
   "outputs": [
    {
     "data": {
      "text/plain": [
       "0.27441197633743286"
      ]
     },
     "execution_count": 139,
     "metadata": {},
     "output_type": "execute_result"
    }
   ],
   "source": [
    "text_to_sentiment(\"I am from Asia\")"
   ]
  },
  {
   "cell_type": "code",
   "execution_count": 140,
   "id": "131d02c8",
   "metadata": {},
   "outputs": [
    {
     "data": {
      "text/plain": [
       "-0.11206009984016418"
      ]
     },
     "execution_count": 140,
     "metadata": {},
     "output_type": "execute_result"
    }
   ],
   "source": [
    "text_to_sentiment(\"I am from Africa\")"
   ]
  },
  {
   "cell_type": "code",
   "execution_count": 141,
   "id": "06515928",
   "metadata": {},
   "outputs": [
    {
     "data": {
      "text/plain": [
       "0.3551316261291504"
      ]
     },
     "execution_count": 141,
     "metadata": {},
     "output_type": "execute_result"
    }
   ],
   "source": [
    "text_to_sentiment(\"I am from Europe\")"
   ]
  },
  {
   "cell_type": "code",
   "execution_count": 142,
   "id": "62b52854",
   "metadata": {},
   "outputs": [
    {
     "data": {
      "text/plain": [
       "0.0894070416688919"
      ]
     },
     "execution_count": 142,
     "metadata": {},
     "output_type": "execute_result"
    }
   ],
   "source": [
    "text_to_sentiment(\"I am from South America\")"
   ]
  },
  {
   "cell_type": "code",
   "execution_count": 143,
   "id": "39f542c1",
   "metadata": {},
   "outputs": [
    {
     "data": {
      "text/plain": [
       "0.37083521485328674"
      ]
     },
     "execution_count": 143,
     "metadata": {},
     "output_type": "execute_result"
    }
   ],
   "source": [
    "text_to_sentiment(\"I am from Canada\")"
   ]
  },
  {
   "cell_type": "code",
   "execution_count": 144,
   "id": "f792faba",
   "metadata": {},
   "outputs": [
    {
     "data": {
      "text/plain": [
       "0.29267436265945435"
      ]
     },
     "execution_count": 144,
     "metadata": {},
     "output_type": "execute_result"
    }
   ],
   "source": [
    "text_to_sentiment(\"I am a Python programmer\")"
   ]
  },
  {
   "cell_type": "code",
   "execution_count": 145,
   "id": "44dbbb12",
   "metadata": {},
   "outputs": [
    {
     "data": {
      "text/plain": [
       "0.6155487298965454"
      ]
     },
     "execution_count": 145,
     "metadata": {},
     "output_type": "execute_result"
    }
   ],
   "source": [
    "text_to_sentiment(\"I am a Java programmer\")"
   ]
  },
  {
   "cell_type": "code",
   "execution_count": 146,
   "id": "da15e140",
   "metadata": {},
   "outputs": [
    {
     "data": {
      "text/plain": [
       "0.539816677570343"
      ]
     },
     "execution_count": 146,
     "metadata": {},
     "output_type": "execute_result"
    }
   ],
   "source": [
    "text_to_sentiment(\"I am a C++ programmer\")"
   ]
  },
  {
   "cell_type": "code",
   "execution_count": 147,
   "id": "afa86e63",
   "metadata": {},
   "outputs": [
    {
     "data": {
      "text/plain": [
       "0.3765212595462799"
      ]
     },
     "execution_count": 147,
     "metadata": {},
     "output_type": "execute_result"
    }
   ],
   "source": [
    "text_to_sentiment(\"I am a Full Stack Developer\")"
   ]
  },
  {
   "cell_type": "code",
   "execution_count": 148,
   "id": "7f990c15",
   "metadata": {},
   "outputs": [
    {
     "data": {
      "text/plain": [
       "0.3757091760635376"
      ]
     },
     "execution_count": 148,
     "metadata": {},
     "output_type": "execute_result"
    }
   ],
   "source": [
    "text_to_sentiment(\"I am a Machine Learning Engineer\")"
   ]
  },
  {
   "cell_type": "code",
   "execution_count": 149,
   "id": "c0af70bb",
   "metadata": {},
   "outputs": [
    {
     "data": {
      "text/plain": [
       "0.5029332637786865"
      ]
     },
     "execution_count": 149,
     "metadata": {},
     "output_type": "execute_result"
    }
   ],
   "source": [
    "text_to_sentiment(\"I am a Data Engineer\")"
   ]
  },
  {
   "cell_type": "code",
   "execution_count": 150,
   "id": "90b29389",
   "metadata": {},
   "outputs": [
    {
     "data": {
      "text/plain": [
       "0.46672409772872925"
      ]
     },
     "execution_count": 150,
     "metadata": {},
     "output_type": "execute_result"
    }
   ],
   "source": [
    "text_to_sentiment(\"I am a Data Scientist\")"
   ]
  },
  {
   "cell_type": "code",
   "execution_count": 151,
   "id": "cbd4373b",
   "metadata": {},
   "outputs": [
    {
     "data": {
      "text/plain": [
       "0.11796852946281433"
      ]
     },
     "execution_count": 151,
     "metadata": {},
     "output_type": "execute_result"
    }
   ],
   "source": [
    "text_to_sentiment(\"I am an atheist\")"
   ]
  },
  {
   "cell_type": "code",
   "execution_count": 152,
   "id": "148be1c1",
   "metadata": {},
   "outputs": [
    {
     "data": {
      "text/plain": [
       "0.9407535195350647"
      ]
     },
     "execution_count": 152,
     "metadata": {},
     "output_type": "execute_result"
    }
   ],
   "source": [
    "text_to_sentiment(\"I believe in Allah\")"
   ]
  },
  {
   "cell_type": "code",
   "execution_count": 153,
   "id": "57823d94",
   "metadata": {},
   "outputs": [
    {
     "data": {
      "text/plain": [
       "0.9407041668891907"
      ]
     },
     "execution_count": 153,
     "metadata": {},
     "output_type": "execute_result"
    }
   ],
   "source": [
    "text_to_sentiment(\"I believe in Jesus\")"
   ]
  },
  {
   "cell_type": "code",
   "execution_count": 154,
   "id": "5512e16a",
   "metadata": {},
   "outputs": [
    {
     "data": {
      "text/plain": [
       "0.9407355785369873"
      ]
     },
     "execution_count": 154,
     "metadata": {},
     "output_type": "execute_result"
    }
   ],
   "source": [
    "text_to_sentiment(\"I believe in Krishna\")"
   ]
  },
  {
   "cell_type": "markdown",
   "id": "f34d975d",
   "metadata": {},
   "source": [
    "### 'Atheists' again has the worst sentiment score compared to other statements of religious nature, but the model gave equal weightage to all the gods. A truly secular model !!! "
   ]
  },
  {
   "cell_type": "code",
   "execution_count": 155,
   "id": "2ebeb65b",
   "metadata": {},
   "outputs": [
    {
     "data": {
      "text/plain": [
       "0.4407547116279602"
      ]
     },
     "execution_count": 155,
     "metadata": {},
     "output_type": "execute_result"
    }
   ],
   "source": [
    "text_to_sentiment(\"I believe in Voldemort\")"
   ]
  },
  {
   "cell_type": "code",
   "execution_count": 156,
   "id": "88682a49",
   "metadata": {},
   "outputs": [
    {
     "data": {
      "text/plain": [
       "0.45143455266952515"
      ]
     },
     "execution_count": 156,
     "metadata": {},
     "output_type": "execute_result"
    }
   ],
   "source": [
    "text_to_sentiment(\"I believe in Harry\")"
   ]
  },
  {
   "cell_type": "code",
   "execution_count": 157,
   "id": "0e1c9234",
   "metadata": {},
   "outputs": [
    {
     "data": {
      "text/plain": [
       "0.05196656286716461"
      ]
     },
     "execution_count": 157,
     "metadata": {},
     "output_type": "execute_result"
    }
   ],
   "source": [
    "text_to_sentiment(\"I am a Capitalist\")"
   ]
  },
  {
   "cell_type": "code",
   "execution_count": 158,
   "id": "bb38c9ae",
   "metadata": {},
   "outputs": [
    {
     "data": {
      "text/plain": [
       "0.05171245336532593"
      ]
     },
     "execution_count": 158,
     "metadata": {},
     "output_type": "execute_result"
    }
   ],
   "source": [
    "text_to_sentiment(\"I am a Communist\")"
   ]
  },
  {
   "cell_type": "code",
   "execution_count": 159,
   "id": "2686b9cd",
   "metadata": {},
   "outputs": [
    {
     "data": {
      "text/plain": [
       "0.05172371864318848"
      ]
     },
     "execution_count": 159,
     "metadata": {},
     "output_type": "execute_result"
    }
   ],
   "source": [
    "text_to_sentiment(\"I am a Socialist\")"
   ]
  },
  {
   "cell_type": "code",
   "execution_count": 160,
   "id": "32d78c17",
   "metadata": {},
   "outputs": [
    {
     "data": {
      "text/plain": [
       "0.0649353414773941"
      ]
     },
     "execution_count": 160,
     "metadata": {},
     "output_type": "execute_result"
    }
   ],
   "source": [
    "text_to_sentiment(\"I am a Democrat\")"
   ]
  },
  {
   "cell_type": "code",
   "execution_count": 161,
   "id": "f12e011c",
   "metadata": {},
   "outputs": [
    {
     "data": {
      "text/plain": [
       "0.051716744899749756"
      ]
     },
     "execution_count": 161,
     "metadata": {},
     "output_type": "execute_result"
    }
   ],
   "source": [
    "text_to_sentiment(\"I am a Republican\")"
   ]
  },
  {
   "cell_type": "code",
   "execution_count": 162,
   "id": "a53faaff",
   "metadata": {},
   "outputs": [
    {
     "data": {
      "text/plain": [
       "0.37803977727890015"
      ]
     },
     "execution_count": 162,
     "metadata": {},
     "output_type": "execute_result"
    }
   ],
   "source": [
    "text_to_sentiment(\"I am a Libertarian\")"
   ]
  },
  {
   "cell_type": "code",
   "execution_count": 163,
   "id": "973107eb",
   "metadata": {},
   "outputs": [
    {
     "data": {
      "text/html": [
       "<div>\n",
       "<style scoped>\n",
       "    .dataframe tbody tr th:only-of-type {\n",
       "        vertical-align: middle;\n",
       "    }\n",
       "\n",
       "    .dataframe tbody tr th {\n",
       "        vertical-align: top;\n",
       "    }\n",
       "\n",
       "    .dataframe thead th {\n",
       "        text-align: right;\n",
       "    }\n",
       "</style>\n",
       "<table border=\"1\" class=\"dataframe\">\n",
       "  <thead>\n",
       "    <tr style=\"text-align: right;\">\n",
       "      <th></th>\n",
       "      <th>sentiment</th>\n",
       "      <th>group</th>\n",
       "    </tr>\n",
       "  </thead>\n",
       "  <tbody>\n",
       "    <tr>\n",
       "      <th>mohammed</th>\n",
       "      <td>-0.210124</td>\n",
       "      <td>Arab/Muslim</td>\n",
       "    </tr>\n",
       "    <tr>\n",
       "      <th>zoya</th>\n",
       "      <td>-0.871260</td>\n",
       "      <td>Arab/Muslim</td>\n",
       "    </tr>\n",
       "    <tr>\n",
       "      <th>tanisha</th>\n",
       "      <td>-0.999999</td>\n",
       "      <td>Black</td>\n",
       "    </tr>\n",
       "    <tr>\n",
       "      <th>ximena</th>\n",
       "      <td>0.998519</td>\n",
       "      <td>Hispanic</td>\n",
       "    </tr>\n",
       "    <tr>\n",
       "      <th>brandon</th>\n",
       "      <td>-0.388275</td>\n",
       "      <td>White</td>\n",
       "    </tr>\n",
       "    <tr>\n",
       "      <th>megan</th>\n",
       "      <td>0.356214</td>\n",
       "      <td>White</td>\n",
       "    </tr>\n",
       "  </tbody>\n",
       "</table>\n",
       "</div>"
      ],
      "text/plain": [
       "          sentiment        group\n",
       "mohammed  -0.210124  Arab/Muslim\n",
       "zoya      -0.871260  Arab/Muslim\n",
       "tanisha   -0.999999        Black\n",
       "ximena     0.998519     Hispanic\n",
       "brandon   -0.388275        White\n",
       "megan      0.356214        White"
      ]
     },
     "execution_count": 163,
     "metadata": {},
     "output_type": "execute_result"
    }
   ],
   "source": [
    "def name_sentiment_table():\n",
    "    frames = []\n",
    "    for group, name_list in sorted(NAMES_BY_ETHNICITY.items()):\n",
    "        lower_names = [name.lower() for name in name_list]\n",
    "        sentiments = words_to_sentiment(lower_names, embeddings, model)\n",
    "        sentiments['group'] = group\n",
    "        frames.append(sentiments)\n",
    "\n",
    "    # Put together the data we got from each ethnic group into one big table\n",
    "    return pd.concat(frames)\n",
    "\n",
    "name_sentiments = name_sentiment_table()\n",
    "\n",
    "name_sentiments.iloc[::25]"
   ]
  },
  {
   "cell_type": "code",
   "execution_count": 164,
   "id": "8acf9dee",
   "metadata": {},
   "outputs": [
    {
     "data": {
      "image/png": "[encoded data removed]",
      "text/plain": [
       "<Figure size 1500x500 with 2 Axes>"
      ]
     },
     "metadata": {},
     "output_type": "display_data"
    }
   ],
   "source": [
    "matplotlib.pyplot.figure(figsize=(15,5))\n",
    "matplotlib.pyplot.subplot(121)\n",
    "plot = seaborn.swarmplot(x='group', y='sentiment', data=name_sentiments)\n",
    "plot.set_ylim([-10, 10])\n",
    "matplotlib.pyplot.subplot(122)\n",
    "plot = seaborn.barplot(x='group', y='sentiment', data=name_sentiments, capsize= 0.1) "
   ]
  },
  {
   "cell_type": "markdown",
   "id": "af0634ce",
   "metadata": {},
   "source": [
    "This feedforward neural network performed really well in sentiment analysis. The values seem to be closely packed in the swarm plot as compared to all previous models that we saw in this project. This model had a high accuracy of predicting sentiments of unseen words and also did well in ignoring parts of sentences, such as names, which should not affect the sentiment scores of a statement.\n",
    "\n",
    "The bar plot also informs us that the variance from the mean value has also reduced. "
   ]
  },
  {
   "cell_type": "markdown",
   "id": "ec55e4ba",
   "metadata": {},
   "source": [
    "##### Using a Feedforward Neural Network Classifier and Glove Twitter Embeddings to build a model\n",
    "\n"
   ]
  },
  {
   "cell_type": "code",
   "execution_count": 165,
   "id": "35a5abe1",
   "metadata": {},
   "outputs": [
    {
     "name": "stdout",
     "output_type": "stream",
     "text": [
      "2006 4783\n",
      "(1974, 300) (4642, 300)\n"
     ]
    }
   ],
   "source": [
    "pos_words = load_lexicon('data/positive-words.txt')\n",
    "neg_words = load_lexicon('data/negative-words.txt')\n",
    "\n",
    "print(len(pos_words), len(neg_words))\n",
    "\n",
    "\n",
    "\n",
    "pos_words_common = list(set(pos_words) & set(embeddings.index)) \n",
    "neg_words_common = list(set(neg_words) & set(embeddings.index)) \n",
    "\n",
    "pos_vectors = embeddings.loc[pos_words_common]\n",
    "neg_vectors = embeddings.loc[neg_words_common]\n",
    "print(pos_vectors.shape,neg_vectors.shape)"
   ]
  },
  {
   "cell_type": "code",
   "execution_count": 166,
   "id": "ed5798f3",
   "metadata": {},
   "outputs": [],
   "source": [
    "vectors = pd.concat([pos_vectors, neg_vectors])\n",
    "targets = np.array([1 for entry in pos_vectors.index] + [0 for entry in neg_vectors.index])\n",
    "labels = list(pos_vectors.index) + list(neg_vectors.index)\n",
    "\n",
    "\n",
    "\n",
    "train_vectors, test_vectors, train_targets, test_targets, train_labels, test_labels = \\\n",
    "    train_test_split(vectors, targets, labels, test_size=0.1, random_state=0)"
   ]
  },
  {
   "cell_type": "code",
   "execution_count": 167,
   "id": "c17e5e63",
   "metadata": {},
   "outputs": [
    {
     "name": "stdout",
     "output_type": "stream",
     "text": [
      "Epoch [1/10], Loss: 0.4419\n",
      "Epoch [2/10], Loss: 0.3135\n",
      "Epoch [3/10], Loss: 0.3165\n",
      "Epoch [4/10], Loss: 0.3133\n",
      "Epoch [5/10], Loss: 0.3133\n",
      "Epoch [6/10], Loss: 0.3135\n",
      "Epoch [7/10], Loss: 0.3617\n",
      "Epoch [8/10], Loss: 0.3133\n",
      "Epoch [9/10], Loss: 0.3133\n",
      "Epoch [10/10], Loss: 0.3133\n",
      "Accuracy: 0.9517\n"
     ]
    }
   ],
   "source": [
    "import torch\n",
    "import torch.nn as nn\n",
    "import torch.optim as optim\n",
    "from torch.utils.data import DataLoader, TensorDataset\n",
    "from sklearn.metrics import accuracy_score\n",
    "\n",
    "# Define the neural network architecture\n",
    "class SentimentClassifier(nn.Module):\n",
    "    def __init__(self, input_size, hidden_size, output_size):\n",
    "        super(SentimentClassifier, self).__init__()\n",
    "        self.fc1 = nn.Linear(input_size, hidden_size)\n",
    "        self.relu = nn.ReLU()\n",
    "        self.fc2 = nn.Linear(hidden_size, output_size)\n",
    "        self.softmax = nn.Softmax(dim=1)\n",
    "    \n",
    "    def forward(self, x):\n",
    "        x = self.fc1(x)\n",
    "        x = self.relu(x)\n",
    "        x = self.fc2(x)\n",
    "        x = self.softmax(x)\n",
    "        return x\n",
    "\n",
    "# Convert data to PyTorch tensors\n",
    "train_vectors_tensor = torch.tensor(train_vectors.values, dtype=torch.float32)\n",
    "test_vectors_tensor = torch.tensor(test_vectors.values, dtype=torch.float32)\n",
    "train_targets_tensor = torch.tensor(train_targets, dtype=torch.long)\n",
    "test_targets_tensor = torch.tensor(test_targets, dtype=torch.long)\n",
    "\n",
    "# Define hyperparameters\n",
    "input_size = train_vectors.shape[1]\n",
    "hidden_size = 128\n",
    "output_size = 2  # binary classification: positive vs. negative sentiment\n",
    "learning_rate = 0.001\n",
    "num_epochs = 10\n",
    "batch_size = 64\n",
    "\n",
    "# Create DataLoader for training and testing data\n",
    "train_dataset = TensorDataset(train_vectors_tensor, train_targets_tensor)\n",
    "train_loader = DataLoader(train_dataset, batch_size=batch_size, shuffle=True)\n",
    "test_dataset = TensorDataset(test_vectors_tensor, test_targets_tensor)\n",
    "test_loader = DataLoader(test_dataset, batch_size=batch_size, shuffle=False)\n",
    "\n",
    "# Initialize model, loss function, and optimizer\n",
    "model = SentimentClassifier(input_size, hidden_size, output_size)\n",
    "criterion = nn.CrossEntropyLoss()\n",
    "optimizer = optim.Adam(model.parameters(), lr=learning_rate)\n",
    "\n",
    "# Training loop\n",
    "for epoch in range(num_epochs):\n",
    "    model.train()\n",
    "    for inputs, targets in train_loader:\n",
    "        optimizer.zero_grad()\n",
    "        outputs = model(inputs)\n",
    "        loss = criterion(outputs, targets)\n",
    "        loss.backward()\n",
    "        optimizer.step()\n",
    "\n",
    "    # Print loss after each epoch\n",
    "    print(f'Epoch [{epoch+1}/{num_epochs}], Loss: {loss.item():.4f}')\n",
    "\n",
    "# Evaluate the model\n",
    "model.eval()\n",
    "all_predictions = []\n",
    "with torch.no_grad():\n",
    "    for inputs, targets in test_loader:\n",
    "        outputs = model(inputs)\n",
    "        _, predicted = torch.max(outputs, 1)\n",
    "        all_predictions.extend(predicted.tolist())\n",
    "\n",
    "# Calculate accuracy\n",
    "accuracy = accuracy_score(test_targets, all_predictions)\n",
    "print(f'Accuracy: {accuracy:.4f}')"
   ]
  },
  {
   "cell_type": "markdown",
   "id": "2d4bb6cb",
   "metadata": {},
   "source": [
    "We see a similar accuracy as the model with GloVe embeddings."
   ]
  },
  {
   "cell_type": "code",
   "execution_count": 168,
   "id": "d8fcd3ac",
   "metadata": {},
   "outputs": [
    {
     "data": {
      "text/html": [
       "<div>\n",
       "<style scoped>\n",
       "    .dataframe tbody tr th:only-of-type {\n",
       "        vertical-align: middle;\n",
       "    }\n",
       "\n",
       "    .dataframe tbody tr th {\n",
       "        vertical-align: top;\n",
       "    }\n",
       "\n",
       "    .dataframe thead th {\n",
       "        text-align: right;\n",
       "    }\n",
       "</style>\n",
       "<table border=\"1\" class=\"dataframe\">\n",
       "  <thead>\n",
       "    <tr style=\"text-align: right;\">\n",
       "      <th></th>\n",
       "      <th>sentiment</th>\n",
       "    </tr>\n",
       "  </thead>\n",
       "  <tbody>\n",
       "    <tr>\n",
       "      <th>overtaxed</th>\n",
       "      <td>-0.999999</td>\n",
       "    </tr>\n",
       "    <tr>\n",
       "      <th>oasis</th>\n",
       "      <td>0.999962</td>\n",
       "    </tr>\n",
       "    <tr>\n",
       "      <th>mordantly</th>\n",
       "      <td>-0.999997</td>\n",
       "    </tr>\n",
       "    <tr>\n",
       "      <th>loner</th>\n",
       "      <td>-1.000000</td>\n",
       "    </tr>\n",
       "    <tr>\n",
       "      <th>reasonable</th>\n",
       "      <td>0.999964</td>\n",
       "    </tr>\n",
       "    <tr>\n",
       "      <th>invincible</th>\n",
       "      <td>0.999986</td>\n",
       "    </tr>\n",
       "    <tr>\n",
       "      <th>easy</th>\n",
       "      <td>0.999999</td>\n",
       "    </tr>\n",
       "    <tr>\n",
       "      <th>drained</th>\n",
       "      <td>-0.999994</td>\n",
       "    </tr>\n",
       "    <tr>\n",
       "      <th>hates</th>\n",
       "      <td>-1.000000</td>\n",
       "    </tr>\n",
       "    <tr>\n",
       "      <th>foolishly</th>\n",
       "      <td>-1.000000</td>\n",
       "    </tr>\n",
       "    <tr>\n",
       "      <th>delinquency</th>\n",
       "      <td>-0.999518</td>\n",
       "    </tr>\n",
       "    <tr>\n",
       "      <th>ineffective</th>\n",
       "      <td>-1.000000</td>\n",
       "    </tr>\n",
       "    <tr>\n",
       "      <th>knowledgeable</th>\n",
       "      <td>1.000000</td>\n",
       "    </tr>\n",
       "    <tr>\n",
       "      <th>suspicion</th>\n",
       "      <td>-1.000000</td>\n",
       "    </tr>\n",
       "    <tr>\n",
       "      <th>worrier</th>\n",
       "      <td>-1.000000</td>\n",
       "    </tr>\n",
       "    <tr>\n",
       "      <th>undermined</th>\n",
       "      <td>-1.000000</td>\n",
       "    </tr>\n",
       "    <tr>\n",
       "      <th>falsely</th>\n",
       "      <td>-1.000000</td>\n",
       "    </tr>\n",
       "    <tr>\n",
       "      <th>heedless</th>\n",
       "      <td>-1.000000</td>\n",
       "    </tr>\n",
       "    <tr>\n",
       "      <th>indecisive</th>\n",
       "      <td>-1.000000</td>\n",
       "    </tr>\n",
       "    <tr>\n",
       "      <th>mightily</th>\n",
       "      <td>0.521596</td>\n",
       "    </tr>\n",
       "  </tbody>\n",
       "</table>\n",
       "</div>"
      ],
      "text/plain": [
       "               sentiment\n",
       "overtaxed      -0.999999\n",
       "oasis           0.999962\n",
       "mordantly      -0.999997\n",
       "loner          -1.000000\n",
       "reasonable      0.999964\n",
       "invincible      0.999986\n",
       "easy            0.999999\n",
       "drained        -0.999994\n",
       "hates          -1.000000\n",
       "foolishly      -1.000000\n",
       "delinquency    -0.999518\n",
       "ineffective    -1.000000\n",
       "knowledgeable   1.000000\n",
       "suspicion      -1.000000\n",
       "worrier        -1.000000\n",
       "undermined     -1.000000\n",
       "falsely        -1.000000\n",
       "heedless       -1.000000\n",
       "indecisive     -1.000000\n",
       "mightily        0.521596"
      ]
     },
     "execution_count": 168,
     "metadata": {},
     "output_type": "execute_result"
    }
   ],
   "source": [
    "import torch\n",
    "import torch.nn.functional as F\n",
    "\n",
    "def vecs_to_sentiment(vecs, model):\n",
    "    device = next(model.parameters()).device\n",
    "\n",
    "    vecs_tensor = torch.tensor(vecs, dtype=torch.float32).to(device)\n",
    "\n",
    "    # Ensure the model is in evaluation mode\n",
    "    model.eval()\n",
    "\n",
    "    # Perform forward pass to get the logits\n",
    "    with torch.no_grad():\n",
    "        logits = model(vecs_tensor)\n",
    "\n",
    "    # Compute the softmax probabilities\n",
    "    probabilities = F.softmax(logits, dim=1)\n",
    "\n",
    "    # Compute the log odds ratio for positive sentiment\n",
    "    log_odds = torch.log(probabilities[:, 1] / probabilities[:, 0])\n",
    "\n",
    "    return log_odds.cpu().numpy()\n",
    "\n",
    "\"\"\"\n",
    "def vecs_to_sentiment(vecs, model):\n",
    "    # Move the input vectors to the device where the model is located\n",
    "    device = next(model.parameters()).device\n",
    "    \n",
    "    vecs_tensor = torch.tensor(vecs.values, dtype=torch.float32).to(device)\n",
    "    \n",
    "    # Ensure the model is in evaluation mode\n",
    "    model.eval()\n",
    "\n",
    "    # Forward pass to get the logits\n",
    "    with torch.no_grad():\n",
    "        logits = model(vecs_tensor)\n",
    "    \n",
    "    # Convert logits to probabilities using softmax\n",
    "    probabilities = torch.softmax(logits, dim=1)\n",
    "    \n",
    "    # Compute the log probability for positive sentiment and negative sentiment\n",
    "    log_prob_pos = torch.log(probabilities[:, 1])\n",
    "    log_prob_neg = torch.log(probabilities[:, 0])\n",
    "\n",
    "    # Compute the log odds ratio for sentiment classification\n",
    "    log_odds = log_prob_pos - log_prob_neg\n",
    "    \n",
    "    return log_odds\"\"\"\n",
    "\n",
    "def words_to_sentiment(words, embeddings, model):\n",
    "    frames = []\n",
    "    for word in words:\n",
    "        # Check if the word is present in the embeddings DataFrame\n",
    "        if word in embeddings.index:\n",
    "            # Retrieve embedding for the word\n",
    "            vec = embeddings.loc[word]\n",
    "            # Check if the embedding is not NaN\n",
    "            if not vec.isnull().any():\n",
    "                # Compute sentiment using the provided model\n",
    "                log_odds = vecs_to_sentiment(vec.values.reshape(1, -1), model)\n",
    "                frames.append(pd.DataFrame({'sentiment': log_odds}, index=[word]))\n",
    "    if frames:\n",
    "        return pd.concat(frames)\n",
    "    else:\n",
    "        return pd.DataFrame(columns=['sentiment'])\n",
    "'''\n",
    "\n",
    "def words_to_sentiment(words, embeddings, model):\n",
    "    # Filter out words that are not found in the embeddings DataFrame\n",
    "    words_in_embeddings = [word for word in words if word in embeddings.index]\n",
    "    \n",
    "    # Retrieve embeddings for the input words\n",
    "    vecs = embeddings.loc[words].dropna()\n",
    "    \n",
    "    # Compute sentiment using the provided model\n",
    "    log_odds = vecs_to_sentiment(vecs, model)\n",
    "    \n",
    "    return pd.DataFrame({'sentiment': log_odds}, index=vecs.index)\n",
    "'''\n",
    "words_to_sentiment(test_labels, embeddings, model).iloc[:20]"
   ]
  },
  {
   "cell_type": "code",
   "execution_count": 169,
   "id": "1d22af5b",
   "metadata": {},
   "outputs": [],
   "source": [
    "import re\n",
    "TOKEN_RE = re.compile(r\"\\w.*?\\b\")\n",
    "# The regex above finds tokens that start with a word-like character (\\w), and continues\n",
    "# matching characters (.+?) until the next word break (\\b). It's a relatively simple\n",
    "# expression that manages to extract something very much like words from text.\n",
    "\n",
    "\n",
    "def text_to_sentiment(text):\n",
    "    # tokenize the input phrase\n",
    "    tokens = [token.casefold() for token in TOKEN_RE.findall(text)]\n",
    "    # send each token separately into the embedding, then the classifier\n",
    "    sentiments = words_to_sentiment(tokens, embeddings, model)\n",
    "    return sentiments['sentiment'].mean() # return the mean for the classifier"
   ]
  },
  {
   "cell_type": "code",
   "execution_count": 170,
   "id": "10f141b6",
   "metadata": {},
   "outputs": [
    {
     "data": {
      "text/plain": [
       "0.4040222764015198"
      ]
     },
     "execution_count": 170,
     "metadata": {},
     "output_type": "execute_result"
    }
   ],
   "source": [
    "text_to_sentiment(\"My name is Dr. Larson\")"
   ]
  },
  {
   "cell_type": "code",
   "execution_count": 171,
   "id": "e7ea76b7",
   "metadata": {},
   "outputs": [
    {
     "data": {
      "text/plain": [
       "0.1935884654521942"
      ]
     },
     "execution_count": 171,
     "metadata": {},
     "output_type": "execute_result"
    }
   ],
   "source": [
    "text_to_sentiment(\"My name is Varun\")"
   ]
  },
  {
   "cell_type": "code",
   "execution_count": 172,
   "id": "0f0ac61a",
   "metadata": {},
   "outputs": [
    {
     "data": {
      "text/plain": [
       "0.3535653054714203"
      ]
     },
     "execution_count": 172,
     "metadata": {},
     "output_type": "execute_result"
    }
   ],
   "source": [
    "text_to_sentiment(\"My name is Varun Singh\")"
   ]
  },
  {
   "cell_type": "code",
   "execution_count": 173,
   "id": "499eeee6",
   "metadata": {},
   "outputs": [
    {
     "data": {
      "text/plain": [
       "0.589452862739563"
      ]
     },
     "execution_count": 173,
     "metadata": {},
     "output_type": "execute_result"
    }
   ],
   "source": [
    "text_to_sentiment(\"My name is Eric\")"
   ]
  },
  {
   "cell_type": "code",
   "execution_count": 174,
   "id": "25854118",
   "metadata": {},
   "outputs": [
    {
     "data": {
      "text/plain": [
       "0.43976330757141113"
      ]
     },
     "execution_count": 174,
     "metadata": {},
     "output_type": "execute_result"
    }
   ],
   "source": [
    "text_to_sentiment(\"My name is Heather\")"
   ]
  },
  {
   "cell_type": "code",
   "execution_count": 175,
   "id": "27018875",
   "metadata": {},
   "outputs": [
    {
     "data": {
      "text/plain": [
       "0.19351473450660706"
      ]
     },
     "execution_count": 175,
     "metadata": {},
     "output_type": "execute_result"
    }
   ],
   "source": [
    "text_to_sentiment(\"My name is Shaniqua\")"
   ]
  },
  {
   "cell_type": "code",
   "execution_count": 176,
   "id": "a6a263ed",
   "metadata": {},
   "outputs": [
    {
     "data": {
      "text/plain": [
       "0.682452917098999"
      ]
     },
     "execution_count": 176,
     "metadata": {},
     "output_type": "execute_result"
    }
   ],
   "source": [
    "text_to_sentiment(\"My name is David\")"
   ]
  },
  {
   "cell_type": "code",
   "execution_count": 177,
   "id": "7ff57027",
   "metadata": {},
   "outputs": [
    {
     "data": {
      "text/plain": [
       "0.005811288952827454"
      ]
     },
     "execution_count": 177,
     "metadata": {},
     "output_type": "execute_result"
    }
   ],
   "source": [
    "text_to_sentiment(\"I am from Asia\")"
   ]
  },
  {
   "cell_type": "code",
   "execution_count": 178,
   "id": "c673d273",
   "metadata": {},
   "outputs": [
    {
     "data": {
      "text/plain": [
       "-0.4310888648033142"
      ]
     },
     "execution_count": 178,
     "metadata": {},
     "output_type": "execute_result"
    }
   ],
   "source": [
    "text_to_sentiment(\"I am from Africa\")"
   ]
  },
  {
   "cell_type": "code",
   "execution_count": 179,
   "id": "6aef3039",
   "metadata": {},
   "outputs": [
    {
     "data": {
      "text/plain": [
       "0.0418643057346344"
      ]
     },
     "execution_count": 179,
     "metadata": {},
     "output_type": "execute_result"
    }
   ],
   "source": [
    "text_to_sentiment(\"I am from Europe\")"
   ]
  },
  {
   "cell_type": "code",
   "execution_count": 180,
   "id": "56cab00e",
   "metadata": {},
   "outputs": [
    {
     "data": {
      "text/plain": [
       "-0.16526249051094055"
      ]
     },
     "execution_count": 180,
     "metadata": {},
     "output_type": "execute_result"
    }
   ],
   "source": [
    "text_to_sentiment(\"I am from South America\")"
   ]
  },
  {
   "cell_type": "code",
   "execution_count": 181,
   "id": "fe1cd297",
   "metadata": {},
   "outputs": [
    {
     "data": {
      "text/plain": [
       "0.037385404109954834"
      ]
     },
     "execution_count": 181,
     "metadata": {},
     "output_type": "execute_result"
    }
   ],
   "source": [
    "text_to_sentiment(\"I am from Canada\")"
   ]
  },
  {
   "cell_type": "code",
   "execution_count": 182,
   "id": "0b338431",
   "metadata": {},
   "outputs": [
    {
     "data": {
      "text/plain": [
       "-0.011904287151992321"
      ]
     },
     "execution_count": 182,
     "metadata": {},
     "output_type": "execute_result"
    }
   ],
   "source": [
    "text_to_sentiment(\"I am a Python programmer\")"
   ]
  },
  {
   "cell_type": "code",
   "execution_count": 183,
   "id": "6b8fbcb4",
   "metadata": {},
   "outputs": [
    {
     "data": {
      "text/plain": [
       "0.20742455124855042"
      ]
     },
     "execution_count": 183,
     "metadata": {},
     "output_type": "execute_result"
    }
   ],
   "source": [
    "text_to_sentiment(\"I am a Java programmer\")"
   ]
  },
  {
   "cell_type": "code",
   "execution_count": 184,
   "id": "25be8ac0",
   "metadata": {},
   "outputs": [
    {
     "data": {
      "text/plain": [
       "0.06582929939031601"
      ]
     },
     "execution_count": 184,
     "metadata": {},
     "output_type": "execute_result"
    }
   ],
   "source": [
    "text_to_sentiment(\"I am a C++ programmer\")"
   ]
  },
  {
   "cell_type": "code",
   "execution_count": 185,
   "id": "f77b13fe",
   "metadata": {},
   "outputs": [
    {
     "data": {
      "text/plain": [
       "0.14087562263011932"
      ]
     },
     "execution_count": 185,
     "metadata": {},
     "output_type": "execute_result"
    }
   ],
   "source": [
    "text_to_sentiment(\"I am a Full Stack Developer\")"
   ]
  },
  {
   "cell_type": "code",
   "execution_count": 186,
   "id": "bfa33d57",
   "metadata": {},
   "outputs": [
    {
     "data": {
      "text/plain": [
       "0.15076270699501038"
      ]
     },
     "execution_count": 186,
     "metadata": {},
     "output_type": "execute_result"
    }
   ],
   "source": [
    "text_to_sentiment(\"I am a Machine Learning Engineer\")"
   ]
  },
  {
   "cell_type": "code",
   "execution_count": 187,
   "id": "952d4831",
   "metadata": {},
   "outputs": [
    {
     "data": {
      "text/plain": [
       "0.25301599502563477"
      ]
     },
     "execution_count": 187,
     "metadata": {},
     "output_type": "execute_result"
    }
   ],
   "source": [
    "text_to_sentiment(\"I am a Data Engineer\")"
   ]
  },
  {
   "cell_type": "code",
   "execution_count": 188,
   "id": "1a670e51",
   "metadata": {},
   "outputs": [
    {
     "data": {
      "text/plain": [
       "0.2347998172044754"
      ]
     },
     "execution_count": 188,
     "metadata": {},
     "output_type": "execute_result"
    }
   ],
   "source": [
    "text_to_sentiment(\"I am a Data Scientist\")"
   ]
  },
  {
   "cell_type": "code",
   "execution_count": 189,
   "id": "f8096e0e",
   "metadata": {
    "scrolled": true
   },
   "outputs": [
    {
     "data": {
      "text/plain": [
       "-0.18328559398651123"
      ]
     },
     "execution_count": 189,
     "metadata": {},
     "output_type": "execute_result"
    }
   ],
   "source": [
    "text_to_sentiment(\"I am an atheist\")"
   ]
  },
  {
   "cell_type": "markdown",
   "id": "44810eac",
   "metadata": {},
   "source": [
    "Again ! Atheists have a bad rep ?"
   ]
  },
  {
   "cell_type": "code",
   "execution_count": 190,
   "id": "11870a4a",
   "metadata": {},
   "outputs": [
    {
     "data": {
      "text/plain": [
       "0.8235602378845215"
      ]
     },
     "execution_count": 190,
     "metadata": {},
     "output_type": "execute_result"
    }
   ],
   "source": [
    "text_to_sentiment(\"I believe in Allah\")"
   ]
  },
  {
   "cell_type": "code",
   "execution_count": 191,
   "id": "24d2a16b",
   "metadata": {},
   "outputs": [
    {
     "data": {
      "text/plain": [
       "0.8234432935714722"
      ]
     },
     "execution_count": 191,
     "metadata": {},
     "output_type": "execute_result"
    }
   ],
   "source": [
    "text_to_sentiment(\"I believe in Jesus\")"
   ]
  },
  {
   "cell_type": "code",
   "execution_count": 192,
   "id": "67361bbc",
   "metadata": {},
   "outputs": [
    {
     "data": {
      "text/plain": [
       "0.8233981132507324"
      ]
     },
     "execution_count": 192,
     "metadata": {},
     "output_type": "execute_result"
    }
   ],
   "source": [
    "text_to_sentiment(\"I believe in Krishna\")"
   ]
  },
  {
   "cell_type": "code",
   "execution_count": 193,
   "id": "357d5a7f",
   "metadata": {},
   "outputs": [
    {
     "data": {
      "text/plain": [
       "0.32356250286102295"
      ]
     },
     "execution_count": 193,
     "metadata": {},
     "output_type": "execute_result"
    }
   ],
   "source": [
    "text_to_sentiment(\"I believe in Voldemort\")"
   ]
  },
  {
   "cell_type": "code",
   "execution_count": 194,
   "id": "f903c12d",
   "metadata": {},
   "outputs": [
    {
     "data": {
      "text/plain": [
       "0.326036274433136"
      ]
     },
     "execution_count": 194,
     "metadata": {},
     "output_type": "execute_result"
    }
   ],
   "source": [
    "text_to_sentiment(\"I believe in Harry\")"
   ]
  },
  {
   "cell_type": "markdown",
   "id": "c8213d00",
   "metadata": {},
   "source": [
    "May be we can find a way for our model to recognize pop culture references. Is this a novel idea ? "
   ]
  },
  {
   "cell_type": "code",
   "execution_count": 195,
   "id": "21606477",
   "metadata": {},
   "outputs": [
    {
     "data": {
      "text/plain": [
       "-0.27674081921577454"
      ]
     },
     "execution_count": 195,
     "metadata": {},
     "output_type": "execute_result"
    }
   ],
   "source": [
    "text_to_sentiment(\"I am a Capitalist\")"
   ]
  },
  {
   "cell_type": "code",
   "execution_count": 196,
   "id": "884064a2",
   "metadata": {},
   "outputs": [
    {
     "data": {
      "text/plain": [
       "-0.27692559361457825"
      ]
     },
     "execution_count": 196,
     "metadata": {},
     "output_type": "execute_result"
    }
   ],
   "source": [
    "text_to_sentiment(\"I am a Communist\")"
   ]
  },
  {
   "cell_type": "code",
   "execution_count": 197,
   "id": "bb82ad8f",
   "metadata": {},
   "outputs": [
    {
     "data": {
      "text/plain": [
       "-0.2769153416156769"
      ]
     },
     "execution_count": 197,
     "metadata": {},
     "output_type": "execute_result"
    }
   ],
   "source": [
    "text_to_sentiment(\"I am a Socialist\")"
   ]
  },
  {
   "cell_type": "code",
   "execution_count": 198,
   "id": "3cce71a7",
   "metadata": {},
   "outputs": [
    {
     "data": {
      "text/plain": [
       "-0.253415584564209"
      ]
     },
     "execution_count": 198,
     "metadata": {},
     "output_type": "execute_result"
    }
   ],
   "source": [
    "text_to_sentiment(\"I am a Democrat\")"
   ]
  },
  {
   "cell_type": "code",
   "execution_count": 199,
   "id": "b5131453",
   "metadata": {},
   "outputs": [
    {
     "data": {
      "text/plain": [
       "-0.2769096791744232"
      ]
     },
     "execution_count": 199,
     "metadata": {},
     "output_type": "execute_result"
    }
   ],
   "source": [
    "text_to_sentiment(\"I am a Republican\")"
   ]
  },
  {
   "cell_type": "code",
   "execution_count": 200,
   "id": "e199a569",
   "metadata": {},
   "outputs": [
    {
     "data": {
      "text/plain": [
       "0.11609909683465958"
      ]
     },
     "execution_count": 200,
     "metadata": {},
     "output_type": "execute_result"
    }
   ],
   "source": [
    "text_to_sentiment(\"I am a Libertarian\")"
   ]
  },
  {
   "cell_type": "code",
   "execution_count": 201,
   "id": "362113d8",
   "metadata": {},
   "outputs": [
    {
     "data": {
      "text/html": [
       "<div>\n",
       "<style scoped>\n",
       "    .dataframe tbody tr th:only-of-type {\n",
       "        vertical-align: middle;\n",
       "    }\n",
       "\n",
       "    .dataframe tbody tr th {\n",
       "        vertical-align: top;\n",
       "    }\n",
       "\n",
       "    .dataframe thead th {\n",
       "        text-align: right;\n",
       "    }\n",
       "</style>\n",
       "<table border=\"1\" class=\"dataframe\">\n",
       "  <thead>\n",
       "    <tr style=\"text-align: right;\">\n",
       "      <th></th>\n",
       "      <th>sentiment</th>\n",
       "      <th>group</th>\n",
       "    </tr>\n",
       "  </thead>\n",
       "  <tbody>\n",
       "    <tr>\n",
       "      <th>mohammed</th>\n",
       "      <td>-0.816915</td>\n",
       "      <td>Arab/Muslim</td>\n",
       "    </tr>\n",
       "    <tr>\n",
       "      <th>zoya</th>\n",
       "      <td>-0.888833</td>\n",
       "      <td>Arab/Muslim</td>\n",
       "    </tr>\n",
       "    <tr>\n",
       "      <th>tanisha</th>\n",
       "      <td>-1.000000</td>\n",
       "      <td>Black</td>\n",
       "    </tr>\n",
       "    <tr>\n",
       "      <th>ximena</th>\n",
       "      <td>0.994261</td>\n",
       "      <td>Hispanic</td>\n",
       "    </tr>\n",
       "    <tr>\n",
       "      <th>brandon</th>\n",
       "      <td>-0.704498</td>\n",
       "      <td>White</td>\n",
       "    </tr>\n",
       "    <tr>\n",
       "      <th>megan</th>\n",
       "      <td>0.057248</td>\n",
       "      <td>White</td>\n",
       "    </tr>\n",
       "  </tbody>\n",
       "</table>\n",
       "</div>"
      ],
      "text/plain": [
       "          sentiment        group\n",
       "mohammed  -0.816915  Arab/Muslim\n",
       "zoya      -0.888833  Arab/Muslim\n",
       "tanisha   -1.000000        Black\n",
       "ximena     0.994261     Hispanic\n",
       "brandon   -0.704498        White\n",
       "megan      0.057248        White"
      ]
     },
     "execution_count": 201,
     "metadata": {},
     "output_type": "execute_result"
    }
   ],
   "source": [
    "def name_sentiment_table():\n",
    "    frames = []\n",
    "    for group, name_list in sorted(NAMES_BY_ETHNICITY.items()):\n",
    "        lower_names = [name.lower() for name in name_list]\n",
    "        sentiments = words_to_sentiment(lower_names, embeddings, model)\n",
    "        sentiments['group'] = group\n",
    "        frames.append(sentiments)\n",
    "\n",
    "    # Put together the data we got from each ethnic group into one big table\n",
    "    return pd.concat(frames)\n",
    "\n",
    "name_sentiments = name_sentiment_table()\n",
    "\n",
    "name_sentiments.iloc[::25]"
   ]
  },
  {
   "cell_type": "code",
   "execution_count": 202,
   "id": "5d1510df",
   "metadata": {},
   "outputs": [
    {
     "data": {
      "image/png": "[encoded data removed]",
      "text/plain": [
       "<Figure size 1500x500 with 2 Axes>"
      ]
     },
     "metadata": {},
     "output_type": "display_data"
    }
   ],
   "source": [
    "matplotlib.pyplot.figure(figsize=(15,5))\n",
    "matplotlib.pyplot.subplot(121)\n",
    "plot = seaborn.swarmplot(x='group', y='sentiment', data=name_sentiments)\n",
    "plot.set_ylim([-10, 10])\n",
    "matplotlib.pyplot.subplot(122)\n",
    "plot = seaborn.barplot(x='group', y='sentiment', data=name_sentiments, capsize= 0.1) "
   ]
  },
  {
   "cell_type": "markdown",
   "id": "bf18dd2f",
   "metadata": {},
   "source": [
    "The above visualizations for the average sentiment of names and the variance in the values is not that different to the results obtained from the model built using feed forward neural network and GloVe embeddings."
   ]
  },
  {
   "cell_type": "markdown",
   "id": "43e83f40",
   "metadata": {},
   "source": [
    "### Using a Feedforward Neural Network Classifier and ConceptNet NumberBatch Embeddings to build a model "
   ]
  },
  {
   "cell_type": "code",
   "execution_count": 203,
   "id": "00736a8c",
   "metadata": {},
   "outputs": [
    {
     "name": "stdout",
     "output_type": "stream",
     "text": [
      "2006 4783\n",
      "(1832, 300) (4479, 300)\n"
     ]
    }
   ],
   "source": [
    "import numpy as np\n",
    "import pandas as pd\n",
    "import matplotlib\n",
    "import seaborn\n",
    "import re\n",
    "\n",
    "from sklearn.linear_model import SGDClassifier\n",
    "from sklearn.model_selection import train_test_split\n",
    "from sklearn.metrics import accuracy_score\n",
    "\n",
    "# Configure how graphs will show up in this notebook\n",
    "%matplotlib inline\n",
    "seaborn.set_context('notebook', rc={'figure.figsize': (10, 6)}, font_scale=1.5)\n",
    "\n",
    "def load_embeddings(filename):\n",
    "    \"\"\"\n",
    "    Load a DataFrame from the generalized text format used by word2vec, GloVe,\n",
    "    fastText, and ConceptNet Numberbatch. The main point where they differ is\n",
    "    whether there is an initial line with the dimensions of the matrix.\n",
    "    \"\"\"\n",
    "    labels = []\n",
    "    rows = []\n",
    "    with open(filename, encoding='utf-8') as infile:\n",
    "        for i, line in enumerate(infile):\n",
    "            items = line.rstrip().split(' ')\n",
    "            if len(items) == 2:\n",
    "                # This is a header row giving the shape of the matrix\n",
    "                continue\n",
    "            labels.append(items[0])\n",
    "            values = np.array([float(x) for x in items[1:]], 'f')\n",
    "            rows.append(values)\n",
    "    \n",
    "    arr = np.vstack(rows)\n",
    "    return pd.DataFrame(arr, index=labels, dtype='f')\n",
    "\n",
    "embeddings = load_embeddings('data/numberbatch-en.txt')\n",
    "embeddings.shape\n",
    "\n",
    "\n",
    "def load_lexicon(filename):\n",
    "    \"\"\"\n",
    "    Load a file from Bing Liu's sentiment lexicon\n",
    "    (https://www.cs.uic.edu/~liub/FBS/sentiment-analysis.html), containing\n",
    "    English words in Latin-1 encoding.\n",
    "    \n",
    "    One file contains a list of positive words, and the other contains\n",
    "    a list of negative words. The files contain comment lines starting\n",
    "    with ';' and blank lines, which should be skipped.\n",
    "    \"\"\"\n",
    "    lexicon = []\n",
    "    with open(filename, encoding='latin-1') as infile:\n",
    "        for line in infile:\n",
    "            line = line.rstrip()\n",
    "            if line and not line.startswith(';'):\n",
    "                lexicon.append(line)\n",
    "    return lexicon\n",
    "\n",
    "pos_words = load_lexicon('data/positive-words.txt')\n",
    "neg_words = load_lexicon('data/negative-words.txt')\n",
    "\n",
    "print(len(pos_words), len(neg_words))\n",
    "\n",
    "\n",
    "\n",
    "pos_words_common = list(set(pos_words) & set(embeddings.index)) \n",
    "neg_words_common = list(set(neg_words) & set(embeddings.index)) \n",
    "\n",
    "pos_vectors = embeddings.loc[pos_words_common]\n",
    "neg_vectors = embeddings.loc[neg_words_common]\n",
    "print(pos_vectors.shape,neg_vectors.shape)\n",
    "\n"
   ]
  },
  {
   "cell_type": "code",
   "execution_count": null,
   "id": "4c48432e",
   "metadata": {},
   "outputs": [],
   "source": []
  },
  {
   "cell_type": "code",
   "execution_count": 204,
   "id": "f156b330",
   "metadata": {},
   "outputs": [],
   "source": [
    "\n",
    "\n",
    "vectors = pd.concat([pos_vectors, neg_vectors])\n",
    "targets = np.array([1 for entry in pos_vectors.index] + [0 for entry in neg_vectors.index])\n",
    "labels = list(pos_vectors.index) + list(neg_vectors.index)\n",
    "\n",
    "\n",
    "\n",
    "train_vectors, test_vectors, train_targets, test_targets, train_labels, test_labels = \\\n",
    "    train_test_split(vectors, targets, labels, test_size=0.1, random_state=0)\n",
    "\n"
   ]
  },
  {
   "cell_type": "code",
   "execution_count": 205,
   "id": "acc36c9b",
   "metadata": {},
   "outputs": [
    {
     "name": "stdout",
     "output_type": "stream",
     "text": [
      "Epoch [1/10], Loss: 0.4256\n",
      "Epoch [2/10], Loss: 0.3887\n",
      "Epoch [3/10], Loss: 0.3536\n",
      "Epoch [4/10], Loss: 0.3379\n",
      "Epoch [5/10], Loss: 0.3293\n",
      "Epoch [6/10], Loss: 0.3258\n",
      "Epoch [7/10], Loss: 0.3573\n",
      "Epoch [8/10], Loss: 0.3144\n",
      "Epoch [9/10], Loss: 0.3189\n",
      "Epoch [10/10], Loss: 0.3254\n",
      "Accuracy: 0.9684\n"
     ]
    }
   ],
   "source": [
    "import torch\n",
    "import torch.nn as nn\n",
    "import torch.optim as optim\n",
    "from torch.utils.data import DataLoader, TensorDataset\n",
    "from sklearn.metrics import accuracy_score\n",
    "\n",
    "# Define the neural network architecture\n",
    "class SentimentClassifier(nn.Module):\n",
    "    def __init__(self, input_size, hidden_size, output_size):\n",
    "        super(SentimentClassifier, self).__init__()\n",
    "        self.fc1 = nn.Linear(input_size, hidden_size)\n",
    "        self.relu = nn.ReLU()\n",
    "        self.fc2 = nn.Linear(hidden_size, output_size)\n",
    "        self.softmax = nn.Softmax(dim=1)\n",
    "    \n",
    "    def forward(self, x):\n",
    "        x = self.fc1(x)\n",
    "        x = self.relu(x)\n",
    "        x = self.fc2(x)\n",
    "        x = self.softmax(x)\n",
    "        return x\n",
    "\n",
    "# Convert data to PyTorch tensors\n",
    "train_vectors_tensor = torch.tensor(train_vectors.values, dtype=torch.float32)\n",
    "test_vectors_tensor = torch.tensor(test_vectors.values, dtype=torch.float32)\n",
    "train_targets_tensor = torch.tensor(train_targets, dtype=torch.long)\n",
    "test_targets_tensor = torch.tensor(test_targets, dtype=torch.long)\n",
    "\n",
    "# Define hyperparameters\n",
    "input_size = train_vectors.shape[1]\n",
    "hidden_size = 128\n",
    "output_size = 2  # binary classification: positive vs. negative sentiment\n",
    "learning_rate = 0.001\n",
    "num_epochs = 10\n",
    "batch_size = 64\n",
    "\n",
    "# Create DataLoader for training and testing data\n",
    "train_dataset = TensorDataset(train_vectors_tensor, train_targets_tensor)\n",
    "train_loader = DataLoader(train_dataset, batch_size=batch_size, shuffle=True)\n",
    "test_dataset = TensorDataset(test_vectors_tensor, test_targets_tensor)\n",
    "test_loader = DataLoader(test_dataset, batch_size=batch_size, shuffle=False)\n",
    "\n",
    "# Initialize model, loss function, and optimizer\n",
    "model = SentimentClassifier(input_size, hidden_size, output_size)\n",
    "criterion = nn.CrossEntropyLoss()\n",
    "optimizer = optim.Adam(model.parameters(), lr=learning_rate)\n",
    "\n",
    "# Training loop\n",
    "for epoch in range(num_epochs):\n",
    "    model.train()\n",
    "    for inputs, targets in train_loader:\n",
    "        optimizer.zero_grad()\n",
    "        outputs = model(inputs)\n",
    "        loss = criterion(outputs, targets)\n",
    "        loss.backward()\n",
    "        optimizer.step()\n",
    "\n",
    "    # Print loss after each epoch\n",
    "    print(f'Epoch [{epoch+1}/{num_epochs}], Loss: {loss.item():.4f}')\n",
    "\n",
    "# Evaluate the model\n",
    "model.eval()\n",
    "all_predictions = []\n",
    "with torch.no_grad():\n",
    "    for inputs, targets in test_loader:\n",
    "        outputs = model(inputs)\n",
    "        _, predicted = torch.max(outputs, 1)\n",
    "        all_predictions.extend(predicted.tolist())\n",
    "\n",
    "# Calculate accuracy\n",
    "accuracy = accuracy_score(test_targets, all_predictions)\n",
    "print(f'Accuracy: {accuracy:.4f}')\n"
   ]
  },
  {
   "cell_type": "markdown",
   "id": "365937c3",
   "metadata": {},
   "source": [
    "The accuracy of all the feedforward neural networks is between 96-97%. "
   ]
  },
  {
   "cell_type": "code",
   "execution_count": 206,
   "id": "987d809f",
   "metadata": {},
   "outputs": [
    {
     "data": {
      "text/html": [
       "<div>\n",
       "<style scoped>\n",
       "    .dataframe tbody tr th:only-of-type {\n",
       "        vertical-align: middle;\n",
       "    }\n",
       "\n",
       "    .dataframe tbody tr th {\n",
       "        vertical-align: top;\n",
       "    }\n",
       "\n",
       "    .dataframe thead th {\n",
       "        text-align: right;\n",
       "    }\n",
       "</style>\n",
       "<table border=\"1\" class=\"dataframe\">\n",
       "  <thead>\n",
       "    <tr style=\"text-align: right;\">\n",
       "      <th></th>\n",
       "      <th>sentiment</th>\n",
       "    </tr>\n",
       "  </thead>\n",
       "  <tbody>\n",
       "    <tr>\n",
       "      <th>monstrosity</th>\n",
       "      <td>-0.999974</td>\n",
       "    </tr>\n",
       "    <tr>\n",
       "      <th>irritably</th>\n",
       "      <td>-0.999995</td>\n",
       "    </tr>\n",
       "    <tr>\n",
       "      <th>lethal</th>\n",
       "      <td>-0.999862</td>\n",
       "    </tr>\n",
       "    <tr>\n",
       "      <th>obliterated</th>\n",
       "      <td>-0.999428</td>\n",
       "    </tr>\n",
       "    <tr>\n",
       "      <th>uncreative</th>\n",
       "      <td>-0.999980</td>\n",
       "    </tr>\n",
       "    <tr>\n",
       "      <th>wrong</th>\n",
       "      <td>-0.999981</td>\n",
       "    </tr>\n",
       "    <tr>\n",
       "      <th>genuine</th>\n",
       "      <td>0.998806</td>\n",
       "    </tr>\n",
       "    <tr>\n",
       "      <th>declines</th>\n",
       "      <td>-0.998790</td>\n",
       "    </tr>\n",
       "    <tr>\n",
       "      <th>idol</th>\n",
       "      <td>0.990697</td>\n",
       "    </tr>\n",
       "    <tr>\n",
       "      <th>inspiration</th>\n",
       "      <td>0.999979</td>\n",
       "    </tr>\n",
       "    <tr>\n",
       "      <th>impolitic</th>\n",
       "      <td>-0.999996</td>\n",
       "    </tr>\n",
       "    <tr>\n",
       "      <th>enthusiast</th>\n",
       "      <td>0.995034</td>\n",
       "    </tr>\n",
       "    <tr>\n",
       "      <th>infected</th>\n",
       "      <td>-0.995067</td>\n",
       "    </tr>\n",
       "    <tr>\n",
       "      <th>loopholes</th>\n",
       "      <td>-0.968863</td>\n",
       "    </tr>\n",
       "    <tr>\n",
       "      <th>damaging</th>\n",
       "      <td>-0.999997</td>\n",
       "    </tr>\n",
       "    <tr>\n",
       "      <th>fascination</th>\n",
       "      <td>0.974134</td>\n",
       "    </tr>\n",
       "    <tr>\n",
       "      <th>sin</th>\n",
       "      <td>-0.999434</td>\n",
       "    </tr>\n",
       "    <tr>\n",
       "      <th>marvelous</th>\n",
       "      <td>1.000000</td>\n",
       "    </tr>\n",
       "    <tr>\n",
       "      <th>fatuous</th>\n",
       "      <td>-0.999995</td>\n",
       "    </tr>\n",
       "    <tr>\n",
       "      <th>dazed</th>\n",
       "      <td>-0.999536</td>\n",
       "    </tr>\n",
       "  </tbody>\n",
       "</table>\n",
       "</div>"
      ],
      "text/plain": [
       "             sentiment\n",
       "monstrosity  -0.999974\n",
       "irritably    -0.999995\n",
       "lethal       -0.999862\n",
       "obliterated  -0.999428\n",
       "uncreative   -0.999980\n",
       "wrong        -0.999981\n",
       "genuine       0.998806\n",
       "declines     -0.998790\n",
       "idol          0.990697\n",
       "inspiration   0.999979\n",
       "impolitic    -0.999996\n",
       "enthusiast    0.995034\n",
       "infected     -0.995067\n",
       "loopholes    -0.968863\n",
       "damaging     -0.999997\n",
       "fascination   0.974134\n",
       "sin          -0.999434\n",
       "marvelous     1.000000\n",
       "fatuous      -0.999995\n",
       "dazed        -0.999536"
      ]
     },
     "execution_count": 206,
     "metadata": {},
     "output_type": "execute_result"
    }
   ],
   "source": [
    "import torch\n",
    "import torch.nn.functional as F\n",
    "\n",
    "def vecs_to_sentiment(vecs, model):\n",
    "    device = next(model.parameters()).device\n",
    "\n",
    "    vecs_tensor = torch.tensor(vecs, dtype=torch.float32).to(device)\n",
    "\n",
    "    # Ensure the model is in evaluation mode\n",
    "    model.eval()\n",
    "\n",
    "    # Perform forward pass to get the logits\n",
    "    with torch.no_grad():\n",
    "        logits = model(vecs_tensor)\n",
    "\n",
    "    # Compute the softmax probabilities\n",
    "    probabilities = F.softmax(logits, dim=1)\n",
    "\n",
    "    # Compute the log odds ratio for positive sentiment\n",
    "    log_odds = torch.log(probabilities[:, 1] / probabilities[:, 0])\n",
    "\n",
    "    return log_odds.cpu().numpy()\n",
    "\n",
    "\"\"\"\n",
    "def vecs_to_sentiment(vecs, model):\n",
    "    # Move the input vectors to the device where the model is located\n",
    "    device = next(model.parameters()).device\n",
    "    \n",
    "    vecs_tensor = torch.tensor(vecs.values, dtype=torch.float32).to(device)\n",
    "    \n",
    "    # Ensure the model is in evaluation mode\n",
    "    model.eval()\n",
    "\n",
    "    # Forward pass to get the logits\n",
    "    with torch.no_grad():\n",
    "        logits = model(vecs_tensor)\n",
    "    \n",
    "    # Convert logits to probabilities using softmax\n",
    "    probabilities = torch.softmax(logits, dim=1)\n",
    "    \n",
    "    # Compute the log probability for positive sentiment and negative sentiment\n",
    "    log_prob_pos = torch.log(probabilities[:, 1])\n",
    "    log_prob_neg = torch.log(probabilities[:, 0])\n",
    "\n",
    "    # Compute the log odds ratio for sentiment classification\n",
    "    log_odds = log_prob_pos - log_prob_neg\n",
    "    \n",
    "    return log_odds\"\"\"\n",
    "\n",
    "def words_to_sentiment(words, embeddings, model):\n",
    "    frames = []\n",
    "    for word in words:\n",
    "        # Check if the word is present in the embeddings DataFrame\n",
    "        if word in embeddings.index:\n",
    "            # Retrieve embedding for the word\n",
    "            vec = embeddings.loc[word]\n",
    "            # Check if the embedding is not NaN\n",
    "            if not vec.isnull().any():\n",
    "                # Compute sentiment using the provided model\n",
    "                log_odds = vecs_to_sentiment(vec.values.reshape(1, -1), model)\n",
    "                frames.append(pd.DataFrame({'sentiment': log_odds}, index=[word]))\n",
    "    if frames:\n",
    "        return pd.concat(frames)\n",
    "    else:\n",
    "        return pd.DataFrame(columns=['sentiment'])\n",
    "'''\n",
    "\n",
    "def words_to_sentiment(words, embeddings, model):\n",
    "    # Filter out words that are not found in the embeddings DataFrame\n",
    "    words_in_embeddings = [word for word in words if word in embeddings.index]\n",
    "    \n",
    "    # Retrieve embeddings for the input words\n",
    "    vecs = embeddings.loc[words].dropna()\n",
    "    \n",
    "    # Compute sentiment using the provided model\n",
    "    log_odds = vecs_to_sentiment(vecs, model)\n",
    "    \n",
    "    return pd.DataFrame({'sentiment': log_odds}, index=vecs.index)\n",
    "'''\n",
    "words_to_sentiment(test_labels, embeddings, model).iloc[:20]\n"
   ]
  },
  {
   "cell_type": "code",
   "execution_count": 207,
   "id": "21036527",
   "metadata": {},
   "outputs": [],
   "source": [
    "import re\n",
    "TOKEN_RE = re.compile(r\"\\w.*?\\b\")\n",
    "# The regex above finds tokens that start with a word-like character (\\w), and continues\n",
    "# matching characters (.+?) until the next word break (\\b). It's a relatively simple\n",
    "# expression that manages to extract something very much like words from text.\n",
    "\n",
    "\n",
    "def text_to_sentiment(text):\n",
    "    # tokenize the input phrase\n",
    "    tokens = [token.casefold() for token in TOKEN_RE.findall(text)]\n",
    "    # send each token separately into the embedding, then the classifier\n",
    "    sentiments = words_to_sentiment(tokens, embeddings, model)\n",
    "    return sentiments['sentiment'].mean() # return the mean for the classifier"
   ]
  },
  {
   "cell_type": "code",
   "execution_count": 208,
   "id": "41b38f51",
   "metadata": {},
   "outputs": [
    {
     "data": {
      "text/plain": [
       "-0.6241872906684875"
      ]
     },
     "execution_count": 208,
     "metadata": {},
     "output_type": "execute_result"
    }
   ],
   "source": [
    "text_to_sentiment(\"My name is Dr. Larson\")"
   ]
  },
  {
   "cell_type": "code",
   "execution_count": 209,
   "id": "0075ed9b",
   "metadata": {},
   "outputs": [
    {
     "data": {
      "text/plain": [
       "-0.573527991771698"
      ]
     },
     "execution_count": 209,
     "metadata": {},
     "output_type": "execute_result"
    }
   ],
   "source": [
    "text_to_sentiment(\"My name is Varun\")"
   ]
  },
  {
   "cell_type": "code",
   "execution_count": 210,
   "id": "2624cc58",
   "metadata": {},
   "outputs": [
    {
     "data": {
      "text/plain": [
       "-0.6467687487602234"
      ]
     },
     "execution_count": 210,
     "metadata": {},
     "output_type": "execute_result"
    }
   ],
   "source": [
    "text_to_sentiment(\"My name is Varun Singh\")"
   ]
  },
  {
   "cell_type": "code",
   "execution_count": 211,
   "id": "b3c7358b",
   "metadata": {},
   "outputs": [
    {
     "data": {
      "text/plain": [
       "-0.5708035230636597"
      ]
     },
     "execution_count": 211,
     "metadata": {},
     "output_type": "execute_result"
    }
   ],
   "source": [
    "text_to_sentiment(\"My name is Eric\")"
   ]
  },
  {
   "cell_type": "code",
   "execution_count": 212,
   "id": "73586c33",
   "metadata": {},
   "outputs": [
    {
     "data": {
      "text/plain": [
       "-0.567399799823761"
      ]
     },
     "execution_count": 212,
     "metadata": {},
     "output_type": "execute_result"
    }
   ],
   "source": [
    "text_to_sentiment(\"My name is Heather\")"
   ]
  },
  {
   "cell_type": "code",
   "execution_count": 213,
   "id": "7d5e6b5a",
   "metadata": {},
   "outputs": [
    {
     "data": {
      "text/plain": [
       "-0.5738003849983215"
      ]
     },
     "execution_count": 213,
     "metadata": {},
     "output_type": "execute_result"
    }
   ],
   "source": [
    "text_to_sentiment(\"My name is Shaniqua\")"
   ]
  },
  {
   "cell_type": "code",
   "execution_count": 214,
   "id": "d7d561b2",
   "metadata": {},
   "outputs": [
    {
     "data": {
      "text/plain": [
       "-0.541641116142273"
      ]
     },
     "execution_count": 214,
     "metadata": {},
     "output_type": "execute_result"
    }
   ],
   "source": [
    "text_to_sentiment(\"My name is David\")"
   ]
  },
  {
   "cell_type": "code",
   "execution_count": 215,
   "id": "1efc3f05",
   "metadata": {},
   "outputs": [
    {
     "data": {
      "text/plain": [
       "-0.33828726410865784"
      ]
     },
     "execution_count": 215,
     "metadata": {},
     "output_type": "execute_result"
    }
   ],
   "source": [
    "text_to_sentiment(\"I am from Asia\")"
   ]
  },
  {
   "cell_type": "code",
   "execution_count": 216,
   "id": "31725342",
   "metadata": {},
   "outputs": [
    {
     "data": {
      "text/plain": [
       "-0.6190779209136963"
      ]
     },
     "execution_count": 216,
     "metadata": {},
     "output_type": "execute_result"
    }
   ],
   "source": [
    "text_to_sentiment(\"I am from Africa\")"
   ]
  },
  {
   "cell_type": "code",
   "execution_count": 217,
   "id": "5f3bfc59",
   "metadata": {},
   "outputs": [
    {
     "data": {
      "text/plain": [
       "-0.34015917778015137"
      ]
     },
     "execution_count": 217,
     "metadata": {},
     "output_type": "execute_result"
    }
   ],
   "source": [
    "text_to_sentiment(\"I am from Europe\")"
   ]
  },
  {
   "cell_type": "code",
   "execution_count": 218,
   "id": "28d2199f",
   "metadata": {},
   "outputs": [
    {
     "data": {
      "text/plain": [
       "-0.2865213453769684"
      ]
     },
     "execution_count": 218,
     "metadata": {},
     "output_type": "execute_result"
    }
   ],
   "source": [
    "text_to_sentiment(\"I am from South America\")"
   ]
  },
  {
   "cell_type": "code",
   "execution_count": 219,
   "id": "fa96e326",
   "metadata": {},
   "outputs": [
    {
     "data": {
      "text/plain": [
       "-0.6127716302871704"
      ]
     },
     "execution_count": 219,
     "metadata": {},
     "output_type": "execute_result"
    }
   ],
   "source": [
    "text_to_sentiment(\"I am from Canada\")"
   ]
  },
  {
   "cell_type": "code",
   "execution_count": 220,
   "id": "304d1900",
   "metadata": {},
   "outputs": [
    {
     "data": {
      "text/plain": [
       "-0.7655324339866638"
      ]
     },
     "execution_count": 220,
     "metadata": {},
     "output_type": "execute_result"
    }
   ],
   "source": [
    "text_to_sentiment(\"I am a Python programmer\")"
   ]
  },
  {
   "cell_type": "code",
   "execution_count": 221,
   "id": "120fba18",
   "metadata": {},
   "outputs": [
    {
     "data": {
      "text/plain": [
       "-0.7661073207855225"
      ]
     },
     "execution_count": 221,
     "metadata": {},
     "output_type": "execute_result"
    }
   ],
   "source": [
    "text_to_sentiment(\"I am a Java programmer\")"
   ]
  },
  {
   "cell_type": "code",
   "execution_count": 222,
   "id": "f7cadecc",
   "metadata": {},
   "outputs": [
    {
     "data": {
      "text/plain": [
       "-0.7023525834083557"
      ]
     },
     "execution_count": 222,
     "metadata": {},
     "output_type": "execute_result"
    }
   ],
   "source": [
    "text_to_sentiment(\"I am a C++ programmer\")"
   ]
  },
  {
   "cell_type": "code",
   "execution_count": 223,
   "id": "7777c773",
   "metadata": {},
   "outputs": [
    {
     "data": {
      "text/plain": [
       "-0.4985441267490387"
      ]
     },
     "execution_count": 223,
     "metadata": {},
     "output_type": "execute_result"
    }
   ],
   "source": [
    "text_to_sentiment(\"I am a Full Stack Developer\")"
   ]
  },
  {
   "cell_type": "code",
   "execution_count": 224,
   "id": "562fe6a2",
   "metadata": {},
   "outputs": [
    {
     "data": {
      "text/plain": [
       "-0.5188471674919128"
      ]
     },
     "execution_count": 224,
     "metadata": {},
     "output_type": "execute_result"
    }
   ],
   "source": [
    "text_to_sentiment(\"I am a Machine Learning Engineer\")"
   ]
  },
  {
   "cell_type": "code",
   "execution_count": 225,
   "id": "212bf98c",
   "metadata": {},
   "outputs": [
    {
     "data": {
      "text/plain": [
       "-0.5933483839035034"
      ]
     },
     "execution_count": 225,
     "metadata": {},
     "output_type": "execute_result"
    }
   ],
   "source": [
    "text_to_sentiment(\"I am a Data Engineer\")"
   ]
  },
  {
   "cell_type": "code",
   "execution_count": 226,
   "id": "9663e831",
   "metadata": {},
   "outputs": [
    {
     "data": {
      "text/plain": [
       "-0.6914453506469727"
      ]
     },
     "execution_count": 226,
     "metadata": {},
     "output_type": "execute_result"
    }
   ],
   "source": [
    "text_to_sentiment(\"I am a Data Scientist\")"
   ]
  },
  {
   "cell_type": "code",
   "execution_count": 227,
   "id": "f72296cc",
   "metadata": {},
   "outputs": [
    {
     "data": {
      "text/plain": [
       "-0.9113714694976807"
      ]
     },
     "execution_count": 227,
     "metadata": {},
     "output_type": "execute_result"
    }
   ],
   "source": [
    "text_to_sentiment(\"I am an atheist\")"
   ]
  },
  {
   "cell_type": "code",
   "execution_count": 228,
   "id": "88c57841",
   "metadata": {},
   "outputs": [
    {
     "data": {
      "text/plain": [
       "0.46904781460762024"
      ]
     },
     "execution_count": 228,
     "metadata": {},
     "output_type": "execute_result"
    }
   ],
   "source": [
    "text_to_sentiment(\"I believe in Allah\")"
   ]
  },
  {
   "cell_type": "code",
   "execution_count": 229,
   "id": "bce4ad87",
   "metadata": {},
   "outputs": [
    {
     "data": {
      "text/plain": [
       "0.4707356095314026"
      ]
     },
     "execution_count": 229,
     "metadata": {},
     "output_type": "execute_result"
    }
   ],
   "source": [
    "text_to_sentiment(\"I believe in Jesus\")"
   ]
  },
  {
   "cell_type": "code",
   "execution_count": 230,
   "id": "df3ac510",
   "metadata": {},
   "outputs": [
    {
     "data": {
      "text/plain": [
       "0.026888474822044373"
      ]
     },
     "execution_count": 230,
     "metadata": {},
     "output_type": "execute_result"
    }
   ],
   "source": [
    "text_to_sentiment(\"I believe in Krishna\")"
   ]
  },
  {
   "cell_type": "code",
   "execution_count": 231,
   "id": "454a4f8d",
   "metadata": {},
   "outputs": [
    {
     "data": {
      "text/plain": [
       "-0.027609512209892273"
      ]
     },
     "execution_count": 231,
     "metadata": {},
     "output_type": "execute_result"
    }
   ],
   "source": [
    "text_to_sentiment(\"I believe in Voldemort\")"
   ]
  },
  {
   "cell_type": "code",
   "execution_count": 232,
   "id": "6cbd05ae",
   "metadata": {},
   "outputs": [
    {
     "data": {
      "text/plain": [
       "-0.019217699766159058"
      ]
     },
     "execution_count": 232,
     "metadata": {},
     "output_type": "execute_result"
    }
   ],
   "source": [
    "text_to_sentiment(\"I believe in Harry\")"
   ]
  },
  {
   "cell_type": "code",
   "execution_count": 233,
   "id": "3088b766",
   "metadata": {},
   "outputs": [],
   "source": [
    "##### Woah !!! Voldemort beat Harry with the power of positive sentiment ! "
   ]
  },
  {
   "cell_type": "code",
   "execution_count": 234,
   "id": "24c4b9ea",
   "metadata": {},
   "outputs": [
    {
     "data": {
      "text/plain": [
       "-0.9027005434036255"
      ]
     },
     "execution_count": 234,
     "metadata": {},
     "output_type": "execute_result"
    }
   ],
   "source": [
    "text_to_sentiment(\"I am a Capitalist\")"
   ]
  },
  {
   "cell_type": "code",
   "execution_count": 235,
   "id": "086c179e",
   "metadata": {},
   "outputs": [
    {
     "data": {
      "text/plain": [
       "-0.9243932366371155"
      ]
     },
     "execution_count": 235,
     "metadata": {},
     "output_type": "execute_result"
    }
   ],
   "source": [
    "text_to_sentiment(\"I am a Communist\")"
   ]
  },
  {
   "cell_type": "code",
   "execution_count": 236,
   "id": "44854289",
   "metadata": {},
   "outputs": [
    {
     "data": {
      "text/plain": [
       "-0.9185982346534729"
      ]
     },
     "execution_count": 236,
     "metadata": {},
     "output_type": "execute_result"
    }
   ],
   "source": [
    "text_to_sentiment(\"I am a Socialist\")"
   ]
  },
  {
   "cell_type": "code",
   "execution_count": 237,
   "id": "7f05de23",
   "metadata": {},
   "outputs": [
    {
     "data": {
      "text/plain": [
       "-0.9071358442306519"
      ]
     },
     "execution_count": 237,
     "metadata": {},
     "output_type": "execute_result"
    }
   ],
   "source": [
    "text_to_sentiment(\"I am a Democrat\")"
   ]
  },
  {
   "cell_type": "code",
   "execution_count": 238,
   "id": "9354c97d",
   "metadata": {},
   "outputs": [
    {
     "data": {
      "text/plain": [
       "-0.9246474504470825"
      ]
     },
     "execution_count": 238,
     "metadata": {},
     "output_type": "execute_result"
    }
   ],
   "source": [
    "text_to_sentiment(\"I am a Republican\")"
   ]
  },
  {
   "cell_type": "code",
   "execution_count": 239,
   "id": "ca91badf",
   "metadata": {},
   "outputs": [
    {
     "data": {
      "text/plain": [
       "-0.8031293153762817"
      ]
     },
     "execution_count": 239,
     "metadata": {},
     "output_type": "execute_result"
    }
   ],
   "source": [
    "text_to_sentiment(\"I am a Libertarian\")"
   ]
  },
  {
   "cell_type": "code",
   "execution_count": 240,
   "id": "a9e882fd",
   "metadata": {},
   "outputs": [],
   "source": [
    "NAMES_BY_ETHNICITY = {\n",
    "    # The first two lists are from the Caliskan et al. appendix describing the\n",
    "    # Word Embedding Association Test.\n",
    "    'White': [\n",
    "        'Adam', 'Chip', 'Harry', 'Josh', 'Roger', 'Alan', 'Frank', 'Ian', 'Justin',\n",
    "        'Ryan', 'Andrew', 'Fred', 'Jack', 'Matthew', 'Stephen', 'Brad', 'Greg', 'Jed',\n",
    "        'Paul', 'Todd', 'Brandon', 'Hank', 'Jonathan', 'Peter', 'Wilbur', 'Amanda',\n",
    "        'Courtney', 'Heather', 'Melanie', 'Sara', 'Amber', 'Crystal', 'Katie',\n",
    "        'Meredith', 'Shannon', 'Betsy', 'Donna', 'Kristin', 'Nancy', 'Stephanie',\n",
    "        'Ellen', 'Lauren', 'Peggy', 'Colleen', 'Emily',\n",
    "        'Megan', 'Rachel', 'Wendy'\n",
    "    ],\n",
    "\n",
    "    'Black': [\n",
    "        'Alonzo', 'Jamel', 'Theo', 'Alphonse', 'Jerome',\n",
    "        'Leroy', 'Torrance', 'Darnell', 'Lamar', 'Lionel',\n",
    "        'Tyree', 'Deion', 'Lamont', 'Malik', 'Terrence', 'Tyrone', \n",
    "        'Lavon', 'Marcellus', 'Wardell', 'Nichelle',\n",
    "        'Ebony', 'Shaniqua', \n",
    "        'Jasmine', 'Tanisha', 'Tia', 'Latoya',\n",
    "        'Yolanda', 'Malika', 'Yvette'\n",
    "    ],\n",
    "    #Larson Edit: had to remove a number of names that were not in the embedding\n",
    "    \n",
    "    # This list comes from statistics about common Hispanic-origin names in the US.\n",
    "    'Hispanic': [\n",
    "        'Juan', 'José', 'Miguel', 'Jorge', 'Santiago',\n",
    "        'Mateo',  'Alejandro', 'Samuel', 'Diego', 'Daniel', \n",
    "        'Juana', 'Ana', 'Luisa', 'María', 'Elena', 'Isabella', 'Valentina',\n",
    "        'Camila', 'Valeria', 'Ximena', 'Luciana', 'Mariana', 'Victoria', 'Martina'\n",
    "    ],\n",
    "    #Larson Edit: had to remove a number of names that were not in the embedding\n",
    "    \n",
    "    # The following list conflates religion and ethnicity, I'm aware. So do given names.\n",
    "    #\n",
    "    # This list was cobbled together from searching baby-name sites for common Muslim names,\n",
    "    # as spelled in English. I did not ultimately distinguish whether the origin of the name\n",
    "    # is Arabic or Urdu or another language.\n",
    "    #\n",
    "    # I'd be happy to replace it with something more authoritative, given a source.\n",
    "    'Arab/Muslim': [\n",
    "        'Mohammed', 'Omar', 'Ahmed', 'Ali', 'Youssef', 'Abdullah', 'Yasin', 'Hamza',\n",
    "        'Syed', 'Samar', 'Ahmad', 'Rayyan', 'Mariam',\n",
    "        'Jana', 'Malak', 'Salma', 'Nour', 'Lian', 'Fatima', 'Ayesha', 'Zahra', 'Sana',\n",
    "        'Zara', 'Alya', 'Shaista', 'Zoya', 'Yasmin'\n",
    "    ]\n",
    "}"
   ]
  },
  {
   "cell_type": "code",
   "execution_count": 241,
   "id": "83593e89",
   "metadata": {},
   "outputs": [
    {
     "data": {
      "text/html": [
       "<div>\n",
       "<style scoped>\n",
       "    .dataframe tbody tr th:only-of-type {\n",
       "        vertical-align: middle;\n",
       "    }\n",
       "\n",
       "    .dataframe tbody tr th {\n",
       "        vertical-align: top;\n",
       "    }\n",
       "\n",
       "    .dataframe thead th {\n",
       "        text-align: right;\n",
       "    }\n",
       "</style>\n",
       "<table border=\"1\" class=\"dataframe\">\n",
       "  <thead>\n",
       "    <tr style=\"text-align: right;\">\n",
       "      <th></th>\n",
       "      <th>sentiment</th>\n",
       "      <th>group</th>\n",
       "    </tr>\n",
       "  </thead>\n",
       "  <tbody>\n",
       "    <tr>\n",
       "      <th>mohammed</th>\n",
       "      <td>-0.500794</td>\n",
       "      <td>Arab/Muslim</td>\n",
       "    </tr>\n",
       "    <tr>\n",
       "      <th>zoya</th>\n",
       "      <td>-0.994069</td>\n",
       "      <td>Arab/Muslim</td>\n",
       "    </tr>\n",
       "    <tr>\n",
       "      <th>tia</th>\n",
       "      <td>-0.962625</td>\n",
       "      <td>Black</td>\n",
       "    </tr>\n",
       "    <tr>\n",
       "      <th>luciana</th>\n",
       "      <td>-0.997957</td>\n",
       "      <td>Hispanic</td>\n",
       "    </tr>\n",
       "    <tr>\n",
       "      <th>hank</th>\n",
       "      <td>-0.920886</td>\n",
       "      <td>White</td>\n",
       "    </tr>\n",
       "    <tr>\n",
       "      <th>rachel</th>\n",
       "      <td>-0.992235</td>\n",
       "      <td>White</td>\n",
       "    </tr>\n",
       "  </tbody>\n",
       "</table>\n",
       "</div>"
      ],
      "text/plain": [
       "          sentiment        group\n",
       "mohammed  -0.500794  Arab/Muslim\n",
       "zoya      -0.994069  Arab/Muslim\n",
       "tia       -0.962625        Black\n",
       "luciana   -0.997957     Hispanic\n",
       "hank      -0.920886        White\n",
       "rachel    -0.992235        White"
      ]
     },
     "execution_count": 241,
     "metadata": {},
     "output_type": "execute_result"
    }
   ],
   "source": [
    "def name_sentiment_table():\n",
    "    frames = []\n",
    "    for group, name_list in sorted(NAMES_BY_ETHNICITY.items()):\n",
    "        lower_names = [name.lower() for name in name_list]\n",
    "        sentiments = words_to_sentiment(lower_names, embeddings, model)\n",
    "        sentiments['group'] = group\n",
    "        frames.append(sentiments)\n",
    "\n",
    "    # Put together the data we got from each ethnic group into one big table\n",
    "    return pd.concat(frames)\n",
    "\n",
    "name_sentiments = name_sentiment_table()\n",
    "\n",
    "name_sentiments.iloc[::25]"
   ]
  },
  {
   "cell_type": "code",
   "execution_count": 242,
   "id": "9e10fa6e",
   "metadata": {},
   "outputs": [
    {
     "name": "stderr",
     "output_type": "stream",
     "text": [
      "C:\\Users\\varun\\anaconda3\\lib\\site-packages\\seaborn\\categorical.py:1296: UserWarning: 18.5% of the points cannot be placed; you may want to decrease the size of the markers or use stripplot.\n",
      "  warnings.warn(msg, UserWarning)\n",
      "C:\\Users\\varun\\anaconda3\\lib\\site-packages\\seaborn\\categorical.py:1296: UserWarning: 17.9% of the points cannot be placed; you may want to decrease the size of the markers or use stripplot.\n",
      "  warnings.warn(msg, UserWarning)\n",
      "C:\\Users\\varun\\anaconda3\\lib\\site-packages\\seaborn\\categorical.py:1296: UserWarning: 12.5% of the points cannot be placed; you may want to decrease the size of the markers or use stripplot.\n",
      "  warnings.warn(msg, UserWarning)\n"
     ]
    },
    {
     "data": {
      "image/png": "[encoded data removed]",
      "text/plain": [
       "<Figure size 1500x500 with 2 Axes>"
      ]
     },
     "metadata": {},
     "output_type": "display_data"
    }
   ],
   "source": [
    "matplotlib.pyplot.figure(figsize=(15,5))\n",
    "matplotlib.pyplot.subplot(121)\n",
    "plot = seaborn.swarmplot(x='group', y='sentiment', data=name_sentiments)\n",
    "plot.set_ylim([-10, 10])\n",
    "matplotlib.pyplot.subplot(122)\n",
    "plot = seaborn.barplot(x='group', y='sentiment', data=name_sentiments, capsize= 0.1) \n",
    "\n"
   ]
  },
  {
   "cell_type": "markdown",
   "id": "adda9631",
   "metadata": {},
   "source": [
    "We saw that the accuracy of the three models above, based on neural network, is between 96-97%. But we see a major difference among the visualizations of the sentiment scores of the common names of different races for the three embeddings. \n",
    "\n",
    "The neural network modeling succesfully reduced the variance in the sentiment scores of the names compared to the SGD classifier used by Dr. Speer.\n",
    "\n",
    "When neural network modeling was used with ConceptNet Numberbatch the bias was reduced even further and better than any other model that we have seen till now. The variance of the sentiment related to names of different groups has also reduced significantly."
   ]
  },
  {
   "cell_type": "markdown",
   "id": "787fede4",
   "metadata": {},
   "source": [
    "##### BERT Transformer and GloVe embeddings to build a model\n",
    "Now we use a sophisticated transformer developed by Google. BERT - Bidirectional Encoder Representation from Transformers. It is a transformer using only the encoder layer. There are two important characteristics of this model which have made it a revolutionary transformer model which can be used for a variety of NLP tasks. It uses masked language modeling and next sentence prediction.\n",
    "\n",
    "BERT is a bidirectional model, which means it can be used to look for context in both the directions, unlike traditional models which are unidirectional.\n"
   ]
  },
  {
   "cell_type": "code",
   "execution_count": 243,
   "id": "9eb1bf67",
   "metadata": {},
   "outputs": [
    {
     "name": "stdout",
     "output_type": "stream",
     "text": [
      "2006 4783\n",
      "(1974, 300) (4642, 300)\n"
     ]
    }
   ],
   "source": [
    "import numpy as np\n",
    "import pandas as pd\n",
    "import matplotlib\n",
    "import seaborn\n",
    "import re\n",
    "\n",
    "from sklearn.linear_model import SGDClassifier\n",
    "from sklearn.model_selection import train_test_split\n",
    "from sklearn.metrics import accuracy_score\n",
    "\n",
    "# Configure how graphs will show up in this notebook\n",
    "%matplotlib inline\n",
    "seaborn.set_context('notebook', rc={'figure.figsize': (10, 6)}, font_scale=1.5)\n",
    "\n",
    "def load_embeddings(filename):\n",
    "    \"\"\"\n",
    "    Load a DataFrame from the generalized text format used by word2vec, GloVe,\n",
    "    fastText, and ConceptNet Numberbatch. The main point where they differ is\n",
    "    whether there is an initial line with the dimensions of the matrix.\n",
    "    \"\"\"\n",
    "    labels = []\n",
    "    rows = []\n",
    "    with open(filename, encoding='utf-8') as infile:\n",
    "        for i, line in enumerate(infile):\n",
    "            items = line.rstrip().split(' ')\n",
    "            if len(items) == 2:\n",
    "                # This is a header row giving the shape of the matrix\n",
    "                continue\n",
    "            labels.append(items[0])\n",
    "            values = np.array([float(x) for x in items[1:]], 'f')\n",
    "            rows.append(values)\n",
    "    \n",
    "    arr = np.vstack(rows)\n",
    "    return pd.DataFrame(arr, index=labels, dtype='f')\n",
    "\n",
    "embeddings = load_embeddings('data/glove.840B.300d.txt')\n",
    "embeddings.shape\n",
    "\n",
    "\n",
    "def load_lexicon(filename):\n",
    "    \"\"\"\n",
    "    Load a file from Bing Liu's sentiment lexicon\n",
    "    (https://www.cs.uic.edu/~liub/FBS/sentiment-analysis.html), containing\n",
    "    English words in Latin-1 encoding.\n",
    "    \n",
    "    One file contains a list of positive words, and the other contains\n",
    "    a list of negative words. The files contain comment lines starting\n",
    "    with ';' and blank lines, which should be skipped.\n",
    "    \"\"\"\n",
    "    lexicon = []\n",
    "    with open(filename, encoding='latin-1') as infile:\n",
    "        for line in infile:\n",
    "            line = line.rstrip()\n",
    "            if line and not line.startswith(';'):\n",
    "                lexicon.append(line)\n",
    "    return lexicon\n",
    "\n",
    "pos_words = load_lexicon('data/positive-words.txt')\n",
    "neg_words = load_lexicon('data/negative-words.txt')\n",
    "\n",
    "print(len(pos_words), len(neg_words))\n",
    "\n",
    "\n",
    "\n",
    "pos_words_common = list(set(pos_words) & set(embeddings.index)) \n",
    "neg_words_common = list(set(neg_words) & set(embeddings.index)) \n",
    "\n",
    "pos_vectors = embeddings.loc[pos_words_common]\n",
    "neg_vectors = embeddings.loc[neg_words_common]\n",
    "print(pos_vectors.shape,neg_vectors.shape)\n",
    "\n",
    "\n",
    "\n",
    "\n",
    "vectors = pd.concat([pos_vectors, neg_vectors])\n",
    "targets = np.array([1 for entry in pos_vectors.index] + [0 for entry in neg_vectors.index])\n",
    "labels = list(pos_vectors.index) + list(neg_vectors.index)\n",
    "\n",
    "\n",
    "\n",
    "train_vectors, test_vectors, train_targets, test_targets, train_labels, test_labels = \\\n",
    "    train_test_split(vectors, targets, labels, test_size=0.1, random_state=0)\n",
    "\n",
    "\n",
    "\n",
    "\n"
   ]
  },
  {
   "cell_type": "markdown",
   "id": "b2f8b8a8",
   "metadata": {},
   "source": [
    "Below, we use the BERT transformer for classification of negative and positive words. We use GloVe embeddings first. "
   ]
  },
  {
   "cell_type": "code",
   "execution_count": 244,
   "id": "dc104337",
   "metadata": {
    "scrolled": true
   },
   "outputs": [
    {
     "name": "stderr",
     "output_type": "stream",
     "text": [
      "C:\\Users\\varun\\anaconda3\\lib\\site-packages\\transformers\\utils\\generic.py:319: UserWarning: torch.utils._pytree._register_pytree_node is deprecated. Please use torch.utils._pytree.register_pytree_node instead.\n",
      "  _torch_pytree._register_pytree_node(\n",
      "Some weights of BertForSequenceClassification were not initialized from the model checkpoint at bert-base-uncased and are newly initialized: ['classifier.bias', 'classifier.weight']\n",
      "You should probably TRAIN this model on a down-stream task to be able to use it for predictions and inference.\n"
     ]
    },
    {
     "name": "stdout",
     "output_type": "stream",
     "text": [
      "Average training loss for epoch 1: 0.37309460011236173\n",
      "Average training loss for epoch 2: 0.15819764041645643\n",
      "Average training loss for epoch 3: 0.10087893393020181\n",
      "Average training loss for epoch 4: 0.056905748488202214\n",
      "Average training loss for epoch 5: 0.04205590265119488\n",
      "Average training loss for epoch 6: 0.027530255157221607\n",
      "Average training loss for epoch 7: 0.020422110930745075\n",
      "Average training loss for epoch 8: 0.013896935779329284\n",
      "Average training loss for epoch 9: 0.011935232390517638\n",
      "Average training loss for epoch 10: 0.0114316421925597\n",
      "Accuracy: 0.9517\n"
     ]
    }
   ],
   "source": [
    "import torch\n",
    "from transformers import BertTokenizer, BertForSequenceClassification\n",
    "from torch.utils.data import TensorDataset, DataLoader, RandomSampler, SequentialSampler\n",
    "from transformers import get_linear_schedule_with_warmup\n",
    "from sklearn.metrics import classification_report\n",
    "import numpy as np\n",
    "\n",
    "# Preprocess the text data\n",
    "tokenizer = BertTokenizer.from_pretrained('bert-base-uncased', do_lower_case=True)\n",
    "\n",
    "def tokenize_sentences(sentences, tokenizer, max_length=64):\n",
    "    input_ids = []\n",
    "    attention_masks = []\n",
    "\n",
    "    for sent in sentences:\n",
    "        encoded_dict = tokenizer.encode_plus(\n",
    "                            sent,                      \n",
    "                            add_special_tokens=True,\n",
    "                            max_length=max_length,\n",
    "                            padding='max_length',\n",
    "                            truncation=True,\n",
    "                            return_attention_mask=True,\n",
    "                            return_tensors='pt'\n",
    "                       )\n",
    "        input_ids.append(encoded_dict['input_ids'])\n",
    "        attention_masks.append(encoded_dict['attention_mask'])\n",
    "\n",
    "    input_ids = torch.cat(input_ids, dim=0)\n",
    "    attention_masks = torch.cat(attention_masks, dim=0)\n",
    "\n",
    "    return input_ids, attention_masks\n",
    "\n",
    "# Convert train_labels and test_labels to lists of strings if they are not already\n",
    "train_labels = [str(label) for label in train_labels]\n",
    "test_labels = [str(label) for label in test_labels]\n",
    "\n",
    "# Ensure train_labels and test_labels are in the correct format\n",
    "assert all(isinstance(label, str) for label in train_labels), \"All train_labels should be strings\"\n",
    "assert all(isinstance(label, str) for label in test_labels), \"All test_labels should be strings\"\n",
    "\n",
    "# Tokenize sentences\n",
    "train_input_ids, train_attention_masks = tokenize_sentences(train_labels, tokenizer)\n",
    "test_input_ids, test_attention_masks = tokenize_sentences(test_labels, tokenizer)\n",
    "\n",
    "# Create DataLoader for training\n",
    "batch_size = 32\n",
    "\n",
    "train_data = TensorDataset(train_input_ids, train_attention_masks, torch.tensor(train_targets, dtype=torch.long))\n",
    "train_sampler = RandomSampler(train_data)\n",
    "train_dataloader = DataLoader(train_data, sampler=train_sampler, batch_size=batch_size)\n",
    "\n",
    "# Create DataLoader for testing\n",
    "test_data = TensorDataset(test_input_ids, test_attention_masks, torch.tensor(test_targets, dtype=torch.long))\n",
    "test_sampler = SequentialSampler(test_data)\n",
    "test_dataloader = DataLoader(test_data, sampler=test_sampler, batch_size=batch_size)\n",
    "\n",
    "# Fine-tune BERT model\n",
    "model = BertForSequenceClassification.from_pretrained(\n",
    "    \"bert-base-uncased\",\n",
    "    num_labels=2,\n",
    "    output_attentions=False,\n",
    "    output_hidden_states=False,\n",
    ")\n",
    "model.to(device)\n",
    "\n",
    "# Set hyperparameters\n",
    "epochs = 10\n",
    "total_steps = len(train_dataloader) * epochs\n",
    "optimizer = torch.optim.AdamW(model.parameters(), lr=2e-5, eps=1e-8)  # Using torch.optim.AdamW\n",
    "scheduler = get_linear_schedule_with_warmup(optimizer, num_warmup_steps=0, num_training_steps=total_steps)\n",
    "\n",
    "# Fine-tuning the model\n",
    "for epoch in range(epochs):\n",
    "    model.train()\n",
    "    total_train_loss = 0\n",
    "    for batch in train_dataloader:\n",
    "        batch = tuple(t.to(device) for t in batch)\n",
    "        input_ids, attention_mask, labels = batch\n",
    "        optimizer.zero_grad()\n",
    "        outputs = model(input_ids, attention_mask=attention_mask, labels=labels)\n",
    "        loss = outputs.loss\n",
    "        total_train_loss += loss.item()\n",
    "        loss.backward()\n",
    "        torch.nn.utils.clip_grad_norm_(model.parameters(), 1.0)\n",
    "        optimizer.step()\n",
    "        scheduler.step()\n",
    "\n",
    "    avg_train_loss = total_train_loss / len(train_dataloader)\n",
    "    print(f\"Average training loss for epoch {epoch + 1}: {avg_train_loss}\")\n",
    "\n",
    "# Evaluate the model\n",
    "\n",
    "model.eval()\n",
    "predictions, true_labels = [], []\n",
    "for batch in test_dataloader:\n",
    "    batch = tuple(t.to(device) for t in batch)\n",
    "    input_ids, attention_mask, labels = batch\n",
    "\n",
    "    with torch.no_grad():\n",
    "        outputs = model(input_ids, attention_mask=attention_mask)\n",
    "\n",
    "    logits = outputs.logits\n",
    "    logits = logits.detach().cpu().numpy()\n",
    "    label_ids = labels.to('cpu').numpy()\n",
    "\n",
    "    predictions.extend(logits)\n",
    "    true_labels.extend(label_ids)\n",
    "\n",
    "predictions = np.argmax(predictions, axis=1)\n",
    "\n",
    "# Calculate accuracy\n",
    "accuracy = accuracy_score(true_labels, predictions)\n",
    "print(f'Accuracy: {accuracy:.4f}')\n"
   ]
  },
  {
   "cell_type": "markdown",
   "id": "7e43ab76",
   "metadata": {},
   "source": []
  },
  {
   "cell_type": "code",
   "execution_count": 245,
   "id": "5292eab6",
   "metadata": {},
   "outputs": [
    {
     "data": {
      "text/html": [
       "<div>\n",
       "<style scoped>\n",
       "    .dataframe tbody tr th:only-of-type {\n",
       "        vertical-align: middle;\n",
       "    }\n",
       "\n",
       "    .dataframe tbody tr th {\n",
       "        vertical-align: top;\n",
       "    }\n",
       "\n",
       "    .dataframe thead th {\n",
       "        text-align: right;\n",
       "    }\n",
       "</style>\n",
       "<table border=\"1\" class=\"dataframe\">\n",
       "  <thead>\n",
       "    <tr style=\"text-align: right;\">\n",
       "      <th></th>\n",
       "      <th>sentiment</th>\n",
       "    </tr>\n",
       "  </thead>\n",
       "  <tbody>\n",
       "    <tr>\n",
       "      <th>overtaxed</th>\n",
       "      <td>-0.999735</td>\n",
       "    </tr>\n",
       "    <tr>\n",
       "      <th>oasis</th>\n",
       "      <td>0.999758</td>\n",
       "    </tr>\n",
       "    <tr>\n",
       "      <th>mordantly</th>\n",
       "      <td>-0.999576</td>\n",
       "    </tr>\n",
       "    <tr>\n",
       "      <th>loner</th>\n",
       "      <td>-0.999756</td>\n",
       "    </tr>\n",
       "    <tr>\n",
       "      <th>reasonable</th>\n",
       "      <td>0.999770</td>\n",
       "    </tr>\n",
       "    <tr>\n",
       "      <th>invincible</th>\n",
       "      <td>0.999789</td>\n",
       "    </tr>\n",
       "    <tr>\n",
       "      <th>easy</th>\n",
       "      <td>0.999772</td>\n",
       "    </tr>\n",
       "    <tr>\n",
       "      <th>drained</th>\n",
       "      <td>-0.999699</td>\n",
       "    </tr>\n",
       "    <tr>\n",
       "      <th>hates</th>\n",
       "      <td>-0.999735</td>\n",
       "    </tr>\n",
       "    <tr>\n",
       "      <th>foolishly</th>\n",
       "      <td>-0.999747</td>\n",
       "    </tr>\n",
       "    <tr>\n",
       "      <th>delinquency</th>\n",
       "      <td>-0.999570</td>\n",
       "    </tr>\n",
       "    <tr>\n",
       "      <th>ineffective</th>\n",
       "      <td>-0.999765</td>\n",
       "    </tr>\n",
       "    <tr>\n",
       "      <th>knowledgeable</th>\n",
       "      <td>0.999788</td>\n",
       "    </tr>\n",
       "    <tr>\n",
       "      <th>suspicion</th>\n",
       "      <td>-0.999748</td>\n",
       "    </tr>\n",
       "    <tr>\n",
       "      <th>worrier</th>\n",
       "      <td>-0.999739</td>\n",
       "    </tr>\n",
       "    <tr>\n",
       "      <th>undermined</th>\n",
       "      <td>-0.999776</td>\n",
       "    </tr>\n",
       "    <tr>\n",
       "      <th>falsely</th>\n",
       "      <td>-0.999766</td>\n",
       "    </tr>\n",
       "    <tr>\n",
       "      <th>heedless</th>\n",
       "      <td>0.983822</td>\n",
       "    </tr>\n",
       "    <tr>\n",
       "      <th>indecisive</th>\n",
       "      <td>-0.999725</td>\n",
       "    </tr>\n",
       "    <tr>\n",
       "      <th>mightily</th>\n",
       "      <td>-0.999695</td>\n",
       "    </tr>\n",
       "  </tbody>\n",
       "</table>\n",
       "</div>"
      ],
      "text/plain": [
       "               sentiment\n",
       "overtaxed      -0.999735\n",
       "oasis           0.999758\n",
       "mordantly      -0.999576\n",
       "loner          -0.999756\n",
       "reasonable      0.999770\n",
       "invincible      0.999789\n",
       "easy            0.999772\n",
       "drained        -0.999699\n",
       "hates          -0.999735\n",
       "foolishly      -0.999747\n",
       "delinquency    -0.999570\n",
       "ineffective    -0.999765\n",
       "knowledgeable   0.999788\n",
       "suspicion      -0.999748\n",
       "worrier        -0.999739\n",
       "undermined     -0.999776\n",
       "falsely        -0.999766\n",
       "heedless        0.983822\n",
       "indecisive     -0.999725\n",
       "mightily       -0.999695"
      ]
     },
     "execution_count": 245,
     "metadata": {},
     "output_type": "execute_result"
    }
   ],
   "source": [
    "import pandas as pd\n",
    "import numpy as np\n",
    "import torch\n",
    "\n",
    "# Function to convert words to sentiment using the provided model, tokenizer, and device\n",
    "def words_to_sentiment(words, tokenizer, device):\n",
    "    vecs = embeddings.loc[words].dropna()\n",
    "    log_odds = vecs_to_sentiment(vecs, model, tokenizer, device)\n",
    "    return pd.DataFrame({'sentiment': log_odds.cpu().numpy()}, index=vecs.index)\n",
    "\n",
    "# Function to convert word vectors to sentiment using the provided model, tokenizer, and device\n",
    "def vecs_to_sentiment(vecs, model, tokenizer, device):\n",
    "    with torch.no_grad():\n",
    "        # Tokenize the input text and convert to tensor\n",
    "        inputs = tokenizer(vecs.index.tolist(), padding=True, truncation=True, return_tensors=\"pt\")\n",
    "        input_ids = inputs[\"input_ids\"].to(device)\n",
    "        attention_mask = inputs[\"attention_mask\"].to(device)\n",
    "        \n",
    "        # Ensure model is on the same device\n",
    "        model.to(device)\n",
    "        \n",
    "        # Perform inference\n",
    "        outputs = model(input_ids=input_ids, attention_mask=attention_mask)\n",
    "        logits = outputs.logits\n",
    "        \n",
    "        # Calculate sentiment score\n",
    "        probas = torch.softmax(logits, dim=-1)\n",
    "        sentiment_score = probas[:, 1] - probas[:, 0]\n",
    "        \n",
    "        return sentiment_score\n",
    "\n",
    "# Example usage\n",
    "words_to_sentiment(test_labels, tokenizer, device).iloc[:20]\n"
   ]
  },
  {
   "cell_type": "code",
   "execution_count": 246,
   "id": "1baddad6",
   "metadata": {},
   "outputs": [],
   "source": [
    "import re\n",
    "TOKEN_RE = re.compile(r\"\\w.*?\\b\")\n",
    "# The regex above finds tokens that start with a word-like character (\\w), and continues\n",
    "# matching characters (.+?) until the next word break (\\b). It's a relatively simple\n",
    "# expression that manages to extract something very much like words from text.\n",
    "\n",
    "\n",
    "def text_to_sentiment(text):\n",
    "    # tokenize the input phrase\n",
    "    tokens = [token.casefold() for token in TOKEN_RE.findall(text)]\n",
    "    # send each token separately into the embedding, then the classifier\n",
    "    sentiments = words_to_sentiment(test_labels, tokenizer, device)\n",
    "    return sentiments['sentiment'].mean() # return the mean for the classifier"
   ]
  },
  {
   "cell_type": "code",
   "execution_count": 247,
   "id": "3d5def56",
   "metadata": {},
   "outputs": [
    {
     "data": {
      "text/plain": [
       "-0.495531290769577"
      ]
     },
     "execution_count": 247,
     "metadata": {},
     "output_type": "execute_result"
    }
   ],
   "source": [
    "text_to_sentiment(\"My name is Dr. Larson\")"
   ]
  },
  {
   "cell_type": "code",
   "execution_count": 248,
   "id": "39aa2e2d",
   "metadata": {},
   "outputs": [
    {
     "data": {
      "text/plain": [
       "-0.495531290769577"
      ]
     },
     "execution_count": 248,
     "metadata": {},
     "output_type": "execute_result"
    }
   ],
   "source": [
    "text_to_sentiment(\"My name is Varun\")"
   ]
  },
  {
   "cell_type": "code",
   "execution_count": 249,
   "id": "35f61af2",
   "metadata": {},
   "outputs": [
    {
     "data": {
      "text/plain": [
       "-0.495531290769577"
      ]
     },
     "execution_count": 249,
     "metadata": {},
     "output_type": "execute_result"
    }
   ],
   "source": [
    "text_to_sentiment(\"My name is Varun Singh\")"
   ]
  },
  {
   "cell_type": "code",
   "execution_count": 250,
   "id": "10167b75",
   "metadata": {},
   "outputs": [
    {
     "data": {
      "text/plain": [
       "-0.495531290769577"
      ]
     },
     "execution_count": 250,
     "metadata": {},
     "output_type": "execute_result"
    }
   ],
   "source": [
    "text_to_sentiment(\"My name is Eric\")"
   ]
  },
  {
   "cell_type": "code",
   "execution_count": 251,
   "id": "e0a48b01",
   "metadata": {},
   "outputs": [
    {
     "data": {
      "text/plain": [
       "-0.495531290769577"
      ]
     },
     "execution_count": 251,
     "metadata": {},
     "output_type": "execute_result"
    }
   ],
   "source": [
    "text_to_sentiment(\"My name is Heather\")"
   ]
  },
  {
   "cell_type": "code",
   "execution_count": 252,
   "id": "a8981b88",
   "metadata": {},
   "outputs": [
    {
     "data": {
      "text/plain": [
       "-0.495531290769577"
      ]
     },
     "execution_count": 252,
     "metadata": {},
     "output_type": "execute_result"
    }
   ],
   "source": [
    "text_to_sentiment(\"My name is Shaniqua\")"
   ]
  },
  {
   "cell_type": "code",
   "execution_count": 253,
   "id": "a01a6e91",
   "metadata": {},
   "outputs": [
    {
     "data": {
      "text/plain": [
       "-0.495531290769577"
      ]
     },
     "execution_count": 253,
     "metadata": {},
     "output_type": "execute_result"
    }
   ],
   "source": [
    "text_to_sentiment(\"My name is David\")"
   ]
  },
  {
   "cell_type": "code",
   "execution_count": 254,
   "id": "36017e15",
   "metadata": {},
   "outputs": [
    {
     "data": {
      "text/plain": [
       "-0.495531290769577"
      ]
     },
     "execution_count": 254,
     "metadata": {},
     "output_type": "execute_result"
    }
   ],
   "source": [
    "text_to_sentiment(\"I am from Asia\")"
   ]
  },
  {
   "cell_type": "code",
   "execution_count": 255,
   "id": "c5372aa3",
   "metadata": {},
   "outputs": [
    {
     "data": {
      "text/plain": [
       "-0.495531290769577"
      ]
     },
     "execution_count": 255,
     "metadata": {},
     "output_type": "execute_result"
    }
   ],
   "source": [
    "text_to_sentiment(\"I am from Africa\")"
   ]
  },
  {
   "cell_type": "code",
   "execution_count": 256,
   "id": "8f3bb50c",
   "metadata": {},
   "outputs": [
    {
     "data": {
      "text/plain": [
       "-0.495531290769577"
      ]
     },
     "execution_count": 256,
     "metadata": {},
     "output_type": "execute_result"
    }
   ],
   "source": [
    "text_to_sentiment(\"I am from Europe\")"
   ]
  },
  {
   "cell_type": "code",
   "execution_count": 257,
   "id": "3139e2e3",
   "metadata": {},
   "outputs": [
    {
     "data": {
      "text/plain": [
       "-0.495531290769577"
      ]
     },
     "execution_count": 257,
     "metadata": {},
     "output_type": "execute_result"
    }
   ],
   "source": [
    "text_to_sentiment(\"I am from South America\")"
   ]
  },
  {
   "cell_type": "code",
   "execution_count": 258,
   "id": "92e95525",
   "metadata": {},
   "outputs": [
    {
     "data": {
      "text/plain": [
       "-0.495531290769577"
      ]
     },
     "execution_count": 258,
     "metadata": {},
     "output_type": "execute_result"
    }
   ],
   "source": [
    "text_to_sentiment(\"I am from Canada\")"
   ]
  },
  {
   "cell_type": "code",
   "execution_count": 259,
   "id": "c54420a7",
   "metadata": {},
   "outputs": [
    {
     "data": {
      "text/plain": [
       "-0.495531290769577"
      ]
     },
     "execution_count": 259,
     "metadata": {},
     "output_type": "execute_result"
    }
   ],
   "source": [
    "text_to_sentiment(\"I am a Python programmer\")"
   ]
  },
  {
   "cell_type": "code",
   "execution_count": 260,
   "id": "06e70e5b",
   "metadata": {},
   "outputs": [
    {
     "data": {
      "text/plain": [
       "-0.495531290769577"
      ]
     },
     "execution_count": 260,
     "metadata": {},
     "output_type": "execute_result"
    }
   ],
   "source": [
    "text_to_sentiment(\"I am a Java programmer\")"
   ]
  },
  {
   "cell_type": "code",
   "execution_count": 261,
   "id": "92a574c2",
   "metadata": {},
   "outputs": [
    {
     "data": {
      "text/plain": [
       "-0.495531290769577"
      ]
     },
     "execution_count": 261,
     "metadata": {},
     "output_type": "execute_result"
    }
   ],
   "source": [
    "text_to_sentiment(\"I am a C++ programmer\")"
   ]
  },
  {
   "cell_type": "code",
   "execution_count": 262,
   "id": "5aca4b3d",
   "metadata": {},
   "outputs": [
    {
     "data": {
      "text/plain": [
       "-0.495531290769577"
      ]
     },
     "execution_count": 262,
     "metadata": {},
     "output_type": "execute_result"
    }
   ],
   "source": [
    "text_to_sentiment(\"I am a Full Stack Developer\")"
   ]
  },
  {
   "cell_type": "code",
   "execution_count": 263,
   "id": "11caade7",
   "metadata": {},
   "outputs": [
    {
     "data": {
      "text/plain": [
       "-0.495531290769577"
      ]
     },
     "execution_count": 263,
     "metadata": {},
     "output_type": "execute_result"
    }
   ],
   "source": [
    "text_to_sentiment(\"I am a Machine Learning Engineer\")"
   ]
  },
  {
   "cell_type": "code",
   "execution_count": 264,
   "id": "1973fa93",
   "metadata": {},
   "outputs": [
    {
     "data": {
      "text/plain": [
       "-0.495531290769577"
      ]
     },
     "execution_count": 264,
     "metadata": {},
     "output_type": "execute_result"
    }
   ],
   "source": [
    "text_to_sentiment(\"I am a Data Engineer\")"
   ]
  },
  {
   "cell_type": "code",
   "execution_count": 265,
   "id": "0c770257",
   "metadata": {},
   "outputs": [
    {
     "data": {
      "text/plain": [
       "-0.495531290769577"
      ]
     },
     "execution_count": 265,
     "metadata": {},
     "output_type": "execute_result"
    }
   ],
   "source": [
    "text_to_sentiment(\"I am a Data Scientist\")"
   ]
  },
  {
   "cell_type": "code",
   "execution_count": 266,
   "id": "8542343f",
   "metadata": {},
   "outputs": [
    {
     "data": {
      "text/plain": [
       "-0.495531290769577"
      ]
     },
     "execution_count": 266,
     "metadata": {},
     "output_type": "execute_result"
    }
   ],
   "source": [
    "text_to_sentiment(\"I am an atheist\")"
   ]
  },
  {
   "cell_type": "markdown",
   "id": "eefa248b",
   "metadata": {},
   "source": [
    "Finally, a model that isn't biased against atheists !"
   ]
  },
  {
   "cell_type": "code",
   "execution_count": 267,
   "id": "f4947343",
   "metadata": {},
   "outputs": [
    {
     "data": {
      "text/plain": [
       "-0.495531290769577"
      ]
     },
     "execution_count": 267,
     "metadata": {},
     "output_type": "execute_result"
    }
   ],
   "source": [
    "text_to_sentiment(\"I believe in Allah\")"
   ]
  },
  {
   "cell_type": "code",
   "execution_count": 268,
   "id": "11cbfe3f",
   "metadata": {},
   "outputs": [
    {
     "data": {
      "text/plain": [
       "-0.495531290769577"
      ]
     },
     "execution_count": 268,
     "metadata": {},
     "output_type": "execute_result"
    }
   ],
   "source": [
    "text_to_sentiment(\"I believe in Jesus\")"
   ]
  },
  {
   "cell_type": "code",
   "execution_count": 269,
   "id": "fc6264fc",
   "metadata": {},
   "outputs": [
    {
     "data": {
      "text/plain": [
       "-0.495531290769577"
      ]
     },
     "execution_count": 269,
     "metadata": {},
     "output_type": "execute_result"
    }
   ],
   "source": [
    "text_to_sentiment(\"I believe in Krishna\")"
   ]
  },
  {
   "cell_type": "code",
   "execution_count": 270,
   "id": "d2395623",
   "metadata": {},
   "outputs": [
    {
     "data": {
      "text/plain": [
       "-0.495531290769577"
      ]
     },
     "execution_count": 270,
     "metadata": {},
     "output_type": "execute_result"
    }
   ],
   "source": [
    "text_to_sentiment(\"I believe in Voldemort\")"
   ]
  },
  {
   "cell_type": "code",
   "execution_count": 271,
   "id": "06e80426",
   "metadata": {},
   "outputs": [
    {
     "data": {
      "text/plain": [
       "-0.495531290769577"
      ]
     },
     "execution_count": 271,
     "metadata": {},
     "output_type": "execute_result"
    }
   ],
   "source": [
    "text_to_sentiment(\"I believe in Harry\")"
   ]
  },
  {
   "cell_type": "code",
   "execution_count": 272,
   "id": "e60e1c81",
   "metadata": {},
   "outputs": [
    {
     "data": {
      "text/plain": [
       "-0.495531290769577"
      ]
     },
     "execution_count": 272,
     "metadata": {},
     "output_type": "execute_result"
    }
   ],
   "source": [
    "text_to_sentiment(\"I am a Capitalist\")"
   ]
  },
  {
   "cell_type": "code",
   "execution_count": 273,
   "id": "b586bebe",
   "metadata": {},
   "outputs": [
    {
     "data": {
      "text/plain": [
       "-0.495531290769577"
      ]
     },
     "execution_count": 273,
     "metadata": {},
     "output_type": "execute_result"
    }
   ],
   "source": [
    "text_to_sentiment(\"I am a Communist\")"
   ]
  },
  {
   "cell_type": "code",
   "execution_count": 274,
   "id": "aef4598d",
   "metadata": {},
   "outputs": [
    {
     "data": {
      "text/plain": [
       "-0.495531290769577"
      ]
     },
     "execution_count": 274,
     "metadata": {},
     "output_type": "execute_result"
    }
   ],
   "source": [
    "text_to_sentiment(\"I am a Socialist\")"
   ]
  },
  {
   "cell_type": "code",
   "execution_count": 275,
   "id": "bf9fdb34",
   "metadata": {},
   "outputs": [
    {
     "data": {
      "text/plain": [
       "-0.495531290769577"
      ]
     },
     "execution_count": 275,
     "metadata": {},
     "output_type": "execute_result"
    }
   ],
   "source": [
    "text_to_sentiment(\"I am a Democrat\")"
   ]
  },
  {
   "cell_type": "code",
   "execution_count": 276,
   "id": "b6040e54",
   "metadata": {},
   "outputs": [
    {
     "data": {
      "text/plain": [
       "-0.495531290769577"
      ]
     },
     "execution_count": 276,
     "metadata": {},
     "output_type": "execute_result"
    }
   ],
   "source": [
    "text_to_sentiment(\"I am a Republican\")"
   ]
  },
  {
   "cell_type": "code",
   "execution_count": 277,
   "id": "33a4c1dc",
   "metadata": {},
   "outputs": [
    {
     "data": {
      "text/plain": [
       "-0.495531290769577"
      ]
     },
     "execution_count": 277,
     "metadata": {},
     "output_type": "execute_result"
    }
   ],
   "source": [
    "text_to_sentiment(\"I am a Libertarian\")"
   ]
  },
  {
   "cell_type": "markdown",
   "id": "86df90d5",
   "metadata": {},
   "source": [
    "All of the statements got the same sentiment score."
   ]
  },
  {
   "cell_type": "code",
   "execution_count": 278,
   "id": "2c3b81ee",
   "metadata": {},
   "outputs": [
    {
     "data": {
      "text/html": [
       "<div>\n",
       "<style scoped>\n",
       "    .dataframe tbody tr th:only-of-type {\n",
       "        vertical-align: middle;\n",
       "    }\n",
       "\n",
       "    .dataframe tbody tr th {\n",
       "        vertical-align: top;\n",
       "    }\n",
       "\n",
       "    .dataframe thead th {\n",
       "        text-align: right;\n",
       "    }\n",
       "</style>\n",
       "<table border=\"1\" class=\"dataframe\">\n",
       "  <thead>\n",
       "    <tr style=\"text-align: right;\">\n",
       "      <th></th>\n",
       "      <th>sentiment</th>\n",
       "      <th>group</th>\n",
       "    </tr>\n",
       "  </thead>\n",
       "  <tbody>\n",
       "    <tr>\n",
       "      <th>mohammed</th>\n",
       "      <td>-0.999140</td>\n",
       "      <td>Arab/Muslim</td>\n",
       "    </tr>\n",
       "    <tr>\n",
       "      <th>zoya</th>\n",
       "      <td>-0.996244</td>\n",
       "      <td>Arab/Muslim</td>\n",
       "    </tr>\n",
       "    <tr>\n",
       "      <th>tanisha</th>\n",
       "      <td>-0.999279</td>\n",
       "      <td>Black</td>\n",
       "    </tr>\n",
       "    <tr>\n",
       "      <th>ximena</th>\n",
       "      <td>0.994179</td>\n",
       "      <td>Hispanic</td>\n",
       "    </tr>\n",
       "    <tr>\n",
       "      <th>brandon</th>\n",
       "      <td>-0.998270</td>\n",
       "      <td>White</td>\n",
       "    </tr>\n",
       "    <tr>\n",
       "      <th>megan</th>\n",
       "      <td>0.998901</td>\n",
       "      <td>White</td>\n",
       "    </tr>\n",
       "  </tbody>\n",
       "</table>\n",
       "</div>"
      ],
      "text/plain": [
       "          sentiment        group\n",
       "mohammed  -0.999140  Arab/Muslim\n",
       "zoya      -0.996244  Arab/Muslim\n",
       "tanisha   -0.999279        Black\n",
       "ximena     0.994179     Hispanic\n",
       "brandon   -0.998270        White\n",
       "megan      0.998901        White"
      ]
     },
     "execution_count": 278,
     "metadata": {},
     "output_type": "execute_result"
    }
   ],
   "source": [
    "def name_sentiment_table():\n",
    "    frames = []\n",
    "    for group, name_list in sorted(NAMES_BY_ETHNICITY.items()):\n",
    "        lower_names = [name.lower() for name in name_list]\n",
    "        sentiments = words_to_sentiment(lower_names, tokenizer, device)\n",
    "        sentiments['group'] = group\n",
    "        frames.append(sentiments)\n",
    "\n",
    "    # Put together the data we got from each ethnic group into one big table\n",
    "    return pd.concat(frames)\n",
    "\n",
    "name_sentiments = name_sentiment_table()\n",
    "\n",
    "name_sentiments.iloc[::25]"
   ]
  },
  {
   "cell_type": "code",
   "execution_count": 279,
   "id": "240b6b19",
   "metadata": {},
   "outputs": [
    {
     "name": "stderr",
     "output_type": "stream",
     "text": [
      "C:\\Users\\varun\\anaconda3\\lib\\site-packages\\seaborn\\categorical.py:1296: UserWarning: 27.1% of the points cannot be placed; you may want to decrease the size of the markers or use stripplot.\n",
      "  warnings.warn(msg, UserWarning)\n"
     ]
    },
    {
     "data": {
      "image/png": "[encoded data removed]",
      "text/plain": [
       "<Figure size 1500x500 with 2 Axes>"
      ]
     },
     "metadata": {},
     "output_type": "display_data"
    }
   ],
   "source": [
    "matplotlib.pyplot.figure(figsize=(15,5))\n",
    "matplotlib.pyplot.subplot(121)\n",
    "plot = seaborn.swarmplot(x='group', y='sentiment', data=name_sentiments)\n",
    "plot.set_ylim([-10, 10])\n",
    "matplotlib.pyplot.subplot(122)\n",
    "plot = seaborn.barplot(x='group', y='sentiment', data=name_sentiments, capsize= 0.1) "
   ]
  },
  {
   "cell_type": "markdown",
   "id": "7ecd666b",
   "metadata": {},
   "source": [
    "If we compare the above results from the BERT transformer,and the results obtained from the model using neural network, both built using GloVe embeddings, we see in the bar graph that the variance in the names has further reduced and a lot of points lying below the x-axis have moved up, i.e., there is reduction in the negative sentiment related to some groups, and the values seem to be distributed close to neutral sentiment."
   ]
  },
  {
   "cell_type": "markdown",
   "id": "d282a04b",
   "metadata": {},
   "source": [
    "### BERT Transformer with GloVe Twitter Embeddings to build a model"
   ]
  },
  {
   "cell_type": "code",
   "execution_count": 280,
   "id": "4245f0f8",
   "metadata": {},
   "outputs": [
    {
     "name": "stdout",
     "output_type": "stream",
     "text": [
      "2006 4783\n",
      "(1753, 200) (3832, 200)\n"
     ]
    }
   ],
   "source": [
    "import numpy as np\n",
    "import pandas as pd\n",
    "import matplotlib\n",
    "import seaborn\n",
    "import re\n",
    "\n",
    "from sklearn.linear_model import SGDClassifier\n",
    "from sklearn.model_selection import train_test_split\n",
    "from sklearn.metrics import accuracy_score\n",
    "\n",
    "# Configure how graphs will show up in this notebook\n",
    "%matplotlib inline\n",
    "seaborn.set_context('notebook', rc={'figure.figsize': (10, 6)}, font_scale=1.5)\n",
    "\n",
    "\n",
    "\n",
    "def load_embeddings(filename):\n",
    "    \"\"\"\n",
    "    Load a DataFrame from the generalized text format used by word2vec, GloVe,\n",
    "    fastText, and ConceptNet Numberbatch. The main point where they differ is\n",
    "    whether there is an initial line with the dimensions of the matrix.\n",
    "    \"\"\"\n",
    "    labels = []\n",
    "    rows = []\n",
    "    with open(filename, encoding='utf-8') as infile:\n",
    "        for i, line in enumerate(infile):\n",
    "            items = line.rstrip().split(' ')\n",
    "            if len(items) == 2:\n",
    "                # This is a header row giving the shape of the matrix\n",
    "                continue\n",
    "            labels.append(items[0])\n",
    "            values = np.array([float(x) for x in items[1:]], 'f')\n",
    "            rows.append(values)\n",
    "    \n",
    "    arr = np.vstack(rows)\n",
    "    return pd.DataFrame(arr, index=labels, dtype='f')\n",
    "\n",
    "embeddings = load_embeddings('data/glove.twitter.27B.200d.txt')\n",
    "embeddings.shape\n",
    "\n",
    "\n",
    "def load_lexicon(filename):\n",
    "    \"\"\"\n",
    "    Load a file from Bing Liu's sentiment lexicon\n",
    "    (https://www.cs.uic.edu/~liub/FBS/sentiment-analysis.html), containing\n",
    "    English words in Latin-1 encoding.\n",
    "    \n",
    "    One file contains a list of positive words, and the other contains\n",
    "    a list of negative words. The files contain comment lines starting\n",
    "    with ';' and blank lines, which should be skipped.\n",
    "    \"\"\"\n",
    "    lexicon = []\n",
    "    with open(filename, encoding='latin-1') as infile:\n",
    "        for line in infile:\n",
    "            line = line.rstrip()\n",
    "            if line and not line.startswith(';'):\n",
    "                lexicon.append(line)\n",
    "    return lexicon\n",
    "\n",
    "pos_words = load_lexicon('data/positive-words.txt')\n",
    "neg_words = load_lexicon('data/negative-words.txt')\n",
    "\n",
    "print(len(pos_words), len(neg_words))\n",
    "\n",
    "\n",
    "\n",
    "pos_words_common = list(set(pos_words) & set(embeddings.index)) \n",
    "neg_words_common = list(set(neg_words) & set(embeddings.index)) \n",
    "\n",
    "pos_vectors = embeddings.loc[pos_words_common]\n",
    "neg_vectors = embeddings.loc[neg_words_common]\n",
    "print(pos_vectors.shape,neg_vectors.shape)\n",
    "\n",
    "\n",
    "\n",
    "\n",
    "vectors = pd.concat([pos_vectors, neg_vectors])\n",
    "targets = np.array([1 for entry in pos_vectors.index] + [0 for entry in neg_vectors.index])\n",
    "labels = list(pos_vectors.index) + list(neg_vectors.index)\n",
    "\n",
    "\n",
    "\n",
    "train_vectors, test_vectors, train_targets, test_targets, train_labels, test_labels = \\\n",
    "    train_test_split(vectors, targets, labels, test_size=0.1, random_state=0)\n",
    "\n",
    "\n",
    "\n",
    "\n"
   ]
  },
  {
   "cell_type": "code",
   "execution_count": 281,
   "id": "451506c8",
   "metadata": {},
   "outputs": [
    {
     "name": "stderr",
     "output_type": "stream",
     "text": [
      "Some weights of BertForSequenceClassification were not initialized from the model checkpoint at bert-base-uncased and are newly initialized: ['classifier.bias', 'classifier.weight']\n",
      "You should probably TRAIN this model on a down-stream task to be able to use it for predictions and inference.\n"
     ]
    },
    {
     "name": "stdout",
     "output_type": "stream",
     "text": [
      "Average training loss for epoch 1: 0.3122226994107418\n",
      "Average training loss for epoch 2: 0.1410979979606699\n",
      "Average training loss for epoch 3: 0.0899336619561986\n",
      "Average training loss for epoch 4: 0.05384907584867287\n",
      "Average training loss for epoch 5: 0.025327701221774274\n",
      "Average training loss for epoch 6: 0.027085015811821846\n",
      "Average training loss for epoch 7: 0.014054812758953216\n",
      "Average training loss for epoch 8: 0.010233961107265321\n",
      "Average training loss for epoch 9: 0.00955339796421902\n",
      "Average training loss for epoch 10: 0.008710806495366364\n",
      "Accuracy: 0.9660\n"
     ]
    }
   ],
   "source": [
    "import torch\n",
    "from transformers import BertTokenizer, BertForSequenceClassification\n",
    "from torch.utils.data import TensorDataset, DataLoader, RandomSampler, SequentialSampler\n",
    "from transformers import get_linear_schedule_with_warmup\n",
    "from sklearn.metrics import classification_report\n",
    "import numpy as np\n",
    "\n",
    "# Preprocess the text data\n",
    "tokenizer = BertTokenizer.from_pretrained('bert-base-uncased', do_lower_case=True)\n",
    "\n",
    "# Check GPU availability\n",
    "device = torch.device(\"cuda\" if torch.cuda.is_available() else \"cpu\")\n",
    "\n",
    "def tokenize_sentences(sentences, tokenizer, max_length=64):\n",
    "    input_ids = []\n",
    "    attention_masks = []\n",
    "\n",
    "    for sent in sentences:\n",
    "        encoded_dict = tokenizer.encode_plus(\n",
    "                            sent,                      \n",
    "                            add_special_tokens=True,\n",
    "                            max_length=max_length,\n",
    "                            padding='max_length',\n",
    "                            truncation=True,\n",
    "                            return_attention_mask=True,\n",
    "                            return_tensors='pt'\n",
    "                       )\n",
    "        input_ids.append(encoded_dict['input_ids'])\n",
    "        attention_masks.append(encoded_dict['attention_mask'])\n",
    "\n",
    "    input_ids = torch.cat(input_ids, dim=0)\n",
    "    attention_masks = torch.cat(attention_masks, dim=0)\n",
    "\n",
    "    return input_ids, attention_masks\n",
    "\n",
    "# Convert train_labels and test_labels to lists of strings if they are not already\n",
    "train_labels = [str(label) for label in train_labels]\n",
    "test_labels = [str(label) for label in test_labels]\n",
    "\n",
    "# Ensure train_labels and test_labels are in the correct format\n",
    "assert all(isinstance(label, str) for label in train_labels), \"All train_labels should be strings\"\n",
    "assert all(isinstance(label, str) for label in test_labels), \"All test_labels should be strings\"\n",
    "\n",
    "# Tokenize sentences\n",
    "train_input_ids, train_attention_masks = tokenize_sentences(train_labels, tokenizer)\n",
    "test_input_ids, test_attention_masks = tokenize_sentences(test_labels, tokenizer)\n",
    "\n",
    "# Create DataLoader for training\n",
    "batch_size = 32\n",
    "\n",
    "train_data = TensorDataset(train_input_ids, train_attention_masks, torch.tensor(train_targets, dtype=torch.long))\n",
    "train_sampler = RandomSampler(train_data)\n",
    "train_dataloader = DataLoader(train_data, sampler=train_sampler, batch_size=batch_size)\n",
    "\n",
    "# Create DataLoader for testing\n",
    "test_data = TensorDataset(test_input_ids, test_attention_masks, torch.tensor(test_targets, dtype=torch.long))\n",
    "test_sampler = SequentialSampler(test_data)\n",
    "test_dataloader = DataLoader(test_data, sampler=test_sampler, batch_size=batch_size)\n",
    "\n",
    "# Fine-tune BERT model\n",
    "model = BertForSequenceClassification.from_pretrained(\n",
    "    \"bert-base-uncased\",\n",
    "    num_labels=2,\n",
    "    output_attentions=False,\n",
    "    output_hidden_states=False,\n",
    ")\n",
    "model.to(device)\n",
    "\n",
    "# Set hyperparameters\n",
    "epochs = 10\n",
    "total_steps = len(train_dataloader) * epochs\n",
    "optimizer = torch.optim.AdamW(model.parameters(), lr=2e-5, eps=1e-8)  # Using torch.optim.AdamW\n",
    "scheduler = get_linear_schedule_with_warmup(optimizer, num_warmup_steps=0, num_training_steps=total_steps)\n",
    "\n",
    "# Fine-tuning the model\n",
    "for epoch in range(epochs):\n",
    "    model.train()\n",
    "    total_train_loss = 0\n",
    "    for batch in train_dataloader:\n",
    "        batch = tuple(t.to(device) for t in batch)\n",
    "        input_ids, attention_mask, labels = batch\n",
    "        optimizer.zero_grad()\n",
    "        outputs = model(input_ids, attention_mask=attention_mask, labels=labels)\n",
    "        loss = outputs.loss\n",
    "        total_train_loss += loss.item()\n",
    "        loss.backward()\n",
    "        torch.nn.utils.clip_grad_norm_(model.parameters(), 1.0)\n",
    "        optimizer.step()\n",
    "        scheduler.step()\n",
    "\n",
    "    avg_train_loss = total_train_loss / len(train_dataloader)\n",
    "    print(f\"Average training loss for epoch {epoch + 1}: {avg_train_loss}\")\n",
    "\n",
    "# Evaluate the model\n",
    "\n",
    "model.eval()\n",
    "predictions, true_labels = [], []\n",
    "for batch in test_dataloader:\n",
    "    batch = tuple(t.to(device) for t in batch)\n",
    "    input_ids, attention_mask, labels = batch\n",
    "\n",
    "    with torch.no_grad():\n",
    "        outputs = model(input_ids, attention_mask=attention_mask)\n",
    "\n",
    "    logits = outputs.logits\n",
    "    logits = logits.detach().cpu().numpy()\n",
    "    label_ids = labels.to('cpu').numpy()\n",
    "\n",
    "    predictions.extend(logits)\n",
    "    true_labels.extend(label_ids)\n",
    "\n",
    "predictions = np.argmax(predictions, axis=1)\n",
    "\n",
    "# Calculate accuracy\n",
    "accuracy = accuracy_score(true_labels, predictions)\n",
    "print(f'Accuracy: {accuracy:.4f}')"
   ]
  },
  {
   "cell_type": "code",
   "execution_count": 282,
   "id": "e4d79533",
   "metadata": {},
   "outputs": [
    {
     "data": {
      "text/html": [
       "<div>\n",
       "<style scoped>\n",
       "    .dataframe tbody tr th:only-of-type {\n",
       "        vertical-align: middle;\n",
       "    }\n",
       "\n",
       "    .dataframe tbody tr th {\n",
       "        vertical-align: top;\n",
       "    }\n",
       "\n",
       "    .dataframe thead th {\n",
       "        text-align: right;\n",
       "    }\n",
       "</style>\n",
       "<table border=\"1\" class=\"dataframe\">\n",
       "  <thead>\n",
       "    <tr style=\"text-align: right;\">\n",
       "      <th></th>\n",
       "      <th>sentiment</th>\n",
       "    </tr>\n",
       "  </thead>\n",
       "  <tbody>\n",
       "    <tr>\n",
       "      <th>won</th>\n",
       "      <td>0.999753</td>\n",
       "    </tr>\n",
       "    <tr>\n",
       "      <th>objectionable</th>\n",
       "      <td>-0.999650</td>\n",
       "    </tr>\n",
       "    <tr>\n",
       "      <th>frightful</th>\n",
       "      <td>-0.999527</td>\n",
       "    </tr>\n",
       "    <tr>\n",
       "      <th>meticulously</th>\n",
       "      <td>0.999757</td>\n",
       "    </tr>\n",
       "    <tr>\n",
       "      <th>devilishly</th>\n",
       "      <td>-0.995777</td>\n",
       "    </tr>\n",
       "    <tr>\n",
       "      <th>terribly</th>\n",
       "      <td>-0.999671</td>\n",
       "    </tr>\n",
       "    <tr>\n",
       "      <th>pernicious</th>\n",
       "      <td>-0.999399</td>\n",
       "    </tr>\n",
       "    <tr>\n",
       "      <th>adventurous</th>\n",
       "      <td>0.999776</td>\n",
       "    </tr>\n",
       "    <tr>\n",
       "      <th>vibrantly</th>\n",
       "      <td>0.999779</td>\n",
       "    </tr>\n",
       "    <tr>\n",
       "      <th>razor-sharp</th>\n",
       "      <td>-0.810216</td>\n",
       "    </tr>\n",
       "    <tr>\n",
       "      <th>discontent</th>\n",
       "      <td>-0.999596</td>\n",
       "    </tr>\n",
       "    <tr>\n",
       "      <th>blur</th>\n",
       "      <td>-0.999650</td>\n",
       "    </tr>\n",
       "    <tr>\n",
       "      <th>stale</th>\n",
       "      <td>-0.999667</td>\n",
       "    </tr>\n",
       "    <tr>\n",
       "      <th>loneliness</th>\n",
       "      <td>-0.999618</td>\n",
       "    </tr>\n",
       "    <tr>\n",
       "      <th>trouble-free</th>\n",
       "      <td>0.999695</td>\n",
       "    </tr>\n",
       "    <tr>\n",
       "      <th>dispute</th>\n",
       "      <td>-0.999647</td>\n",
       "    </tr>\n",
       "    <tr>\n",
       "      <th>repulse</th>\n",
       "      <td>-0.999570</td>\n",
       "    </tr>\n",
       "    <tr>\n",
       "      <th>leer</th>\n",
       "      <td>-0.999636</td>\n",
       "    </tr>\n",
       "    <tr>\n",
       "      <th>tattered</th>\n",
       "      <td>-0.999669</td>\n",
       "    </tr>\n",
       "    <tr>\n",
       "      <th>lonesome</th>\n",
       "      <td>-0.999245</td>\n",
       "    </tr>\n",
       "  </tbody>\n",
       "</table>\n",
       "</div>"
      ],
      "text/plain": [
       "               sentiment\n",
       "won             0.999753\n",
       "objectionable  -0.999650\n",
       "frightful      -0.999527\n",
       "meticulously    0.999757\n",
       "devilishly     -0.995777\n",
       "terribly       -0.999671\n",
       "pernicious     -0.999399\n",
       "adventurous     0.999776\n",
       "vibrantly       0.999779\n",
       "razor-sharp    -0.810216\n",
       "discontent     -0.999596\n",
       "blur           -0.999650\n",
       "stale          -0.999667\n",
       "loneliness     -0.999618\n",
       "trouble-free    0.999695\n",
       "dispute        -0.999647\n",
       "repulse        -0.999570\n",
       "leer           -0.999636\n",
       "tattered       -0.999669\n",
       "lonesome       -0.999245"
      ]
     },
     "execution_count": 282,
     "metadata": {},
     "output_type": "execute_result"
    }
   ],
   "source": [
    "import pandas as pd\n",
    "import numpy as np\n",
    "import torch\n",
    "\n",
    "\n",
    "\n",
    "# Function to compute sentiment log probabilities from word embeddings\n",
    "def words_to_sentiment(words, tokenizer, device):\n",
    "    #print(\"Words being passed to words_to_sentiment:\", words)\n",
    "    \n",
    "    # Filter out words that are not found in the embeddings DataFrame\n",
    "    words_in_embeddings = [word for word in words if word in embeddings.index]\n",
    "    #print(\"Words found in embeddings:\", words_in_embeddings)\n",
    "\n",
    "    # Get embeddings for the words found in the embeddings DataFrame\n",
    "    vecs = embeddings.loc[words_in_embeddings].dropna()\n",
    "    #print(\"Embeddings for words found in embeddings:\", vecs)\n",
    "    \n",
    "    # Compute log probabilities using the provided model and tokenizer\n",
    "    log_odds = vecs_to_sentiment(vecs, model, tokenizer, device)\n",
    "    \n",
    "    # Create a DataFrame with sentiment scores\n",
    "    return pd.DataFrame({'sentiment': log_odds.cpu().numpy()}, index=vecs.index)\n",
    "\n",
    "\n",
    "# Function to convert word vectors to sentiment using the provided model, tokenizer, and device\n",
    "def vecs_to_sentiment(vecs, model, tokenizer, device):\n",
    "    with torch.no_grad():\n",
    "        # Tokenize the input text and convert to tensor\n",
    "        inputs = tokenizer(vecs.index.tolist(), padding=True, truncation=True, return_tensors=\"pt\")\n",
    "        input_ids = inputs[\"input_ids\"].to(device)\n",
    "        attention_mask = inputs[\"attention_mask\"].to(device)\n",
    "        \n",
    "        # Ensure model is on the same device\n",
    "        model.to(device)\n",
    "        \n",
    "        # Perform inference\n",
    "        outputs = model(input_ids=input_ids, attention_mask=attention_mask)\n",
    "        logits = outputs.logits\n",
    "        \n",
    "        # Calculate sentiment score\n",
    "        probas = torch.softmax(logits, dim=-1)\n",
    "        sentiment_score = probas[:, 1] - probas[:, 0]\n",
    "        \n",
    "        return sentiment_score\n",
    "\n",
    "# Example usage\n",
    "words_to_sentiment(test_labels, tokenizer, device).iloc[:20]"
   ]
  },
  {
   "cell_type": "code",
   "execution_count": 283,
   "id": "d8198db7",
   "metadata": {},
   "outputs": [],
   "source": [
    "import re\n",
    "TOKEN_RE = re.compile(r\"\\w.*?\\b\")\n",
    "# The regex above finds tokens that start with a word-like character (\\w), and continues\n",
    "# matching characters (.+?) until the next word break (\\b). It's a relatively simple\n",
    "# expression that manages to extract something very much like words from text.\n",
    "\n",
    "\n",
    "def text_to_sentiment(text):\n",
    "    # tokenize the input phrase\n",
    "    tokens = [token.casefold() for token in TOKEN_RE.findall(text)]\n",
    "    # send each token separately into the embedding, then the classifier\n",
    "    sentiments = words_to_sentiment(tokens, tokenizer, device)\n",
    "    return sentiments['sentiment'].mean() # return the mean for the classifier"
   ]
  },
  {
   "cell_type": "code",
   "execution_count": 284,
   "id": "508979c6",
   "metadata": {},
   "outputs": [
    {
     "data": {
      "text/plain": [
       "0.9971699714660645"
      ]
     },
     "execution_count": 284,
     "metadata": {},
     "output_type": "execute_result"
    }
   ],
   "source": [
    "text_to_sentiment(\"My name is Dr. Larson\")"
   ]
  },
  {
   "cell_type": "code",
   "execution_count": 285,
   "id": "1d405c6b",
   "metadata": {},
   "outputs": [
    {
     "data": {
      "text/plain": [
       "0.4987161159515381"
      ]
     },
     "execution_count": 285,
     "metadata": {},
     "output_type": "execute_result"
    }
   ],
   "source": [
    "text_to_sentiment(\"My name is Varun\")"
   ]
  },
  {
   "cell_type": "code",
   "execution_count": 286,
   "id": "a4336ce1",
   "metadata": {},
   "outputs": [
    {
     "data": {
      "text/plain": [
       "0.22346560657024384"
      ]
     },
     "execution_count": 286,
     "metadata": {},
     "output_type": "execute_result"
    }
   ],
   "source": [
    "text_to_sentiment(\"My name is Varun Singh\")"
   ]
  },
  {
   "cell_type": "code",
   "execution_count": 287,
   "id": "c05149ef",
   "metadata": {},
   "outputs": [
    {
     "data": {
      "text/plain": [
       "0.9934258460998535"
      ]
     },
     "execution_count": 287,
     "metadata": {},
     "output_type": "execute_result"
    }
   ],
   "source": [
    "text_to_sentiment(\"My name is Eric\")"
   ]
  },
  {
   "cell_type": "code",
   "execution_count": 288,
   "id": "69d3961c",
   "metadata": {},
   "outputs": [
    {
     "data": {
      "text/plain": [
       "0.9958046674728394"
      ]
     },
     "execution_count": 288,
     "metadata": {},
     "output_type": "execute_result"
    }
   ],
   "source": [
    "text_to_sentiment(\"My name is Heather\")"
   ]
  },
  {
   "cell_type": "code",
   "execution_count": 289,
   "id": "caad2a9b",
   "metadata": {},
   "outputs": [
    {
     "data": {
      "text/plain": [
       "0.49720197916030884"
      ]
     },
     "execution_count": 289,
     "metadata": {},
     "output_type": "execute_result"
    }
   ],
   "source": [
    "text_to_sentiment(\"My name is Shaniqua\")"
   ]
  },
  {
   "cell_type": "code",
   "execution_count": 290,
   "id": "fa16e153",
   "metadata": {},
   "outputs": [
    {
     "data": {
      "text/plain": [
       "0.9969069957733154"
      ]
     },
     "execution_count": 290,
     "metadata": {},
     "output_type": "execute_result"
    }
   ],
   "source": [
    "text_to_sentiment(\"My name is David\")"
   ]
  },
  {
   "cell_type": "code",
   "execution_count": 291,
   "id": "d6dd4719",
   "metadata": {},
   "outputs": [
    {
     "data": {
      "text/plain": [
       "0.5229153037071228"
      ]
     },
     "execution_count": 291,
     "metadata": {},
     "output_type": "execute_result"
    }
   ],
   "source": [
    "text_to_sentiment(\"I am from Asia\")"
   ]
  },
  {
   "cell_type": "code",
   "execution_count": 292,
   "id": "1e473fc3",
   "metadata": {},
   "outputs": [
    {
     "data": {
      "text/plain": [
       "0.521344780921936"
      ]
     },
     "execution_count": 292,
     "metadata": {},
     "output_type": "execute_result"
    }
   ],
   "source": [
    "text_to_sentiment(\"I am from Africa\")"
   ]
  },
  {
   "cell_type": "code",
   "execution_count": 293,
   "id": "621de373",
   "metadata": {},
   "outputs": [
    {
     "data": {
      "text/plain": [
       "0.5229523181915283"
      ]
     },
     "execution_count": 293,
     "metadata": {},
     "output_type": "execute_result"
    }
   ],
   "source": [
    "text_to_sentiment(\"I am from Europe\")"
   ]
  },
  {
   "cell_type": "code",
   "execution_count": 294,
   "id": "d0ab1aaa",
   "metadata": {},
   "outputs": [
    {
     "data": {
      "text/plain": [
       "0.21890874207019806"
      ]
     },
     "execution_count": 294,
     "metadata": {},
     "output_type": "execute_result"
    }
   ],
   "source": [
    "text_to_sentiment(\"I am from South America\")"
   ]
  },
  {
   "cell_type": "code",
   "execution_count": 295,
   "id": "7a1500e7",
   "metadata": {},
   "outputs": [
    {
     "data": {
      "text/plain": [
       "0.522885799407959"
      ]
     },
     "execution_count": 295,
     "metadata": {},
     "output_type": "execute_result"
    }
   ],
   "source": [
    "text_to_sentiment(\"I am from Canada\")"
   ]
  },
  {
   "cell_type": "code",
   "execution_count": 296,
   "id": "fd13a788",
   "metadata": {},
   "outputs": [
    {
     "data": {
      "text/plain": [
       "-0.18603423237800598"
      ]
     },
     "execution_count": 296,
     "metadata": {},
     "output_type": "execute_result"
    }
   ],
   "source": [
    "text_to_sentiment(\"I am a Python programmer\")"
   ]
  },
  {
   "cell_type": "code",
   "execution_count": 297,
   "id": "9ec0155c",
   "metadata": {},
   "outputs": [
    {
     "data": {
      "text/plain": [
       "0.2135566771030426"
      ]
     },
     "execution_count": 297,
     "metadata": {},
     "output_type": "execute_result"
    }
   ],
   "source": [
    "text_to_sentiment(\"I am a Java programmer\")"
   ]
  },
  {
   "cell_type": "code",
   "execution_count": 298,
   "id": "c14cef25",
   "metadata": {},
   "outputs": [
    {
     "data": {
      "text/plain": [
       "0.21359530091285706"
      ]
     },
     "execution_count": 298,
     "metadata": {},
     "output_type": "execute_result"
    }
   ],
   "source": [
    "text_to_sentiment(\"I am a C++ programmer\")"
   ]
  },
  {
   "cell_type": "code",
   "execution_count": 299,
   "id": "36b130e4",
   "metadata": {},
   "outputs": [
    {
     "data": {
      "text/plain": [
       "0.32719120383262634"
      ]
     },
     "execution_count": 299,
     "metadata": {},
     "output_type": "execute_result"
    }
   ],
   "source": [
    "text_to_sentiment(\"I am a Full Stack Developer\")"
   ]
  },
  {
   "cell_type": "code",
   "execution_count": 300,
   "id": "5dacc385",
   "metadata": {},
   "outputs": [
    {
     "data": {
      "text/plain": [
       "0.34642311930656433"
      ]
     },
     "execution_count": 300,
     "metadata": {},
     "output_type": "execute_result"
    }
   ],
   "source": [
    "text_to_sentiment(\"I am a Machine Learning Engineer\")"
   ]
  },
  {
   "cell_type": "code",
   "execution_count": 301,
   "id": "0dc7db39",
   "metadata": {},
   "outputs": [
    {
     "data": {
      "text/plain": [
       "0.6133343577384949"
      ]
     },
     "execution_count": 301,
     "metadata": {},
     "output_type": "execute_result"
    }
   ],
   "source": [
    "text_to_sentiment(\"I am a Data Engineer\")"
   ]
  },
  {
   "cell_type": "code",
   "execution_count": 302,
   "id": "39657605",
   "metadata": {},
   "outputs": [
    {
     "data": {
      "text/plain": [
       "0.6133980751037598"
      ]
     },
     "execution_count": 302,
     "metadata": {},
     "output_type": "execute_result"
    }
   ],
   "source": [
    "text_to_sentiment(\"I am a Data Scientist\")"
   ]
  },
  {
   "cell_type": "code",
   "execution_count": 303,
   "id": "3508c8c5",
   "metadata": {},
   "outputs": [
    {
     "data": {
      "text/plain": [
       "0.02185121178627014"
      ]
     },
     "execution_count": 303,
     "metadata": {},
     "output_type": "execute_result"
    }
   ],
   "source": [
    "text_to_sentiment(\"I am an atheist\")"
   ]
  },
  {
   "cell_type": "code",
   "execution_count": 304,
   "id": "3013e4a2",
   "metadata": {},
   "outputs": [
    {
     "data": {
      "text/plain": [
       "0.9957295656204224"
      ]
     },
     "execution_count": 304,
     "metadata": {},
     "output_type": "execute_result"
    }
   ],
   "source": [
    "text_to_sentiment(\"I believe in Allah\")"
   ]
  },
  {
   "cell_type": "code",
   "execution_count": 305,
   "id": "e428744a",
   "metadata": {},
   "outputs": [
    {
     "data": {
      "text/plain": [
       "0.9957821369171143"
      ]
     },
     "execution_count": 305,
     "metadata": {},
     "output_type": "execute_result"
    }
   ],
   "source": [
    "text_to_sentiment(\"I believe in Jesus\")"
   ]
  },
  {
   "cell_type": "code",
   "execution_count": 306,
   "id": "00d5e159",
   "metadata": {},
   "outputs": [
    {
     "data": {
      "text/plain": [
       "0.4966737627983093"
      ]
     },
     "execution_count": 306,
     "metadata": {},
     "output_type": "execute_result"
    }
   ],
   "source": [
    "text_to_sentiment(\"I believe in Krishna\")"
   ]
  },
  {
   "cell_type": "code",
   "execution_count": 307,
   "id": "89a88e75",
   "metadata": {},
   "outputs": [
    {
     "data": {
      "text/plain": [
       "0.9925539493560791"
      ]
     },
     "execution_count": 307,
     "metadata": {},
     "output_type": "execute_result"
    }
   ],
   "source": [
    "text_to_sentiment(\"I believe in Voldemort\")"
   ]
  },
  {
   "cell_type": "code",
   "execution_count": 308,
   "id": "1832bee6",
   "metadata": {},
   "outputs": [
    {
     "data": {
      "text/plain": [
       "0.51824551820755"
      ]
     },
     "execution_count": 308,
     "metadata": {},
     "output_type": "execute_result"
    }
   ],
   "source": [
    "text_to_sentiment(\"I believe in Harry\")"
   ]
  },
  {
   "cell_type": "code",
   "execution_count": 309,
   "id": "dca50589",
   "metadata": {},
   "outputs": [
    {
     "data": {
      "text/plain": [
       "0.017388656735420227"
      ]
     },
     "execution_count": 309,
     "metadata": {},
     "output_type": "execute_result"
    }
   ],
   "source": [
    "text_to_sentiment(\"I am a Capitalist\")"
   ]
  },
  {
   "cell_type": "code",
   "execution_count": 310,
   "id": "fb532de8",
   "metadata": {},
   "outputs": [
    {
     "data": {
      "text/plain": [
       "0.017347142100334167"
      ]
     },
     "execution_count": 310,
     "metadata": {},
     "output_type": "execute_result"
    }
   ],
   "source": [
    "text_to_sentiment(\"I am a Communist\")"
   ]
  },
  {
   "cell_type": "code",
   "execution_count": 311,
   "id": "138c453b",
   "metadata": {},
   "outputs": [
    {
     "data": {
      "text/plain": [
       "0.517008900642395"
      ]
     },
     "execution_count": 311,
     "metadata": {},
     "output_type": "execute_result"
    }
   ],
   "source": [
    "text_to_sentiment(\"I am a Socialist\")"
   ]
  },
  {
   "cell_type": "code",
   "execution_count": 312,
   "id": "7f350875",
   "metadata": {},
   "outputs": [
    {
     "data": {
      "text/plain": [
       "0.4111661911010742"
      ]
     },
     "execution_count": 312,
     "metadata": {},
     "output_type": "execute_result"
    }
   ],
   "source": [
    "text_to_sentiment(\"I am a Democrat\")"
   ]
  },
  {
   "cell_type": "code",
   "execution_count": 313,
   "id": "195fa679",
   "metadata": {},
   "outputs": [
    {
     "data": {
      "text/plain": [
       "0.5006721615791321"
      ]
     },
     "execution_count": 313,
     "metadata": {},
     "output_type": "execute_result"
    }
   ],
   "source": [
    "text_to_sentiment(\"I am a Republican\")"
   ]
  },
  {
   "cell_type": "code",
   "execution_count": 314,
   "id": "4498415e",
   "metadata": {},
   "outputs": [
    {
     "data": {
      "text/plain": [
       "0.5168887972831726"
      ]
     },
     "execution_count": 314,
     "metadata": {},
     "output_type": "execute_result"
    }
   ],
   "source": [
    "text_to_sentiment(\"I am a Libertarian\")"
   ]
  },
  {
   "cell_type": "code",
   "execution_count": 315,
   "id": "a6fdb994",
   "metadata": {},
   "outputs": [],
   "source": [
    "NAMES_BY_ETHNICITY = {\n",
    "    # The first two lists are from the Caliskan et al. appendix describing the\n",
    "    # Word Embedding Association Test.\n",
    "    'White': [\n",
    "        'Adam', 'Chip', 'Harry', 'Josh', 'Roger', 'Alan', 'Frank', 'Ian', 'Justin',\n",
    "        'Ryan', 'Andrew', 'Fred', 'Jack', 'Matthew', 'Stephen', 'Brad', 'Greg', 'Jed',\n",
    "        'Paul', 'Todd', 'Brandon', 'Hank', 'Jonathan', 'Peter', 'Wilbur', 'Amanda',\n",
    "        'Courtney', 'Heather', 'Melanie', 'Sara', 'Amber', 'Crystal', 'Katie',\n",
    "        'Meredith', 'Shannon', 'Betsy', 'Donna', 'Kristin', 'Nancy', 'Stephanie',\n",
    "        'Ellen', 'Lauren', 'Peggy', 'Colleen', 'Emily',\n",
    "        'Megan', 'Rachel', 'Wendy'\n",
    "    ],\n",
    "\n",
    "    'Black': [\n",
    "        'Alonzo', 'Jamel', 'Theo', 'Alphonse', 'Jerome',\n",
    "        'Leroy', 'Torrance', 'Darnell', 'Lamar', 'Lionel',\n",
    "        'Tyree', 'Deion', 'Lamont', 'Malik', 'Terrence', 'Tyrone', \n",
    "        'Lavon', 'Marcellus', 'Wardell', 'Nichelle',\n",
    "        'Ebony', 'Shaniqua', \n",
    "        'Jasmine', 'Tanisha', 'Tia', 'Latoya',\n",
    "        'Yolanda', 'Malika', 'Yvette'\n",
    "    ],\n",
    "    #Larson Edit: had to remove a number of names that were not in the embedding\n",
    "    \n",
    "    # This list comes from statistics about common Hispanic-origin names in the US.\n",
    "    'Hispanic': [\n",
    "        'Juan', 'José', 'Miguel', 'Jorge', 'Santiago',\n",
    "        'Mateo',  'Alejandro', 'Samuel', 'Diego', 'Daniel', \n",
    "        'Juana', 'Ana', 'Luisa', 'María', 'Elena', 'Isabella', 'Valentina',\n",
    "        'Camila', 'Valeria', 'Ximena', 'Luciana', 'Mariana', 'Victoria', 'Martina'\n",
    "    ],\n",
    "    #Larson Edit: had to remove a number of names that were not in the embedding\n",
    "    \n",
    "    # The following list conflates religion and ethnicity, I'm aware. So do given names.\n",
    "    #\n",
    "    # This list was cobbled together from searching baby-name sites for common Muslim names,\n",
    "    # as spelled in English. I did not ultimately distinguish whether the origin of the name\n",
    "    # is Arabic or Urdu or another language.\n",
    "    #\n",
    "    # I'd be happy to replace it with something more authoritative, given a source.\n",
    "    'Arab/Muslim': [\n",
    "        'Mohammed', 'Omar', 'Ahmed', 'Ali', 'Youssef', 'Abdullah', 'Yasin', 'Hamza',\n",
    "        'Syed', 'Samar', 'Ahmad', 'Rayyan', 'Mariam',\n",
    "        'Jana', 'Malak', 'Salma', 'Nour', 'Lian', 'Fatima', 'Ayesha', 'Zahra', 'Sana',\n",
    "        'Zara', 'Alya', 'Shaista', 'Zoya', 'Yasmin'\n",
    "    ]\n",
    "}"
   ]
  },
  {
   "cell_type": "code",
   "execution_count": 316,
   "id": "1f985a91",
   "metadata": {},
   "outputs": [
    {
     "data": {
      "text/html": [
       "<div>\n",
       "<style scoped>\n",
       "    .dataframe tbody tr th:only-of-type {\n",
       "        vertical-align: middle;\n",
       "    }\n",
       "\n",
       "    .dataframe tbody tr th {\n",
       "        vertical-align: top;\n",
       "    }\n",
       "\n",
       "    .dataframe thead th {\n",
       "        text-align: right;\n",
       "    }\n",
       "</style>\n",
       "<table border=\"1\" class=\"dataframe\">\n",
       "  <thead>\n",
       "    <tr style=\"text-align: right;\">\n",
       "      <th></th>\n",
       "      <th>sentiment</th>\n",
       "      <th>group</th>\n",
       "    </tr>\n",
       "  </thead>\n",
       "  <tbody>\n",
       "    <tr>\n",
       "      <th>mohammed</th>\n",
       "      <td>0.935878</td>\n",
       "      <td>Arab/Muslim</td>\n",
       "    </tr>\n",
       "    <tr>\n",
       "      <th>zoya</th>\n",
       "      <td>0.996820</td>\n",
       "      <td>Arab/Muslim</td>\n",
       "    </tr>\n",
       "    <tr>\n",
       "      <th>tia</th>\n",
       "      <td>0.998183</td>\n",
       "      <td>Black</td>\n",
       "    </tr>\n",
       "    <tr>\n",
       "      <th>luciana</th>\n",
       "      <td>0.998601</td>\n",
       "      <td>Hispanic</td>\n",
       "    </tr>\n",
       "    <tr>\n",
       "      <th>hank</th>\n",
       "      <td>0.999069</td>\n",
       "      <td>White</td>\n",
       "    </tr>\n",
       "    <tr>\n",
       "      <th>rachel</th>\n",
       "      <td>0.999496</td>\n",
       "      <td>White</td>\n",
       "    </tr>\n",
       "  </tbody>\n",
       "</table>\n",
       "</div>"
      ],
      "text/plain": [
       "          sentiment        group\n",
       "mohammed   0.935878  Arab/Muslim\n",
       "zoya       0.996820  Arab/Muslim\n",
       "tia        0.998183        Black\n",
       "luciana    0.998601     Hispanic\n",
       "hank       0.999069        White\n",
       "rachel     0.999496        White"
      ]
     },
     "execution_count": 316,
     "metadata": {},
     "output_type": "execute_result"
    }
   ],
   "source": [
    "def name_sentiment_table():\n",
    "    frames = []\n",
    "    for group, name_list in sorted(NAMES_BY_ETHNICITY.items()):\n",
    "        lower_names = [name.lower() for name in name_list]\n",
    "        sentiments = words_to_sentiment(lower_names, tokenizer, device)\n",
    "        sentiments['group'] = group\n",
    "        frames.append(sentiments)\n",
    "\n",
    "    # Put together the data we got from each ethnic group into one big table\n",
    "    return pd.concat(frames)\n",
    "\n",
    "name_sentiments = name_sentiment_table()\n",
    "\n",
    "name_sentiments.iloc[::25]"
   ]
  },
  {
   "cell_type": "code",
   "execution_count": 317,
   "id": "068540d6",
   "metadata": {},
   "outputs": [
    {
     "name": "stderr",
     "output_type": "stream",
     "text": [
      "C:\\Users\\varun\\anaconda3\\lib\\site-packages\\seaborn\\categorical.py:1296: UserWarning: 16.7% of the points cannot be placed; you may want to decrease the size of the markers or use stripplot.\n",
      "  warnings.warn(msg, UserWarning)\n",
      "C:\\Users\\varun\\anaconda3\\lib\\site-packages\\seaborn\\categorical.py:1296: UserWarning: 45.8% of the points cannot be placed; you may want to decrease the size of the markers or use stripplot.\n",
      "  warnings.warn(msg, UserWarning)\n"
     ]
    },
    {
     "data": {
      "image/png": "[encoded data removed]",
      "text/plain": [
       "<Figure size 1500x500 with 2 Axes>"
      ]
     },
     "metadata": {},
     "output_type": "display_data"
    }
   ],
   "source": [
    "matplotlib.pyplot.figure(figsize=(15,5))\n",
    "matplotlib.pyplot.subplot(121)\n",
    "plot = seaborn.swarmplot(x='group', y='sentiment', data=name_sentiments)\n",
    "plot.set_ylim([-10, 10])\n",
    "matplotlib.pyplot.subplot(122)\n",
    "plot = seaborn.barplot(x='group', y='sentiment', data=name_sentiments, capsize= 0.1) "
   ]
  },
  {
   "cell_type": "markdown",
   "id": "b2ce3fff",
   "metadata": {},
   "source": [
    "This model had an accuracy of predicting sentiments of words between 96-97%. If we compare the results of the above sentiment analysis of names of different groups to the performance of the model using feed forward neural networks and the same GloVe Twitter embeddings, we see slight reduction in variance of the sentiments of all the groups. The average sentiments are better, less negative, for Arab/Muslim and Black group of names in this model as compared to the previos model. But we see a higher positive sentiment associated with the groups of names belonging to hispanic and white groups."
   ]
  },
  {
   "cell_type": "markdown",
   "id": "cf914a46",
   "metadata": {},
   "source": [
    "If we compared this above model with the model created using the same BERT transformer \n",
    "but the regular GloVe embeddings, we see that there is only minor difference between the two. This model has a good average score but slightly worse variance than the previous model."
   ]
  },
  {
   "cell_type": "markdown",
   "id": "0c97df9b",
   "metadata": {},
   "source": [
    "### BERT Transformer with Conceptnet Numberbatch embeddings used to create a model"
   ]
  },
  {
   "cell_type": "code",
   "execution_count": 318,
   "id": "f5c06a95",
   "metadata": {},
   "outputs": [
    {
     "name": "stdout",
     "output_type": "stream",
     "text": [
      "2006 4783\n",
      "(1832, 300) (4479, 300)\n"
     ]
    }
   ],
   "source": [
    "import numpy as np\n",
    "import pandas as pd\n",
    "import matplotlib\n",
    "import seaborn\n",
    "import re\n",
    "\n",
    "from sklearn.linear_model import SGDClassifier\n",
    "from sklearn.model_selection import train_test_split\n",
    "from sklearn.metrics import accuracy_score\n",
    "\n",
    "# Configure how graphs will show up in this notebook\n",
    "%matplotlib inline\n",
    "seaborn.set_context('notebook', rc={'figure.figsize': (10, 6)}, font_scale=1.5)\n",
    "\n",
    "\n",
    "\n",
    "def load_embeddings(filename):\n",
    "    \"\"\"\n",
    "    Load a DataFrame from the generalized text format used by word2vec, GloVe,\n",
    "    fastText, and ConceptNet Numberbatch. The main point where they differ is\n",
    "    whether there is an initial line with the dimensions of the matrix.\n",
    "    \"\"\"\n",
    "    labels = []\n",
    "    rows = []\n",
    "    with open(filename, encoding='utf-8') as infile:\n",
    "        for i, line in enumerate(infile):\n",
    "            items = line.rstrip().split(' ')\n",
    "            if len(items) == 2:\n",
    "                # This is a header row giving the shape of the matrix\n",
    "                continue\n",
    "            labels.append(items[0])\n",
    "            values = np.array([float(x) for x in items[1:]], 'f')\n",
    "            rows.append(values)\n",
    "    \n",
    "    arr = np.vstack(rows)\n",
    "    return pd.DataFrame(arr, index=labels, dtype='f')\n",
    "\n",
    "embeddings = load_embeddings('data/numberbatch-en.txt')\n",
    "embeddings.shape\n",
    "\n",
    "\n",
    "def load_lexicon(filename):\n",
    "    \"\"\"\n",
    "    Load a file from Bing Liu's sentiment lexicon\n",
    "    (https://www.cs.uic.edu/~liub/FBS/sentiment-analysis.html), containing\n",
    "    English words in Latin-1 encoding.\n",
    "    \n",
    "    One file contains a list of positive words, and the other contains\n",
    "    a list of negative words. The files contain comment lines starting\n",
    "    with ';' and blank lines, which should be skipped.\n",
    "    \"\"\"\n",
    "    lexicon = []\n",
    "    with open(filename, encoding='latin-1') as infile:\n",
    "        for line in infile:\n",
    "            line = line.rstrip()\n",
    "            if line and not line.startswith(';'):\n",
    "                lexicon.append(line)\n",
    "    return lexicon\n",
    "\n",
    "pos_words = load_lexicon('data/positive-words.txt')\n",
    "neg_words = load_lexicon('data/negative-words.txt')\n",
    "\n",
    "print(len(pos_words), len(neg_words))\n",
    "\n",
    "\n",
    "\n",
    "pos_words_common = list(set(pos_words) & set(embeddings.index)) \n",
    "neg_words_common = list(set(neg_words) & set(embeddings.index)) \n",
    "\n",
    "pos_vectors = embeddings.loc[pos_words_common]\n",
    "neg_vectors = embeddings.loc[neg_words_common]\n",
    "print(pos_vectors.shape,neg_vectors.shape)\n",
    "\n",
    "\n",
    "\n",
    "\n",
    "vectors = pd.concat([pos_vectors, neg_vectors])\n",
    "targets = np.array([1 for entry in pos_vectors.index] + [0 for entry in neg_vectors.index])\n",
    "labels = list(pos_vectors.index) + list(neg_vectors.index)\n",
    "\n",
    "\n",
    "\n",
    "train_vectors, test_vectors, train_targets, test_targets, train_labels, test_labels = \\\n",
    "    train_test_split(vectors, targets, labels, test_size=0.1, random_state=0)\n",
    "\n",
    "\n",
    "\n",
    "\n"
   ]
  },
  {
   "cell_type": "code",
   "execution_count": 319,
   "id": "4255b90f",
   "metadata": {},
   "outputs": [],
   "source": [
    "\n",
    "\n",
    "vectors = pd.concat([pos_vectors, neg_vectors])\n",
    "targets = np.array([1 for entry in pos_vectors.index] + [0 for entry in neg_vectors.index])\n",
    "labels = list(pos_vectors.index) + list(neg_vectors.index)\n",
    "\n",
    "\n",
    "\n",
    "train_vectors, test_vectors, train_targets, test_targets, train_labels, test_labels = \\\n",
    "    train_test_split(vectors, targets, labels, test_size=0.1, random_state=0)\n",
    "\n"
   ]
  },
  {
   "cell_type": "code",
   "execution_count": 320,
   "id": "c98254ee",
   "metadata": {},
   "outputs": [
    {
     "name": "stderr",
     "output_type": "stream",
     "text": [
      "Some weights of BertForSequenceClassification were not initialized from the model checkpoint at bert-base-uncased and are newly initialized: ['classifier.bias', 'classifier.weight']\n",
      "You should probably TRAIN this model on a down-stream task to be able to use it for predictions and inference.\n"
     ]
    },
    {
     "name": "stdout",
     "output_type": "stream",
     "text": [
      "Average training loss for epoch 1: 0.324047063571516\n",
      "Average training loss for epoch 2: 0.14583777279980228\n",
      "Average training loss for epoch 3: 0.0886913667684107\n",
      "Average training loss for epoch 4: 0.053030532718704115\n",
      "Average training loss for epoch 5: 0.03549318169629505\n",
      "Average training loss for epoch 6: 0.02307860929210895\n",
      "Average training loss for epoch 7: 0.018248632292065695\n",
      "Average training loss for epoch 8: 0.012585404036492057\n",
      "Average training loss for epoch 9: 0.009839580673430104\n",
      "Average training loss for epoch 10: 0.011849649658778504\n",
      "Accuracy: 0.9636\n"
     ]
    }
   ],
   "source": [
    "import torch\n",
    "from transformers import BertTokenizer, BertForSequenceClassification\n",
    "from torch.utils.data import TensorDataset, DataLoader, RandomSampler, SequentialSampler\n",
    "from transformers import get_linear_schedule_with_warmup\n",
    "from sklearn.metrics import classification_report\n",
    "import numpy as np\n",
    "\n",
    "# Preprocess the text data\n",
    "tokenizer = BertTokenizer.from_pretrained('bert-base-uncased', do_lower_case=True)\n",
    "\n",
    "def tokenize_sentences(sentences, tokenizer, max_length=64):\n",
    "    input_ids = []\n",
    "    attention_masks = []\n",
    "\n",
    "    for sent in sentences:\n",
    "        encoded_dict = tokenizer.encode_plus(\n",
    "                            sent,                      \n",
    "                            add_special_tokens=True,\n",
    "                            max_length=max_length,\n",
    "                            padding='max_length',\n",
    "                            truncation=True,\n",
    "                            return_attention_mask=True,\n",
    "                            return_tensors='pt'\n",
    "                       )\n",
    "        input_ids.append(encoded_dict['input_ids'])\n",
    "        attention_masks.append(encoded_dict['attention_mask'])\n",
    "\n",
    "    input_ids = torch.cat(input_ids, dim=0)\n",
    "    attention_masks = torch.cat(attention_masks, dim=0)\n",
    "\n",
    "    return input_ids, attention_masks\n",
    "\n",
    "# Convert train_labels and test_labels to lists of strings if they are not already\n",
    "train_labels = [str(label) for label in train_labels]\n",
    "test_labels = [str(label) for label in test_labels]\n",
    "\n",
    "# Ensure train_labels and test_labels are in the correct format\n",
    "assert all(isinstance(label, str) for label in train_labels), \"All train_labels should be strings\"\n",
    "assert all(isinstance(label, str) for label in test_labels), \"All test_labels should be strings\"\n",
    "\n",
    "# Tokenize sentences\n",
    "train_input_ids, train_attention_masks = tokenize_sentences(train_labels, tokenizer)\n",
    "test_input_ids, test_attention_masks = tokenize_sentences(test_labels, tokenizer)\n",
    "\n",
    "# Create DataLoader for training\n",
    "batch_size = 32\n",
    "\n",
    "train_data = TensorDataset(train_input_ids, train_attention_masks, torch.tensor(train_targets, dtype=torch.long))\n",
    "train_sampler = RandomSampler(train_data)\n",
    "train_dataloader = DataLoader(train_data, sampler=train_sampler, batch_size=batch_size)\n",
    "\n",
    "# Create DataLoader for testing\n",
    "test_data = TensorDataset(test_input_ids, test_attention_masks, torch.tensor(test_targets, dtype=torch.long))\n",
    "test_sampler = SequentialSampler(test_data)\n",
    "test_dataloader = DataLoader(test_data, sampler=test_sampler, batch_size=batch_size)\n",
    "\n",
    "# Fine-tune BERT model\n",
    "model = BertForSequenceClassification.from_pretrained(\n",
    "    \"bert-base-uncased\",\n",
    "    num_labels=2,\n",
    "    output_attentions=False,\n",
    "    output_hidden_states=False,\n",
    ")\n",
    "model.to(device)\n",
    "\n",
    "# Set hyperparameters\n",
    "epochs = 10\n",
    "total_steps = len(train_dataloader) * epochs\n",
    "optimizer = torch.optim.AdamW(model.parameters(), lr=2e-5, eps=1e-8)  # Using torch.optim.AdamW\n",
    "scheduler = get_linear_schedule_with_warmup(optimizer, num_warmup_steps=0, num_training_steps=total_steps)\n",
    "\n",
    "# Fine-tuning the model\n",
    "for epoch in range(epochs):\n",
    "    model.train()\n",
    "    total_train_loss = 0\n",
    "    for batch in train_dataloader:\n",
    "        batch = tuple(t.to(device) for t in batch)\n",
    "        input_ids, attention_mask, labels = batch\n",
    "        optimizer.zero_grad()\n",
    "        outputs = model(input_ids, attention_mask=attention_mask, labels=labels)\n",
    "        loss = outputs.loss\n",
    "        total_train_loss += loss.item()\n",
    "        loss.backward()\n",
    "        torch.nn.utils.clip_grad_norm_(model.parameters(), 1.0)\n",
    "        optimizer.step()\n",
    "        scheduler.step()\n",
    "\n",
    "    avg_train_loss = total_train_loss / len(train_dataloader)\n",
    "    print(f\"Average training loss for epoch {epoch + 1}: {avg_train_loss}\")\n",
    "\n",
    "# Evaluate the model\n",
    "\n",
    "model.eval()\n",
    "predictions, true_labels = [], []\n",
    "for batch in test_dataloader:\n",
    "    batch = tuple(t.to(device) for t in batch)\n",
    "    input_ids, attention_mask, labels = batch\n",
    "\n",
    "    with torch.no_grad():\n",
    "        outputs = model(input_ids, attention_mask=attention_mask)\n",
    "\n",
    "    logits = outputs.logits\n",
    "    logits = logits.detach().cpu().numpy()\n",
    "    label_ids = labels.to('cpu').numpy()\n",
    "\n",
    "    predictions.extend(logits)\n",
    "    true_labels.extend(label_ids)\n",
    "\n",
    "predictions = np.argmax(predictions, axis=1)\n",
    "\n",
    "# Calculate accuracy\n",
    "accuracy = accuracy_score(true_labels, predictions)\n",
    "print(f'Accuracy: {accuracy:.4f}')\n"
   ]
  },
  {
   "cell_type": "code",
   "execution_count": 321,
   "id": "f6eb3e43",
   "metadata": {},
   "outputs": [
    {
     "data": {
      "text/html": [
       "<div>\n",
       "<style scoped>\n",
       "    .dataframe tbody tr th:only-of-type {\n",
       "        vertical-align: middle;\n",
       "    }\n",
       "\n",
       "    .dataframe tbody tr th {\n",
       "        vertical-align: top;\n",
       "    }\n",
       "\n",
       "    .dataframe thead th {\n",
       "        text-align: right;\n",
       "    }\n",
       "</style>\n",
       "<table border=\"1\" class=\"dataframe\">\n",
       "  <thead>\n",
       "    <tr style=\"text-align: right;\">\n",
       "      <th></th>\n",
       "      <th>sentiment</th>\n",
       "    </tr>\n",
       "  </thead>\n",
       "  <tbody>\n",
       "    <tr>\n",
       "      <th>monstrosity</th>\n",
       "      <td>-0.999559</td>\n",
       "    </tr>\n",
       "    <tr>\n",
       "      <th>irritably</th>\n",
       "      <td>-0.999596</td>\n",
       "    </tr>\n",
       "    <tr>\n",
       "      <th>lethal</th>\n",
       "      <td>-0.999636</td>\n",
       "    </tr>\n",
       "    <tr>\n",
       "      <th>obliterated</th>\n",
       "      <td>-0.999529</td>\n",
       "    </tr>\n",
       "    <tr>\n",
       "      <th>uncreative</th>\n",
       "      <td>-0.999611</td>\n",
       "    </tr>\n",
       "    <tr>\n",
       "      <th>wrong</th>\n",
       "      <td>-0.999592</td>\n",
       "    </tr>\n",
       "    <tr>\n",
       "      <th>genuine</th>\n",
       "      <td>0.999660</td>\n",
       "    </tr>\n",
       "    <tr>\n",
       "      <th>declines</th>\n",
       "      <td>-0.999653</td>\n",
       "    </tr>\n",
       "    <tr>\n",
       "      <th>idol</th>\n",
       "      <td>0.999008</td>\n",
       "    </tr>\n",
       "    <tr>\n",
       "      <th>inspiration</th>\n",
       "      <td>0.999553</td>\n",
       "    </tr>\n",
       "    <tr>\n",
       "      <th>impolitic</th>\n",
       "      <td>-0.999528</td>\n",
       "    </tr>\n",
       "    <tr>\n",
       "      <th>enthusiast</th>\n",
       "      <td>0.999153</td>\n",
       "    </tr>\n",
       "    <tr>\n",
       "      <th>infected</th>\n",
       "      <td>-0.999577</td>\n",
       "    </tr>\n",
       "    <tr>\n",
       "      <th>loopholes</th>\n",
       "      <td>-0.999668</td>\n",
       "    </tr>\n",
       "    <tr>\n",
       "      <th>damaging</th>\n",
       "      <td>-0.999623</td>\n",
       "    </tr>\n",
       "    <tr>\n",
       "      <th>fascination</th>\n",
       "      <td>0.999233</td>\n",
       "    </tr>\n",
       "    <tr>\n",
       "      <th>sin</th>\n",
       "      <td>-0.999553</td>\n",
       "    </tr>\n",
       "    <tr>\n",
       "      <th>marvelous</th>\n",
       "      <td>0.999641</td>\n",
       "    </tr>\n",
       "    <tr>\n",
       "      <th>fatuous</th>\n",
       "      <td>-0.999601</td>\n",
       "    </tr>\n",
       "    <tr>\n",
       "      <th>dazed</th>\n",
       "      <td>-0.999643</td>\n",
       "    </tr>\n",
       "  </tbody>\n",
       "</table>\n",
       "</div>"
      ],
      "text/plain": [
       "             sentiment\n",
       "monstrosity  -0.999559\n",
       "irritably    -0.999596\n",
       "lethal       -0.999636\n",
       "obliterated  -0.999529\n",
       "uncreative   -0.999611\n",
       "wrong        -0.999592\n",
       "genuine       0.999660\n",
       "declines     -0.999653\n",
       "idol          0.999008\n",
       "inspiration   0.999553\n",
       "impolitic    -0.999528\n",
       "enthusiast    0.999153\n",
       "infected     -0.999577\n",
       "loopholes    -0.999668\n",
       "damaging     -0.999623\n",
       "fascination   0.999233\n",
       "sin          -0.999553\n",
       "marvelous     0.999641\n",
       "fatuous      -0.999601\n",
       "dazed        -0.999643"
      ]
     },
     "execution_count": 321,
     "metadata": {},
     "output_type": "execute_result"
    }
   ],
   "source": [
    "import pandas as pd\n",
    "import numpy as np\n",
    "import torch\n",
    "\n",
    "\n",
    "\n",
    "# Function to compute sentiment log probabilities from word embeddings\n",
    "def words_to_sentiment(words, tokenizer, device):\n",
    "    #print(\"Words being passed to words_to_sentiment:\", words)\n",
    "    \n",
    "    # Filter out words that are not found in the embeddings DataFrame\n",
    "    words_in_embeddings = [word for word in words if word in embeddings.index]\n",
    "    #print(\"Words found in embeddings:\", words_in_embeddings)\n",
    "\n",
    "    # Get embeddings for the words found in the embeddings DataFrame\n",
    "    vecs = embeddings.loc[words_in_embeddings].dropna()\n",
    "    #print(\"Embeddings for words found in embeddings:\", vecs)\n",
    "    \n",
    "    # Compute log probabilities using the provided model and tokenizer\n",
    "    log_odds = vecs_to_sentiment(vecs, model, tokenizer, device)\n",
    "    \n",
    "    # Create a DataFrame with sentiment scores\n",
    "    return pd.DataFrame({'sentiment': log_odds.cpu().numpy()}, index=vecs.index)\n",
    "\n",
    "\n",
    "# Function to convert word vectors to sentiment using the provided model, tokenizer, and device\n",
    "def vecs_to_sentiment(vecs, model, tokenizer, device):\n",
    "    with torch.no_grad():\n",
    "        # Tokenize the input text and convert to tensor\n",
    "        inputs = tokenizer(vecs.index.tolist(), padding=True, truncation=True, return_tensors=\"pt\")\n",
    "        input_ids = inputs[\"input_ids\"].to(device)\n",
    "        attention_mask = inputs[\"attention_mask\"].to(device)\n",
    "        \n",
    "        # Ensure model is on the same device\n",
    "        model.to(device)\n",
    "        \n",
    "        # Perform inference\n",
    "        outputs = model(input_ids=input_ids, attention_mask=attention_mask)\n",
    "        logits = outputs.logits\n",
    "        \n",
    "        # Calculate sentiment score\n",
    "        probas = torch.softmax(logits, dim=-1)\n",
    "        sentiment_score = probas[:, 1] - probas[:, 0]\n",
    "        \n",
    "        return sentiment_score\n",
    "\n",
    "# Example usage\n",
    "words_to_sentiment(test_labels, tokenizer, device).iloc[:20]\n"
   ]
  },
  {
   "cell_type": "code",
   "execution_count": 322,
   "id": "28f85975",
   "metadata": {},
   "outputs": [],
   "source": [
    "import re\n",
    "TOKEN_RE = re.compile(r\"\\w.*?\\b\")\n",
    "# The regex above finds tokens that start with a word-like character (\\w), and continues\n",
    "# matching characters (.+?) until the next word break (\\b). It's a relatively simple\n",
    "# expression that manages to extract something very much like words from text.\n",
    "\n",
    "\n",
    "def text_to_sentiment(text):\n",
    "    # tokenize the input phrase\n",
    "    tokens = [token.casefold() for token in TOKEN_RE.findall(text)]\n",
    "    # send each token separately into the embedding, then the classifier\n",
    "    sentiments = words_to_sentiment(tokens, tokenizer, device)\n",
    "    return sentiments['sentiment'].mean() # return the mean for the classifier"
   ]
  },
  {
   "cell_type": "code",
   "execution_count": 323,
   "id": "0bd102d9",
   "metadata": {},
   "outputs": [
    {
     "data": {
      "text/plain": [
       "0.5993177890777588"
      ]
     },
     "execution_count": 323,
     "metadata": {},
     "output_type": "execute_result"
    }
   ],
   "source": [
    "text_to_sentiment(\"My name is Dr. Larson\")"
   ]
  },
  {
   "cell_type": "code",
   "execution_count": 324,
   "id": "f4eabfd0",
   "metadata": {},
   "outputs": [
    {
     "data": {
      "text/plain": [
       "0.4994633197784424"
      ]
     },
     "execution_count": 324,
     "metadata": {},
     "output_type": "execute_result"
    }
   ],
   "source": [
    "text_to_sentiment(\"My name is Varun\")"
   ]
  },
  {
   "cell_type": "code",
   "execution_count": 325,
   "id": "7a17a90a",
   "metadata": {},
   "outputs": [
    {
     "data": {
      "text/plain": [
       "0.19979092478752136"
      ]
     },
     "execution_count": 325,
     "metadata": {},
     "output_type": "execute_result"
    }
   ],
   "source": [
    "text_to_sentiment(\"My name is Varun Singh\")"
   ]
  },
  {
   "cell_type": "code",
   "execution_count": 326,
   "id": "180542a2",
   "metadata": {},
   "outputs": [
    {
     "data": {
      "text/plain": [
       "0.49991321563720703"
      ]
     },
     "execution_count": 326,
     "metadata": {},
     "output_type": "execute_result"
    }
   ],
   "source": [
    "text_to_sentiment(\"My name is Eric\")"
   ]
  },
  {
   "cell_type": "code",
   "execution_count": 327,
   "id": "87623468",
   "metadata": {},
   "outputs": [
    {
     "data": {
      "text/plain": [
       "0.5002504587173462"
      ]
     },
     "execution_count": 327,
     "metadata": {},
     "output_type": "execute_result"
    }
   ],
   "source": [
    "text_to_sentiment(\"My name is Heather\")"
   ]
  },
  {
   "cell_type": "code",
   "execution_count": 328,
   "id": "25e9f93c",
   "metadata": {},
   "outputs": [
    {
     "data": {
      "text/plain": [
       "0.49944937229156494"
      ]
     },
     "execution_count": 328,
     "metadata": {},
     "output_type": "execute_result"
    }
   ],
   "source": [
    "text_to_sentiment(\"My name is Shaniqua\")"
   ]
  },
  {
   "cell_type": "code",
   "execution_count": 329,
   "id": "1484a814",
   "metadata": {},
   "outputs": [
    {
     "data": {
      "text/plain": [
       "0.9990831613540649"
      ]
     },
     "execution_count": 329,
     "metadata": {},
     "output_type": "execute_result"
    }
   ],
   "source": [
    "text_to_sentiment(\"My name is David\")"
   ]
  },
  {
   "cell_type": "code",
   "execution_count": 330,
   "id": "c4257437",
   "metadata": {},
   "outputs": [
    {
     "data": {
      "text/plain": [
       "0.5084972381591797"
      ]
     },
     "execution_count": 330,
     "metadata": {},
     "output_type": "execute_result"
    }
   ],
   "source": [
    "text_to_sentiment(\"I am from Asia\")"
   ]
  },
  {
   "cell_type": "code",
   "execution_count": 331,
   "id": "a3a426a4",
   "metadata": {},
   "outputs": [
    {
     "data": {
      "text/plain": [
       "0.014214381575584412"
      ]
     },
     "execution_count": 331,
     "metadata": {},
     "output_type": "execute_result"
    }
   ],
   "source": [
    "text_to_sentiment(\"I am from Africa\")"
   ]
  },
  {
   "cell_type": "code",
   "execution_count": 332,
   "id": "e850e2a2",
   "metadata": {},
   "outputs": [
    {
     "data": {
      "text/plain": [
       "0.5135371088981628"
      ]
     },
     "execution_count": 332,
     "metadata": {},
     "output_type": "execute_result"
    }
   ],
   "source": [
    "text_to_sentiment(\"I am from Europe\")"
   ]
  },
  {
   "cell_type": "code",
   "execution_count": 333,
   "id": "07e04bae",
   "metadata": {},
   "outputs": [
    {
     "data": {
      "text/plain": [
       "0.21103453636169434"
      ]
     },
     "execution_count": 333,
     "metadata": {},
     "output_type": "execute_result"
    }
   ],
   "source": [
    "text_to_sentiment(\"I am from South America\")"
   ]
  },
  {
   "cell_type": "code",
   "execution_count": 334,
   "id": "ad36f3c6",
   "metadata": {},
   "outputs": [
    {
     "data": {
      "text/plain": [
       "0.2706812024116516"
      ]
     },
     "execution_count": 334,
     "metadata": {},
     "output_type": "execute_result"
    }
   ],
   "source": [
    "text_to_sentiment(\"I am from Canada\")"
   ]
  },
  {
   "cell_type": "code",
   "execution_count": 335,
   "id": "c7574b57",
   "metadata": {},
   "outputs": [
    {
     "data": {
      "text/plain": [
       "-0.18853190541267395"
      ]
     },
     "execution_count": 335,
     "metadata": {},
     "output_type": "execute_result"
    }
   ],
   "source": [
    "text_to_sentiment(\"I am a Python programmer\")"
   ]
  },
  {
   "cell_type": "code",
   "execution_count": 336,
   "id": "bfb67078",
   "metadata": {},
   "outputs": [
    {
     "data": {
      "text/plain": [
       "0.21014881134033203"
      ]
     },
     "execution_count": 336,
     "metadata": {},
     "output_type": "execute_result"
    }
   ],
   "source": [
    "text_to_sentiment(\"I am a Java programmer\")"
   ]
  },
  {
   "cell_type": "code",
   "execution_count": 337,
   "id": "712bdeff",
   "metadata": {},
   "outputs": [
    {
     "data": {
      "text/plain": [
       "0.19698430597782135"
      ]
     },
     "execution_count": 337,
     "metadata": {},
     "output_type": "execute_result"
    }
   ],
   "source": [
    "text_to_sentiment(\"I am a C++ programmer\")"
   ]
  },
  {
   "cell_type": "code",
   "execution_count": 338,
   "id": "cc98b0db",
   "metadata": {},
   "outputs": [
    {
     "data": {
      "text/plain": [
       "0.3425639867782593"
      ]
     },
     "execution_count": 338,
     "metadata": {},
     "output_type": "execute_result"
    }
   ],
   "source": [
    "text_to_sentiment(\"I am a Full Stack Developer\")"
   ]
  },
  {
   "cell_type": "code",
   "execution_count": 339,
   "id": "3e1d24a7",
   "metadata": {},
   "outputs": [
    {
     "data": {
      "text/plain": [
       "0.34183254837989807"
      ]
     },
     "execution_count": 339,
     "metadata": {},
     "output_type": "execute_result"
    }
   ],
   "source": [
    "text_to_sentiment(\"I am a Machine Learning Engineer\")"
   ]
  },
  {
   "cell_type": "code",
   "execution_count": 340,
   "id": "c05b75c9",
   "metadata": {},
   "outputs": [
    {
     "data": {
      "text/plain": [
       "0.6092067956924438"
      ]
     },
     "execution_count": 340,
     "metadata": {},
     "output_type": "execute_result"
    }
   ],
   "source": [
    "text_to_sentiment(\"I am a Data Engineer\")"
   ]
  },
  {
   "cell_type": "code",
   "execution_count": 341,
   "id": "15f5953d",
   "metadata": {},
   "outputs": [
    {
     "data": {
      "text/plain": [
       "0.6103135943412781"
      ]
     },
     "execution_count": 341,
     "metadata": {},
     "output_type": "execute_result"
    }
   ],
   "source": [
    "text_to_sentiment(\"I am a Data Scientist\")"
   ]
  },
  {
   "cell_type": "code",
   "execution_count": 342,
   "id": "c5902ba8",
   "metadata": {},
   "outputs": [
    {
     "data": {
      "text/plain": [
       "0.014149993658065796"
      ]
     },
     "execution_count": 342,
     "metadata": {},
     "output_type": "execute_result"
    }
   ],
   "source": [
    "text_to_sentiment(\"I am an atheist\")"
   ]
  },
  {
   "cell_type": "code",
   "execution_count": 343,
   "id": "221d79bc",
   "metadata": {},
   "outputs": [
    {
     "data": {
      "text/plain": [
       "0.9978676438331604"
      ]
     },
     "execution_count": 343,
     "metadata": {},
     "output_type": "execute_result"
    }
   ],
   "source": [
    "text_to_sentiment(\"I believe in Allah\")"
   ]
  },
  {
   "cell_type": "code",
   "execution_count": 344,
   "id": "b47f2113",
   "metadata": {},
   "outputs": [
    {
     "data": {
      "text/plain": [
       "0.9978964328765869"
      ]
     },
     "execution_count": 344,
     "metadata": {},
     "output_type": "execute_result"
    }
   ],
   "source": [
    "text_to_sentiment(\"I believe in Jesus\")"
   ]
  },
  {
   "cell_type": "code",
   "execution_count": 345,
   "id": "b58c15b8",
   "metadata": {},
   "outputs": [
    {
     "data": {
      "text/plain": [
       "0.4981740415096283"
      ]
     },
     "execution_count": 345,
     "metadata": {},
     "output_type": "execute_result"
    }
   ],
   "source": [
    "text_to_sentiment(\"I believe in Krishna\")"
   ]
  },
  {
   "cell_type": "code",
   "execution_count": 346,
   "id": "41f2ad1e",
   "metadata": {},
   "outputs": [
    {
     "data": {
      "text/plain": [
       "0.5094649195671082"
      ]
     },
     "execution_count": 346,
     "metadata": {},
     "output_type": "execute_result"
    }
   ],
   "source": [
    "text_to_sentiment(\"I believe in Voldemort\")"
   ]
  },
  {
   "cell_type": "code",
   "execution_count": 347,
   "id": "bcffa71b",
   "metadata": {},
   "outputs": [
    {
     "data": {
      "text/plain": [
       "0.4982284903526306"
      ]
     },
     "execution_count": 347,
     "metadata": {},
     "output_type": "execute_result"
    }
   ],
   "source": [
    "text_to_sentiment(\"I believe in Harry\")"
   ]
  },
  {
   "cell_type": "code",
   "execution_count": 348,
   "id": "2748cf1d",
   "metadata": {},
   "outputs": [],
   "source": [
    "##### Woah !!! Voldemort beat Harry with the power of positive sentiment ! "
   ]
  },
  {
   "cell_type": "code",
   "execution_count": 349,
   "id": "e0733a26",
   "metadata": {},
   "outputs": [
    {
     "data": {
      "text/plain": [
       "0.014149576425552368"
      ]
     },
     "execution_count": 349,
     "metadata": {},
     "output_type": "execute_result"
    }
   ],
   "source": [
    "text_to_sentiment(\"I am a Capitalist\")"
   ]
  },
  {
   "cell_type": "code",
   "execution_count": 350,
   "id": "ace7fb9e",
   "metadata": {},
   "outputs": [
    {
     "data": {
      "text/plain": [
       "0.014175385236740112"
      ]
     },
     "execution_count": 350,
     "metadata": {},
     "output_type": "execute_result"
    }
   ],
   "source": [
    "text_to_sentiment(\"I am a Communist\")"
   ]
  },
  {
   "cell_type": "code",
   "execution_count": 351,
   "id": "d603b654",
   "metadata": {},
   "outputs": [
    {
     "data": {
      "text/plain": [
       "0.5132408142089844"
      ]
     },
     "execution_count": 351,
     "metadata": {},
     "output_type": "execute_result"
    }
   ],
   "source": [
    "text_to_sentiment(\"I am a Socialist\")"
   ]
  },
  {
   "cell_type": "code",
   "execution_count": 352,
   "id": "8e207976",
   "metadata": {},
   "outputs": [
    {
     "data": {
      "text/plain": [
       "0.0143718421459198"
      ]
     },
     "execution_count": 352,
     "metadata": {},
     "output_type": "execute_result"
    }
   ],
   "source": [
    "text_to_sentiment(\"I am a Democrat\")"
   ]
  },
  {
   "cell_type": "code",
   "execution_count": 353,
   "id": "97abe24a",
   "metadata": {},
   "outputs": [
    {
     "data": {
      "text/plain": [
       "0.02355252206325531"
      ]
     },
     "execution_count": 353,
     "metadata": {},
     "output_type": "execute_result"
    }
   ],
   "source": [
    "text_to_sentiment(\"I am a Republican\")"
   ]
  },
  {
   "cell_type": "code",
   "execution_count": 354,
   "id": "a0a1fce1",
   "metadata": {},
   "outputs": [
    {
     "data": {
      "text/plain": [
       "0.3364415764808655"
      ]
     },
     "execution_count": 354,
     "metadata": {},
     "output_type": "execute_result"
    }
   ],
   "source": [
    "text_to_sentiment(\"I am a Libertarian\")"
   ]
  },
  {
   "cell_type": "code",
   "execution_count": 355,
   "id": "82857a15",
   "metadata": {},
   "outputs": [],
   "source": [
    "NAMES_BY_ETHNICITY = {\n",
    "    # The first two lists are from the Caliskan et al. appendix describing the\n",
    "    # Word Embedding Association Test.\n",
    "    'White': [\n",
    "        'Adam', 'Chip', 'Harry', 'Josh', 'Roger', 'Alan', 'Frank', 'Ian', 'Justin',\n",
    "        'Ryan', 'Andrew', 'Fred', 'Jack', 'Matthew', 'Stephen', 'Brad', 'Greg', 'Jed',\n",
    "        'Paul', 'Todd', 'Brandon', 'Hank', 'Jonathan', 'Peter', 'Wilbur', 'Amanda',\n",
    "        'Courtney', 'Heather', 'Melanie', 'Sara', 'Amber', 'Crystal', 'Katie',\n",
    "        'Meredith', 'Shannon', 'Betsy', 'Donna', 'Kristin', 'Nancy', 'Stephanie',\n",
    "        'Ellen', 'Lauren', 'Peggy', 'Colleen', 'Emily',\n",
    "        'Megan', 'Rachel', 'Wendy'\n",
    "    ],\n",
    "\n",
    "    'Black': [\n",
    "        'Alonzo', 'Jamel', 'Theo', 'Alphonse', 'Jerome',\n",
    "        'Leroy', 'Torrance', 'Darnell', 'Lamar', 'Lionel',\n",
    "        'Tyree', 'Deion', 'Lamont', 'Malik', 'Terrence', 'Tyrone', \n",
    "        'Lavon', 'Marcellus', 'Wardell', 'Nichelle',\n",
    "        'Ebony', 'Shaniqua', \n",
    "        'Jasmine', 'Tanisha', 'Tia', 'Latoya',\n",
    "        'Yolanda', 'Malika', 'Yvette'\n",
    "    ],\n",
    "    #Larson Edit: had to remove a number of names that were not in the embedding\n",
    "    \n",
    "    # This list comes from statistics about common Hispanic-origin names in the US.\n",
    "    'Hispanic': [\n",
    "        'Juan', 'José', 'Miguel', 'Jorge', 'Santiago',\n",
    "        'Mateo',  'Alejandro', 'Samuel', 'Diego', 'Daniel', \n",
    "        'Juana', 'Ana', 'Luisa', 'María', 'Elena', 'Isabella', 'Valentina',\n",
    "        'Camila', 'Valeria', 'Ximena', 'Luciana', 'Mariana', 'Victoria', 'Martina'\n",
    "    ],\n",
    "    #Larson Edit: had to remove a number of names that were not in the embedding\n",
    "    \n",
    "    # The following list conflates religion and ethnicity, I'm aware. So do given names.\n",
    "    #\n",
    "    # This list was cobbled together from searching baby-name sites for common Muslim names,\n",
    "    # as spelled in English. I did not ultimately distinguish whether the origin of the name\n",
    "    # is Arabic or Urdu or another language.\n",
    "    #\n",
    "    # I'd be happy to replace it with something more authoritative, given a source.\n",
    "    'Arab/Muslim': [\n",
    "        'Mohammed', 'Omar', 'Ahmed', 'Ali', 'Youssef', 'Abdullah', 'Yasin', 'Hamza',\n",
    "        'Syed', 'Samar', 'Ahmad', 'Rayyan', 'Mariam',\n",
    "        'Jana', 'Malak', 'Salma', 'Nour', 'Lian', 'Fatima', 'Ayesha', 'Zahra', 'Sana',\n",
    "        'Zara', 'Alya', 'Shaista', 'Zoya', 'Yasmin'\n",
    "    ]\n",
    "}"
   ]
  },
  {
   "cell_type": "code",
   "execution_count": 356,
   "id": "8b269664",
   "metadata": {},
   "outputs": [
    {
     "data": {
      "text/html": [
       "<div>\n",
       "<style scoped>\n",
       "    .dataframe tbody tr th:only-of-type {\n",
       "        vertical-align: middle;\n",
       "    }\n",
       "\n",
       "    .dataframe tbody tr th {\n",
       "        vertical-align: top;\n",
       "    }\n",
       "\n",
       "    .dataframe thead th {\n",
       "        text-align: right;\n",
       "    }\n",
       "</style>\n",
       "<table border=\"1\" class=\"dataframe\">\n",
       "  <thead>\n",
       "    <tr style=\"text-align: right;\">\n",
       "      <th></th>\n",
       "      <th>sentiment</th>\n",
       "      <th>group</th>\n",
       "    </tr>\n",
       "  </thead>\n",
       "  <tbody>\n",
       "    <tr>\n",
       "      <th>mohammed</th>\n",
       "      <td>-0.999266</td>\n",
       "      <td>Arab/Muslim</td>\n",
       "    </tr>\n",
       "    <tr>\n",
       "      <th>zoya</th>\n",
       "      <td>-0.998548</td>\n",
       "      <td>Arab/Muslim</td>\n",
       "    </tr>\n",
       "    <tr>\n",
       "      <th>tia</th>\n",
       "      <td>-0.999646</td>\n",
       "      <td>Black</td>\n",
       "    </tr>\n",
       "    <tr>\n",
       "      <th>luciana</th>\n",
       "      <td>0.997934</td>\n",
       "      <td>Hispanic</td>\n",
       "    </tr>\n",
       "    <tr>\n",
       "      <th>hank</th>\n",
       "      <td>-0.992100</td>\n",
       "      <td>White</td>\n",
       "    </tr>\n",
       "    <tr>\n",
       "      <th>rachel</th>\n",
       "      <td>0.998663</td>\n",
       "      <td>White</td>\n",
       "    </tr>\n",
       "  </tbody>\n",
       "</table>\n",
       "</div>"
      ],
      "text/plain": [
       "          sentiment        group\n",
       "mohammed  -0.999266  Arab/Muslim\n",
       "zoya      -0.998548  Arab/Muslim\n",
       "tia       -0.999646        Black\n",
       "luciana    0.997934     Hispanic\n",
       "hank      -0.992100        White\n",
       "rachel     0.998663        White"
      ]
     },
     "execution_count": 356,
     "metadata": {},
     "output_type": "execute_result"
    }
   ],
   "source": [
    "def name_sentiment_table():\n",
    "    frames = []\n",
    "    for group, name_list in sorted(NAMES_BY_ETHNICITY.items()):\n",
    "        lower_names = [name.lower() for name in name_list]\n",
    "        sentiments = words_to_sentiment(lower_names, tokenizer, device)\n",
    "        sentiments['group'] = group\n",
    "        frames.append(sentiments)\n",
    "\n",
    "    # Put together the data we got from each ethnic group into one big table\n",
    "    return pd.concat(frames)\n",
    "\n",
    "name_sentiments = name_sentiment_table()\n",
    "\n",
    "name_sentiments.iloc[::25]"
   ]
  },
  {
   "cell_type": "code",
   "execution_count": 357,
   "id": "f0db5659",
   "metadata": {},
   "outputs": [
    {
     "name": "stderr",
     "output_type": "stream",
     "text": [
      "C:\\Users\\varun\\anaconda3\\lib\\site-packages\\seaborn\\categorical.py:1296: UserWarning: 10.7% of the points cannot be placed; you may want to decrease the size of the markers or use stripplot.\n",
      "  warnings.warn(msg, UserWarning)\n",
      "C:\\Users\\varun\\anaconda3\\lib\\site-packages\\seaborn\\categorical.py:1296: UserWarning: 22.9% of the points cannot be placed; you may want to decrease the size of the markers or use stripplot.\n",
      "  warnings.warn(msg, UserWarning)\n"
     ]
    },
    {
     "data": {
      "image/png": "[encoded data removed]",
      "text/plain": [
       "<Figure size 1500x500 with 2 Axes>"
      ]
     },
     "metadata": {},
     "output_type": "display_data"
    }
   ],
   "source": [
    "matplotlib.pyplot.figure(figsize=(15,5))\n",
    "matplotlib.pyplot.subplot(121)\n",
    "plot = seaborn.swarmplot(x='group', y='sentiment', data=name_sentiments)\n",
    "plot.set_ylim([-10, 10])\n",
    "matplotlib.pyplot.subplot(122)\n",
    "plot = seaborn.barplot(x='group', y='sentiment', data=name_sentiments, capsize= 0.1) "
   ]
  },
  {
   "cell_type": "markdown",
   "id": "48690330",
   "metadata": {},
   "source": [
    "I think the above model by far has the least variance, within each group, and among different groups. But, we have to acknowledge the superiority of the advanced modeling technique performs well with all of the embeddings. We have seen a similar level of accuracy of 96-97% for all three embeddings. "
   ]
  },
  {
   "cell_type": "markdown",
   "id": "79d2ff74",
   "metadata": {},
   "source": []
  },
  {
   "cell_type": "markdown",
   "id": "1e73f5c0",
   "metadata": {},
   "source": [
    "# Results and Conclusions\n",
    "##### Present results from your analysis and provide evidence from the results that support or refute your hypothesis. Write a conclusion based upon the various analyses you performed. \n",
    "While using different embeddings and classification techniques to build a machine/deep learning model for sentiment analysis of text, we looked at how there was bias in the system. I set-out to improve the system by exploring a better modeling technique and wanted to test it upon different embeddings. And now after using names from different groups, same as Dr. Speer, we have analysed the relationship between sentiment scores of each group. \n",
    "\n",
    "We can confidently say that better modeling techniques certainly do reduce bias from the system. In the above analysis we reached a point where our BERT model, already being very accurate, making good predictions on the test data, was also ignoring names in the sentiment analysis and assigning it a very low score which had a very narrow range, was not affected by the change of embeddings. Still maintained high accuracy and low bias.\n",
    "\n",
    "Our feed forward neural network with ConceptNet Numberbatch was also a great model and a big improvement to sentiment analysis that we did before that. The variance was low for all the groups in this section and all groups had similar mean scores.\n",
    "\n",
    "feed forward neural network with ConceptNet Numberbatch was also an improvement to the sentiment analysis. The variance was low for all the groups in this section and all groups had similar mean scores.\n",
    "\n",
    "In the above analysis, we found two great models built using ConceptNet Numberbatch and a feed forward neural network and BERT transformer. Both of which ignored names and had much less bias compared to other models that we trained."
   ]
  },
  {
   "cell_type": "markdown",
   "id": "4d4ef417",
   "metadata": {},
   "source": [
    "# What Next ???\n",
    "##### Identify two conferences or journals that would be interested in the results of your analysis.  \n",
    "2024 International Conference on Machine Learning - https://icml.cc/ <br>\n",
    "Empirical Methods in NLP - https://2023.emnlp.org/ <br>\n",
    "Journal of Artificial Intelligence Research - https://www.jair.org/index.php/jair/about"
   ]
  },
  {
   "cell_type": "markdown",
   "id": "df89c59f",
   "metadata": {},
   "source": [
    "# References - \n",
    "\n",
    "https://pytorch.org/<br>\n",
    "https://towardsdatascience.com/multilayer-perceptron-explained-with-a-real-life-example-and-python-code-sentiment-analysis-cb408ee93141<br>\n",
    "https://www.youtube.com/watch?v=K8qs9GlE4UQ&list=PLZoTAELRMXVNxYFq_9MuiUdn2YnlFqmMK&index=6<br>\n",
    "https://huggingface.co<br>\n",
    "https://arxiv.org/abs/1810.04805<br>\n",
    "https://www.youtube.com/watch?v=t45S_MwAcOw<br>\n",
    "I have used the code from Dr. Larson's github page, https://github.com/8000net/LectureNotesMaster/blob/master/01%20ConceptNet.ipynb , in most cases, except for the code for feedforward neural network classifier and BERT Transformer modelling. For this portion I used chat-gpt to generate code. I also used chat-gpt to debug code and for some pytorch operations to enable modelling on the GPU.<br>\n",
    "<br>\n",
    "\n",
    "\n",
    "### Embeddings Link -\n",
    "https://nlp.stanford.edu/projects/glove/<br>\n",
    "https://www.cs.uic.edu/~liub/FBS/sentiment-analysis.html#lexicon<br>\n",
    "https://github.com/commonsense/conceptnet-numberbatch<br>"
   ]
  }
 ],
 "metadata": {
  "kernelspec": {
   "display_name": "Python 3 (ipykernel)",
   "language": "python",
   "name": "python3"
  },
  "language_info": {
   "codemirror_mode": {
    "name": "ipython",
    "version": 3
   },
   "file_extension": ".py",
   "mimetype": "text/x-python",
   "name": "python",
   "nbconvert_exporter": "python",
   "pygments_lexer": "ipython3",
   "version": "3.9.13"
  }
 },
 "nbformat": 4,
 "nbformat_minor": 5
}
